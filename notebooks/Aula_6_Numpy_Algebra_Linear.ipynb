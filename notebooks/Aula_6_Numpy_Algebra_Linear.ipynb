{
 "cells": [
  {
   "cell_type": "markdown",
   "metadata": {
    "slideshow": {
     "slide_type": "skip"
    }
   },
   "source": [
    "[![Binder](https://mybinder.org/badge_logo.svg)](https://mybinder.org/v2/gh/storopoli/ciencia-de-dados/master?filepath=notebooks%2FAula_6_Numpy_Algebra_Linear.ipynb)\n",
    "<br>\n",
    "[![Open In Colab](https://colab.research.google.com/assets/colab-badge.svg)](https://colab.research.google.com/github/storopoli/ciencia-de-dados/blob/master/notebooks/Aula_6_Numpy_Algebra_Linear.ipynb)"
   ]
  },
  {
   "cell_type": "markdown",
   "metadata": {
    "slideshow": {
     "slide_type": "slide"
    }
   },
   "source": [
    "# Algebra Linear e `NumPy`\n",
    "\n",
    "**Objetivos**: Rever conceitos de Álgebra Linear e apresentar a biblioteca `NumPy`."
   ]
  },
  {
   "cell_type": "markdown",
   "metadata": {
    "slideshow": {
     "slide_type": "slide"
    }
   },
   "source": [
    "Recomendo assistirem a série *Essence of Linear Algebra* do canal do YouTube [3blue1brown](https://www.youtube.com/channel/UCYO_jab_esuFRV4b17AJtAw)\n",
    "\n",
    "\n",
    "\n",
    "[<img src=\"https://i.ytimg.com/vi/kjBOesZCoqc/maxresdefault.jpg\" alt=\"Essence of Linear Algebra\" style=\"width: 300px;\"/>](https://www.youtube.com/playlist?list=PLZHQObOWTQDPD3MizzM2xVFitgF8hE_ab)"
   ]
  },
  {
   "cell_type": "markdown",
   "metadata": {
    "slideshow": {
     "slide_type": "subslide"
    }
   },
   "source": [
    "## Notação\n",
    "\n",
    "Matriz $\\mathbf{A} \\in \\mathbb{R}^{m \\times n}$\n",
    "\n",
    "Vetor $\\vec{v} \\in \\mathbb{R}^{n}$"
   ]
  },
  {
   "cell_type": "markdown",
   "metadata": {
    "slideshow": {
     "slide_type": "subslide"
    }
   },
   "source": [
    "## Matriz\n",
    "\n",
    "Matriz $\\mathbf{A} \\in \\mathbb{R}^{2 \\times 3}$\n",
    "\n",
    "$$\\mathbf{A} = \\left[\\begin{array}{lll}{1} & {2} & {3} \\\\ {4} & {5} & {6}\\end{array}\\right]$$"
   ]
  },
  {
   "cell_type": "markdown",
   "metadata": {
    "slideshow": {
     "slide_type": "subslide"
    }
   },
   "source": [
    "## Vetor\n",
    "Vetor $\\vec{v} \\in \\mathbb{R}^{3}$\n",
    "\n",
    "$$\\vec{v} = \\left[\\begin{array}{l}{1} \\\\ {2} \\\\ {3}\\end{array}\\right]$$\n"
   ]
  },
  {
   "cell_type": "code",
   "execution_count": 1,
   "metadata": {
    "slideshow": {
     "slide_type": "subslide"
    }
   },
   "outputs": [
    {
     "name": "stdout",
     "output_type": "stream",
     "text": [
      "[[1 2 3]\n",
      " [4 5 6]]\n",
      "[1 2 3]\n"
     ]
    }
   ],
   "source": [
    "import numpy as np\n",
    "A = np.array([[1,2,3],\n",
    "              [4,5,6]])\n",
    "v = np.array([1,\n",
    "              2,\n",
    "              3])\n",
    "print(A)\n",
    "print(v)"
   ]
  },
  {
   "cell_type": "markdown",
   "metadata": {
    "slideshow": {
     "slide_type": "slide"
    }
   },
   "source": [
    "## Multiplicação de Matrizes\n",
    "\n",
    "O produto $\\mathbf{AB}$ das matrizes $\\mathbf{A} \\in \\mathbb{R}^{m \\times \\ell}$ e $\\mathbf{B} \\in \\mathbb{R}^{\\ell \\times n}$ consiste em computar o produto entre cada linha da $\\mathbf{A}$ com cada coluna de $\\mathbf{B}$:\n",
    "\n",
    "$$\\mathbf{C}=\\mathbf{A} \\mathbf{B} \\quad \\Leftrightarrow \\quad c_{i j}=\\sum_{k=1}^{\\ell} a_{i k} b_{k j}, \\forall i \\in[1, \\ldots, m], j \\in[1, \\ldots, n].$$\n",
    "\n",
    "$$\\left[\\begin{array}{ll}{a_{11}} & {a_{12}} \\\\ {a_{21}} & {a_{22}} \\\\ {a_{31}} & {a_{32}}\\end{array}\\right]\\left[\\begin{array}{ll}{b_{11}} & {b_{12}} \\\\ {b_{21}} & {b_{22}}\\end{array}\\right]=\\left[\\begin{array}{ll}{a_{11} b_{11}+a_{12} b_{21}} & {a_{11} b_{12}+a_{12} b_{22}} \\\\ {a_{21} b_{11}+a_{22} b_{21}} & {a_{21} b_{12}+a_{22} b_{22}} \\\\ {a_{31} b_{11}+a_{32} b_{21}} & {a_{31} b_{12}+a_{32} b_{22}}\\end{array}\\right] \\in \\mathbb{R}^{3 \\times 2}.$$\n"
   ]
  },
  {
   "cell_type": "markdown",
   "metadata": {
    "slideshow": {
     "slide_type": "subslide"
    }
   },
   "source": [
    "![matrix-multiplication](https://f0.pngfuel.com/png/267/924/matrix-multiplication-field-row-the-matrix-png-clip-art.png)"
   ]
  },
  {
   "cell_type": "markdown",
   "metadata": {
    "slideshow": {
     "slide_type": "subslide"
    }
   },
   "source": [
    "### Multiplicação de Vetor por Matriz\n",
    "\n",
    "$$\\textbf{A} \\vec{x}=\\left[\\begin{array}{ccc}\n",
    "1 & 4 & 5 \\\\\n",
    "3 & 2 & 5 \\\\\n",
    "2 & 1 & 3\n",
    "\\end{array}\\right]\\left[\\begin{array}{c}\n",
    "x_{1} \\\\\n",
    "x_{2} \\\\\n",
    "x_{3}\n",
    "\\end{array}\\right]=\\left[\\begin{array}{c}\n",
    "1 \\\\\n",
    "3 \\\\\n",
    "2\n",
    "\\end{array}\\right] x_{1}+\\left[\\begin{array}{c}\n",
    "4 \\\\\n",
    "2 \\\\\n",
    "1\n",
    "\\end{array}\\right] x_{2}+\\left[\\begin{array}{c}\n",
    "5 \\\\\n",
    "5 \\\\\n",
    "3\n",
    "\\end{array}\\right] x_{3}$$"
   ]
  },
  {
   "cell_type": "code",
   "execution_count": 2,
   "metadata": {
    "slideshow": {
     "slide_type": "subslide"
    }
   },
   "outputs": [
    {
     "data": {
      "text/plain": [
       "array([[ 9,  0],\n",
       "       [ 0, 25],\n",
       "       [ 3, 25]])"
      ]
     },
     "execution_count": 2,
     "metadata": {},
     "output_type": "execute_result"
    }
   ],
   "source": [
    "A = np.array([[3,0],\n",
    "              [0,5],\n",
    "              [1,5]])\n",
    "B = np.array([[3,0],\n",
    "              [0,5]])\n",
    "\n",
    "np.dot(A,B)"
   ]
  },
  {
   "cell_type": "markdown",
   "metadata": {
    "slideshow": {
     "slide_type": "slide"
    }
   },
   "source": [
    "## *Digressão* - Por que Matrizes são Importantes?\n",
    "\n",
    "Todo dado estruturado é representado como matrizes no computador. Veja o caso de imagens. Elas são literalmente matrizes multidimensionais.\n",
    "\n",
    "* Uma imagem colorida é uma Array de dimensão $X \\times Y \\times 3$:\n",
    "    * $X$ = quantidade de pixels no eixo horizontal\n",
    "    * $y$ = quantidade de pixels no eixo vertical\n",
    "    * $3$ = são 3 canais de cores - **R**ed, **G**reen e **B**lue"
   ]
  },
  {
   "cell_type": "markdown",
   "metadata": {
    "slideshow": {
     "slide_type": "subslide"
    }
   },
   "source": [
    "<img src=\"images/images_as_matrix.png\" alt=\"Row vs Cols\" style=\"width: 500px;\"/>"
   ]
  },
  {
   "cell_type": "code",
   "execution_count": 3,
   "metadata": {
    "slideshow": {
     "slide_type": "subslide"
    }
   },
   "outputs": [
    {
     "name": "stdout",
     "output_type": "stream",
     "text": [
      "(562, 450)\n"
     ]
    },
    {
     "data": {
      "text/plain": [
       "<matplotlib.image.AxesImage at 0x1156269a0>"
      ]
     },
     "execution_count": 3,
     "metadata": {},
     "output_type": "execute_result"
    },
    {
     "data": {
      "image/png": "[encoded data removed]",
      "text/plain": [
       "<Figure size 432x288 with 1 Axes>"
      ]
     },
     "metadata": {
      "needs_background": "light"
     },
     "output_type": "display_data"
    }
   ],
   "source": [
    "import matplotlib.pyplot as plt\n",
    "feynman = plt.imread(\"images/feynman.png\")\n",
    "print(feynman.shape)\n",
    "plt.imshow(feynman, cmap='gray')"
   ]
  },
  {
   "cell_type": "markdown",
   "metadata": {
    "slideshow": {
     "slide_type": "subslide"
    }
   },
   "source": [
    "### Convoluções\n",
    "\n",
    "<img src=\"images/convolution.gif\" alt=\"Row vs Cols\" style=\"width: 400px;\"/>"
   ]
  },
  {
   "cell_type": "code",
   "execution_count": 4,
   "metadata": {
    "slideshow": {
     "slide_type": "fragment"
    }
   },
   "outputs": [],
   "source": [
    "from scipy.signal import convolve"
   ]
  },
  {
   "cell_type": "markdown",
   "metadata": {
    "slideshow": {
     "slide_type": "subslide"
    }
   },
   "source": [
    "### Filtros\n",
    "\n",
    "Temos vários. Veja essa [página na Wikipedia](https://en.wikipedia.org/wiki/Kernel_(image_processing))."
   ]
  },
  {
   "cell_type": "markdown",
   "metadata": {
    "slideshow": {
     "slide_type": "subslide"
    }
   },
   "source": [
    "#### Detecção de Bordas (*Edge Detection*)\n",
    "\n",
    "$$\n",
    "\\left[\\begin{array}{lll}\n",
    "{-1} & {-1} & {-1} \\\\\n",
    "{-1} & {+8} & {-1} \\\\\n",
    "{-1} & {-1} & {-1}\n",
    "\\end{array}\\right]\n",
    "$$"
   ]
  },
  {
   "cell_type": "code",
   "execution_count": 5,
   "metadata": {
    "slideshow": {
     "slide_type": "subslide"
    }
   },
   "outputs": [],
   "source": [
    "edge_detect = np.array([[-1, -1, -1],\n",
    "                       [-1, 8, -1],\n",
    "                       [-1, -1, -1]]) "
   ]
  },
  {
   "cell_type": "code",
   "execution_count": 6,
   "metadata": {
    "slideshow": {
     "slide_type": "subslide"
    }
   },
   "outputs": [
    {
     "data": {
      "text/plain": [
       "<matplotlib.image.AxesImage at 0x117d77760>"
      ]
     },
     "execution_count": 6,
     "metadata": {},
     "output_type": "execute_result"
    },
    {
     "data": {
      "image/png": "[encoded data removed]",
      "text/plain": [
       "<Figure size 432x288 with 1 Axes>"
      ]
     },
     "metadata": {
      "needs_background": "light"
     },
     "output_type": "display_data"
    }
   ],
   "source": [
    "feynman_edge = convolve(feynman, edge_detect)\n",
    "plt.imshow(feynman_edge, cmap='gray')"
   ]
  },
  {
   "cell_type": "markdown",
   "metadata": {
    "slideshow": {
     "slide_type": "subslide"
    }
   },
   "source": [
    "#### Aumento de Nitidez (*Sharpen*)\n",
    "\n",
    "$$\n",
    "\\left[\\begin{array}{lll}\n",
    "{0} & {-1} & {0} \\\\\n",
    "{-1} & {+5} & {-1} \\\\\n",
    "{0} & {-1} & {0}\n",
    "\\end{array}\\right]\n",
    "$$"
   ]
  },
  {
   "cell_type": "code",
   "execution_count": 7,
   "metadata": {
    "slideshow": {
     "slide_type": "subslide"
    }
   },
   "outputs": [],
   "source": [
    "sharpen = np.array([[0, -1, 0],\n",
    "                    [-1, 5, -1],\n",
    "                    [0, -1, 0]]) "
   ]
  },
  {
   "cell_type": "code",
   "execution_count": 8,
   "metadata": {
    "slideshow": {
     "slide_type": "subslide"
    }
   },
   "outputs": [
    {
     "data": {
      "text/plain": [
       "<matplotlib.image.AxesImage at 0x117dd4070>"
      ]
     },
     "execution_count": 8,
     "metadata": {},
     "output_type": "execute_result"
    },
    {
     "data": {
      "image/png": "[encoded data removed]",
      "text/plain": [
       "<Figure size 432x288 with 1 Axes>"
      ]
     },
     "metadata": {
      "needs_background": "light"
     },
     "output_type": "display_data"
    }
   ],
   "source": [
    "feynman_sharpen = convolve(feynman, sharpen)\n",
    "plt.imshow(feynman_sharpen, cmap='gray')"
   ]
  },
  {
   "cell_type": "markdown",
   "metadata": {
    "slideshow": {
     "slide_type": "subslide"
    }
   },
   "source": [
    "#### Desfoque (*Blur*)\n",
    "\n",
    "$$\n",
    "\\frac{1}{16}\n",
    "\\left[\\begin{array}{lll}\n",
    "1 & 2 & 1 \\\\\n",
    "2 & 4 & 2 \\\\\n",
    "1 & 2 & 1\n",
    "\\end{array}\\right]\n",
    "$$"
   ]
  },
  {
   "cell_type": "code",
   "execution_count": 9,
   "metadata": {
    "slideshow": {
     "slide_type": "subslide"
    }
   },
   "outputs": [],
   "source": [
    "blur = np.array([[1, 2, 1],\n",
    "                 [2, 4, 2],\n",
    "                 [1, 2, 1]]) / 16"
   ]
  },
  {
   "cell_type": "code",
   "execution_count": 10,
   "metadata": {
    "slideshow": {
     "slide_type": "subslide"
    }
   },
   "outputs": [
    {
     "data": {
      "text/plain": [
       "<matplotlib.image.AxesImage at 0x117e334c0>"
      ]
     },
     "execution_count": 10,
     "metadata": {},
     "output_type": "execute_result"
    },
    {
     "data": {
      "image/png": "[encoded data removed]",
      "text/plain": [
       "<Figure size 432x288 with 1 Axes>"
      ]
     },
     "metadata": {
      "needs_background": "light"
     },
     "output_type": "display_data"
    }
   ],
   "source": [
    "feynman_blur = convolve(feynman, blur)\n",
    "plt.imshow(feynman_blur, cmap='gray')"
   ]
  },
  {
   "cell_type": "markdown",
   "metadata": {
    "slideshow": {
     "slide_type": "slide"
    }
   },
   "source": [
    "## Matriz Transposta\n",
    "\n",
    "A matriz transposta $\\mathbf{A}^T$ é definida pela fórmula $a{^T}_{ij} = a_{ji}$. Em outras palavras, obtemos a transposição por “virar” a matriz pela sua diagonal:\n",
    "\n",
    "$$^{T}: \\mathbb{R}^{m \\times n} \\rightarrow \\mathbb{R}^{n \\times m}$$\n",
    "\n",
    "$$\\left[\\begin{array}{lll}{\\alpha_{1}} & {\\alpha_{2}} & {\\alpha_{3}} \\\\ {\\beta_{1}} & {\\beta_{2}} & {\\beta_{3}}\\end{array}\\right]^{\\top}=\\left[\\begin{array}{ll}{\\alpha_{1}} & {\\beta_{1}} \\\\ {\\alpha_{2}} & {\\beta_{2}} \\\\ {\\alpha_{3}} & {\\beta_{3}}\\end{array}\\right]$$"
   ]
  },
  {
   "cell_type": "code",
   "execution_count": 11,
   "metadata": {
    "slideshow": {
     "slide_type": "subslide"
    }
   },
   "outputs": [
    {
     "data": {
      "text/plain": [
       "array([[1, 4],\n",
       "       [2, 5],\n",
       "       [3, 6]])"
      ]
     },
     "execution_count": 11,
     "metadata": {},
     "output_type": "execute_result"
    }
   ],
   "source": [
    "A = np.array([[1,2,3],\n",
    "              [4,5,6]])\n",
    "\n",
    "A.T"
   ]
  },
  {
   "cell_type": "markdown",
   "metadata": {
    "slideshow": {
     "slide_type": "slide"
    }
   },
   "source": [
    "## Determinante\n",
    "A determinante de uma matriz é um procedimento que envolve todos os elementos da matriz, e que o resultado é um número único:\n",
    "\n",
    "$$\\operatorname{det}: \\mathbb{R}^{n \\times n} \\rightarrow \\mathbb{R}.$$\n",
    "\n",
    "A determinante descreve a geometria relativa dos vetores que fazem as linhas de uma matriz. Mais especificamente, a determinante de uma matriz $\\mathbf{A}$ diz respeito sobre o *volume* de uma caixa com os lados dados pelas linhas de $\\mathbf{A}$.\n",
    "\n",
    "A determinante de uma matriz $2 \\times 2$ é:\n",
    "\n",
    "$$\\operatorname{det}(\\mathbf{A})=\\operatorname{det}\\left(\\left[\\begin{array}{ll}{a} & {b} \\\\ {c} & {d}\\end{array}\\right]\\right)=\\left|\\begin{array}{ll}{a} & {b} \\\\ {c} & {d}\\end{array}\\right|=a d-b c$$"
   ]
  },
  {
   "cell_type": "code",
   "execution_count": 12,
   "metadata": {
    "slideshow": {
     "slide_type": "subslide"
    }
   },
   "outputs": [
    {
     "data": {
      "text/plain": [
       "-2.0000000000000004"
      ]
     },
     "execution_count": 12,
     "metadata": {},
     "output_type": "execute_result"
    }
   ],
   "source": [
    "A = np.array([[1,2],\n",
    "              [3,4]])\n",
    "np.linalg.det(A)"
   ]
  },
  {
   "cell_type": "markdown",
   "metadata": {
    "slideshow": {
     "slide_type": "slide"
    }
   },
   "source": [
    "## Matrizes e Vetores no NumPy\n",
    "\n",
    "Todas as matrizes e vetores são chamadas de `arrays` no NumPy"
   ]
  },
  {
   "cell_type": "markdown",
   "metadata": {
    "slideshow": {
     "slide_type": "slide"
    }
   },
   "source": [
    "### Criando `array`"
   ]
  },
  {
   "cell_type": "code",
   "execution_count": 13,
   "metadata": {
    "slideshow": {
     "slide_type": "fragment"
    }
   },
   "outputs": [
    {
     "data": {
      "text/plain": [
       "array([[1, 2, 3],\n",
       "       [4, 5, 6]])"
      ]
     },
     "execution_count": 13,
     "metadata": {},
     "output_type": "execute_result"
    }
   ],
   "source": [
    "A = np.array([[1,2,3],\n",
    "              [4,5,6]])\n",
    "A"
   ]
  },
  {
   "cell_type": "markdown",
   "metadata": {
    "slideshow": {
     "slide_type": "subslide"
    }
   },
   "source": [
    "$$\\left[\\begin{array}{lll}{0} & {0} & {0} \\\\ {0} & {0} & {0}\\end{array}\\right]$$"
   ]
  },
  {
   "cell_type": "code",
   "execution_count": 14,
   "metadata": {
    "slideshow": {
     "slide_type": "fragment"
    }
   },
   "outputs": [
    {
     "data": {
      "text/plain": [
       "array([[0., 0., 0.],\n",
       "       [0., 0., 0.]])"
      ]
     },
     "execution_count": 14,
     "metadata": {},
     "output_type": "execute_result"
    }
   ],
   "source": [
    "A = np.zeros((2,3))\n",
    "A"
   ]
  },
  {
   "cell_type": "markdown",
   "metadata": {
    "slideshow": {
     "slide_type": "subslide"
    }
   },
   "source": [
    "$$\\left[\\begin{array}{lll}{1} & {1} & {1} \\\\ {1} & {1} & {1}\\end{array}\\right]$$"
   ]
  },
  {
   "cell_type": "code",
   "execution_count": 15,
   "metadata": {
    "slideshow": {
     "slide_type": "fragment"
    }
   },
   "outputs": [
    {
     "data": {
      "text/plain": [
       "array([[1., 1., 1.],\n",
       "       [1., 1., 1.]])"
      ]
     },
     "execution_count": 15,
     "metadata": {},
     "output_type": "execute_result"
    }
   ],
   "source": [
    "A = np.ones((2,3))\n",
    "A"
   ]
  },
  {
   "cell_type": "markdown",
   "metadata": {
    "slideshow": {
     "slide_type": "subslide"
    }
   },
   "source": [
    "$$I_3 = \\left[\\begin{array}{lll}{1} & {0} & {0} \\\\ {0} & {1} & {0} \\\\ {0} & {0} & {1} \\end{array}\\right]$$"
   ]
  },
  {
   "cell_type": "code",
   "execution_count": 16,
   "metadata": {
    "slideshow": {
     "slide_type": "fragment"
    }
   },
   "outputs": [
    {
     "data": {
      "text/plain": [
       "array([[1., 0., 0.],\n",
       "       [0., 1., 0.],\n",
       "       [0., 0., 1.]])"
      ]
     },
     "execution_count": 16,
     "metadata": {},
     "output_type": "execute_result"
    }
   ],
   "source": [
    "A = np.eye(3)\n",
    "A"
   ]
  },
  {
   "cell_type": "markdown",
   "metadata": {
    "slideshow": {
     "slide_type": "subslide"
    }
   },
   "source": [
    "#### Intervalar"
   ]
  },
  {
   "cell_type": "code",
   "execution_count": 17,
   "metadata": {
    "slideshow": {
     "slide_type": "fragment"
    }
   },
   "outputs": [
    {
     "data": {
      "text/plain": [
       "array([1, 2, 3, 4, 5])"
      ]
     },
     "execution_count": 17,
     "metadata": {},
     "output_type": "execute_result"
    }
   ],
   "source": [
    "A = np.arange(1, 6, 1)\n",
    "A"
   ]
  },
  {
   "cell_type": "code",
   "execution_count": 18,
   "metadata": {
    "slideshow": {
     "slide_type": "subslide"
    }
   },
   "outputs": [
    {
     "data": {
      "text/plain": [
       "array([0.  , 0.25, 0.5 , 0.75, 1.  , 1.25, 1.5 , 1.75, 2.  ])"
      ]
     },
     "execution_count": 18,
     "metadata": {},
     "output_type": "execute_result"
    }
   ],
   "source": [
    "A = np.linspace(0, 2, 9) # 9 números de 0 a 2\n",
    "A"
   ]
  },
  {
   "cell_type": "code",
   "execution_count": 19,
   "metadata": {
    "slideshow": {
     "slide_type": "subslide"
    }
   },
   "outputs": [
    {
     "name": "stdout",
     "output_type": "stream",
     "text": [
      "A =  [0 1 2 3 4 5]\n",
      "B =  [[ 0  1  2]\n",
      " [ 3  4  5]\n",
      " [ 6  7  8]\n",
      " [ 9 10 11]]\n",
      "C =  [[[ 0  1  2  3]\n",
      "  [ 4  5  6  7]\n",
      "  [ 8  9 10 11]]\n",
      "\n",
      " [[12 13 14 15]\n",
      "  [16 17 18 19]\n",
      "  [20 21 22 23]]]\n"
     ]
    }
   ],
   "source": [
    "A = np.arange(6) # 1-D\n",
    "print('A = ', A)\n",
    "\n",
    "B = np.arange(12).reshape(4,3) # 2-D\n",
    "print('B = ', B)\n",
    "\n",
    "C = np.arange(24).reshape(2,3,4) # 3-D\n",
    "print('C = ', C)"
   ]
  },
  {
   "cell_type": "markdown",
   "metadata": {
    "slideshow": {
     "slide_type": "subslide"
    }
   },
   "source": [
    "#### Randômicos"
   ]
  },
  {
   "cell_type": "code",
   "execution_count": 20,
   "metadata": {
    "slideshow": {
     "slide_type": "fragment"
    }
   },
   "outputs": [
    {
     "data": {
      "text/plain": [
       "array([[0.7904658 , 0.24399984],\n",
       "       [0.37503525, 0.90156297],\n",
       "       [0.35326961, 0.85301751]])"
      ]
     },
     "execution_count": 20,
     "metadata": {},
     "output_type": "execute_result"
    }
   ],
   "source": [
    "A = np.random.rand(3, 2) # float entre 0 e 1\n",
    "A"
   ]
  },
  {
   "cell_type": "code",
   "execution_count": 21,
   "metadata": {
    "slideshow": {
     "slide_type": "subslide"
    }
   },
   "outputs": [
    {
     "data": {
      "text/plain": [
       "array([[5, 5],\n",
       "       [6, 9],\n",
       "       [1, 8]])"
      ]
     },
     "execution_count": 21,
     "metadata": {},
     "output_type": "execute_result"
    }
   ],
   "source": [
    "A = np.random.randint(1, 10, size = (3, 2)) # int entre 1 e 9\n",
    "A"
   ]
  },
  {
   "cell_type": "code",
   "execution_count": 22,
   "metadata": {
    "slideshow": {
     "slide_type": "subslide"
    }
   },
   "outputs": [
    {
     "data": {
      "text/plain": [
       "array([[1.15771651, 8.1796702 ],\n",
       "       [9.28153176, 8.72154934],\n",
       "       [1.83304142, 7.66315437]])"
      ]
     },
     "execution_count": 22,
     "metadata": {},
     "output_type": "execute_result"
    }
   ],
   "source": [
    "A = np.random.uniform(1, 10, size = (3, 2)) # float entre 1 e 9\n",
    "A"
   ]
  },
  {
   "cell_type": "code",
   "execution_count": 23,
   "metadata": {
    "slideshow": {
     "slide_type": "subslide"
    }
   },
   "outputs": [
    {
     "data": {
      "text/plain": [
       "array([[-1.37807511,  0.96187341],\n",
       "       [-0.25878498, -0.9096165 ],\n",
       "       [ 0.469069  , -0.43408857]])"
      ]
     },
     "execution_count": 23,
     "metadata": {},
     "output_type": "execute_result"
    }
   ],
   "source": [
    "A = np.random.normal(0, scale = 1, size = (3,2)) # normal media 0 e dp 1\n",
    "A"
   ]
  },
  {
   "cell_type": "markdown",
   "metadata": {
    "slideshow": {
     "slide_type": "slide"
    }
   },
   "source": [
    "### Propriedades de `array`"
   ]
  },
  {
   "cell_type": "code",
   "execution_count": 24,
   "metadata": {
    "slideshow": {
     "slide_type": "fragment"
    }
   },
   "outputs": [],
   "source": [
    "A = np.array([[1,2,3],\n",
    "              [4,5,6]])"
   ]
  },
  {
   "cell_type": "code",
   "execution_count": 25,
   "metadata": {
    "slideshow": {
     "slide_type": "subslide"
    }
   },
   "outputs": [
    {
     "data": {
      "text/plain": [
       "2"
      ]
     },
     "execution_count": 25,
     "metadata": {},
     "output_type": "execute_result"
    }
   ],
   "source": [
    "A.ndim"
   ]
  },
  {
   "cell_type": "code",
   "execution_count": 26,
   "metadata": {
    "slideshow": {
     "slide_type": "subslide"
    }
   },
   "outputs": [
    {
     "data": {
      "text/plain": [
       "(2, 3)"
      ]
     },
     "execution_count": 26,
     "metadata": {},
     "output_type": "execute_result"
    }
   ],
   "source": [
    "A.shape"
   ]
  },
  {
   "cell_type": "code",
   "execution_count": 27,
   "metadata": {
    "slideshow": {
     "slide_type": "subslide"
    }
   },
   "outputs": [
    {
     "data": {
      "text/plain": [
       "6"
      ]
     },
     "execution_count": 27,
     "metadata": {},
     "output_type": "execute_result"
    }
   ],
   "source": [
    "A.size"
   ]
  },
  {
   "cell_type": "markdown",
   "metadata": {
    "slideshow": {
     "slide_type": "slide"
    }
   },
   "source": [
    "### Operações de `array`"
   ]
  },
  {
   "cell_type": "code",
   "execution_count": 28,
   "metadata": {
    "slideshow": {
     "slide_type": "fragment"
    }
   },
   "outputs": [
    {
     "data": {
      "text/plain": [
       "array([20, 29, 38, 47])"
      ]
     },
     "execution_count": 28,
     "metadata": {},
     "output_type": "execute_result"
    }
   ],
   "source": [
    "a = np.array([20,30,40,50])\n",
    "b = np.array([0, 1, 2, 3])\n",
    "\n",
    "a - b"
   ]
  },
  {
   "cell_type": "code",
   "execution_count": 29,
   "metadata": {
    "slideshow": {
     "slide_type": "subslide"
    }
   },
   "outputs": [
    {
     "data": {
      "text/plain": [
       "array([0, 1, 4, 9])"
      ]
     },
     "execution_count": 29,
     "metadata": {},
     "output_type": "execute_result"
    }
   ],
   "source": [
    "b**2"
   ]
  },
  {
   "cell_type": "code",
   "execution_count": 30,
   "metadata": {
    "slideshow": {
     "slide_type": "subslide"
    }
   },
   "outputs": [
    {
     "data": {
      "text/plain": [
       "array([ True,  True, False, False])"
      ]
     },
     "execution_count": 30,
     "metadata": {},
     "output_type": "execute_result"
    }
   ],
   "source": [
    "a < 35"
   ]
  },
  {
   "cell_type": "markdown",
   "metadata": {
    "slideshow": {
     "slide_type": "subslide"
    }
   },
   "source": [
    "#### Multiplicações"
   ]
  },
  {
   "cell_type": "code",
   "execution_count": 31,
   "metadata": {
    "slideshow": {
     "slide_type": "fragment"
    }
   },
   "outputs": [],
   "source": [
    "A = np.array([[1,1],\n",
    "              [0,1]])\n",
    "B = np.array([[2,0],\n",
    "              [3,4]])"
   ]
  },
  {
   "cell_type": "code",
   "execution_count": 32,
   "metadata": {
    "slideshow": {
     "slide_type": "subslide"
    }
   },
   "outputs": [
    {
     "data": {
      "text/plain": [
       "array([[2, 0],\n",
       "       [0, 4]])"
      ]
     },
     "execution_count": 32,
     "metadata": {},
     "output_type": "execute_result"
    }
   ],
   "source": [
    "A * B # multiplicação elemento-por-elemento"
   ]
  },
  {
   "cell_type": "code",
   "execution_count": 33,
   "metadata": {
    "slideshow": {
     "slide_type": "subslide"
    }
   },
   "outputs": [
    {
     "data": {
      "text/plain": [
       "array([[5, 4],\n",
       "       [3, 4]])"
      ]
     },
     "execution_count": 33,
     "metadata": {},
     "output_type": "execute_result"
    }
   ],
   "source": [
    "A.dot(B) # multiplicação de Matriz"
   ]
  },
  {
   "cell_type": "markdown",
   "metadata": {
    "slideshow": {
     "slide_type": "subslide"
    }
   },
   "source": [
    "#### Operações Matemáticas"
   ]
  },
  {
   "cell_type": "code",
   "execution_count": 34,
   "metadata": {
    "slideshow": {
     "slide_type": "fragment"
    }
   },
   "outputs": [
    {
     "name": "stdout",
     "output_type": "stream",
     "text": [
      "[ 2.71828183  7.3890561  20.08553692]\n",
      "[1.         1.41421356 1.73205081]\n",
      "[0.         0.69314718 1.09861229]\n"
     ]
    }
   ],
   "source": [
    "B = np.array([1,2,3])\n",
    "\n",
    "print(np.exp(B))\n",
    "print(np.sqrt(B))\n",
    "print(np.log(B))"
   ]
  },
  {
   "cell_type": "markdown",
   "metadata": {
    "slideshow": {
     "slide_type": "slide"
    }
   },
   "source": [
    "### Indexando e fatiando `array`\n",
    "\n",
    "Arrays 1-D podem ser indexadas, fatiadas e iteradas que nem `list` e outras sequências Python"
   ]
  },
  {
   "cell_type": "code",
   "execution_count": 35,
   "metadata": {
    "slideshow": {
     "slide_type": "fragment"
    }
   },
   "outputs": [
    {
     "name": "stdout",
     "output_type": "stream",
     "text": [
      "3\n",
      "[3 4 5]\n",
      "[1 3 5]\n"
     ]
    }
   ],
   "source": [
    "A = np.array([1,2,3,4,5,6,7,8,9,10])\n",
    "\n",
    "print(A[2]) # terceiro elemento\n",
    "print(A[2:5]) # terceiro a quinto\n",
    "print(A[:6:2]) # primeiro a sexto elemento a cada 2 elementos"
   ]
  },
  {
   "cell_type": "markdown",
   "metadata": {
    "slideshow": {
     "slide_type": "subslide"
    }
   },
   "source": [
    "#### `arrays` Multidimensionais\n",
    "`arrays` N-D ($N>1$) podem ser indexadas por eixo"
   ]
  },
  {
   "cell_type": "code",
   "execution_count": 36,
   "metadata": {
    "slideshow": {
     "slide_type": "fragment"
    }
   },
   "outputs": [
    {
     "name": "stdout",
     "output_type": "stream",
     "text": [
      "4\n",
      "[2 5]\n"
     ]
    }
   ],
   "source": [
    "A = np.array([[1,2,3],\n",
    "              [4,5,6],\n",
    "              [7,8,9]])\n",
    "\n",
    "print(A[1, 0]) # segunda linha, primeira coluna\n",
    "print(A[:2, 1]) # primeira à segunda linha, apenas da segunda coluna"
   ]
  },
  {
   "cell_type": "markdown",
   "metadata": {
    "slideshow": {
     "slide_type": "slide"
    }
   },
   "source": [
    "## Observação\n",
    "\n",
    "Matrizes e Arrays em `NumPy` são *Row Major* e não *Column Major*. Ou seja a memória é alocada de maneira contígua usando uma lógica de linhas (*rows*) ao invés de colunas (*columns*).\n",
    "\n",
    "* Geralmente linguagens de computação voltadas para computação científica são *Column Major*: `R`, `Fortran` e `Julia`.\n",
    "\n",
    "* Geralmente linguagens de computação que tem uma relação muito próxima com `C` ou `C++` como `Python` são *Row Major*."
   ]
  },
  {
   "cell_type": "markdown",
   "metadata": {
    "slideshow": {
     "slide_type": "subslide"
    }
   },
   "source": [
    "<img src=\"images/row-vs-cols_1.png\" alt=\"Row vs Cols\" style=\"width: 300px;\"/>"
   ]
  },
  {
   "cell_type": "markdown",
   "metadata": {
    "slideshow": {
     "slide_type": "subslide"
    }
   },
   "source": [
    "<img src=\"images/row-vs-cols_2.png\" alt=\"Row vs Cols\" style=\"width: 300px;\"/>"
   ]
  },
  {
   "cell_type": "markdown",
   "metadata": {
    "slideshow": {
     "slide_type": "subslide"
    }
   },
   "source": [
    "Então se você tiver que percorrer uma `np.ndarray` (Array `NumPy`) sempre faça primeiro pela linha (*row*) do que coluna (*column*):"
   ]
  },
  {
   "cell_type": "code",
   "execution_count": 37,
   "metadata": {
    "slideshow": {
     "slide_type": "subslide"
    }
   },
   "outputs": [],
   "source": [
    "def col_iter(x):\n",
    "    s = 0\n",
    "    for i in range(0, x.shape[1]):\n",
    "        for j in range(0, x.shape[0]):\n",
    "            s = s + x[j, i] ** 2\n",
    "            x[j, i] = s"
   ]
  },
  {
   "cell_type": "code",
   "execution_count": 38,
   "metadata": {
    "slideshow": {
     "slide_type": "fragment"
    }
   },
   "outputs": [],
   "source": [
    "def row_iter(x):\n",
    "    s = 0\n",
    "    for i in range(0, x.shape[0]):\n",
    "        for j in range(0, x.shape[1]):\n",
    "            s = s + x[i, j] ** 2\n",
    "            x[i, j] = s"
   ]
  },
  {
   "cell_type": "code",
   "execution_count": 39,
   "metadata": {
    "slideshow": {
     "slide_type": "subslide"
    }
   },
   "outputs": [],
   "source": [
    "import numpy as np\n",
    "np.random.seed(123)\n",
    "A = np.random.rand(1000, 1000)"
   ]
  },
  {
   "cell_type": "code",
   "execution_count": 40,
   "metadata": {
    "slideshow": {
     "slide_type": "fragment"
    }
   },
   "outputs": [
    {
     "name": "stderr",
     "output_type": "stream",
     "text": [
      "<ipython-input-37-f6c23a03a226>:5: RuntimeWarning: overflow encountered in double_scalars\n",
      "  s = s + x[j, i] ** 2\n"
     ]
    },
    {
     "name": "stdout",
     "output_type": "stream",
     "text": [
      "315 ms ± 80.2 ms per loop (mean ± std. dev. of 7 runs, 1 loop each)\n"
     ]
    }
   ],
   "source": [
    "%timeit col_iter(A)"
   ]
  },
  {
   "cell_type": "code",
   "execution_count": 41,
   "metadata": {
    "slideshow": {
     "slide_type": "fragment"
    }
   },
   "outputs": [
    {
     "name": "stderr",
     "output_type": "stream",
     "text": [
      "<ipython-input-38-752f40889343>:5: RuntimeWarning: overflow encountered in double_scalars\n",
      "  s = s + x[i, j] ** 2\n"
     ]
    },
    {
     "name": "stdout",
     "output_type": "stream",
     "text": [
      "250 ms ± 1.92 ms per loop (mean ± std. dev. of 7 runs, 1 loop each)\n"
     ]
    }
   ],
   "source": [
    "%timeit row_iter(A)"
   ]
  }
 ],
 "metadata": {
  "celltoolbar": "Slideshow",
  "kernelspec": {
   "display_name": "Python [conda env:root] *",
   "language": "python",
   "name": "conda-root-py"
  },
  "language_info": {
   "codemirror_mode": {
    "name": "ipython",
    "version": 3
   },
   "file_extension": ".py",
   "mimetype": "text/x-python",
   "name": "python",
   "nbconvert_exporter": "python",
   "pygments_lexer": "ipython3",
   "version": "3.9.2"
  }
 },
 "nbformat": 4,
 "nbformat_minor": 4
}
