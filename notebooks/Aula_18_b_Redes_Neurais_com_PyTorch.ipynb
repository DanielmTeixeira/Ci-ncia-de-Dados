{
 "cells": [
  {
   "cell_type": "markdown",
   "metadata": {
    "slideshow": {
     "slide_type": "skip"
    }
   },
   "source": [
    "[![Binder](https://mybinder.org/badge_logo.svg)](https://mybinder.org/v2/gh/storopoli/ciencia-de-dados/master?filepath=notebooks%2FAula_18_b__Redes_Neurais_com_PyTorch.ipynb)\n",
    "<br>\n",
    "[![Open In Colab](https://colab.research.google.com/assets/colab-badge.svg)](https://colab.research.google.com/github/storopoli/ciencia-de-dados/blob/master/notebooks/Aula_18_b_Redes_Neurais_com_PyTorch.ipynb)"
   ]
  },
  {
   "cell_type": "markdown",
   "metadata": {
    "slideshow": {
     "slide_type": "slide"
    }
   },
   "source": [
    "# Redes Neurais com PyTorch\n",
    "\n",
    "**Objetivos**: Aprender Redes Neurais Artificiais (RNA) usando a biblioteca `PyTorch`."
   ]
  },
  {
   "cell_type": "markdown",
   "metadata": {
    "slideshow": {
     "slide_type": "subslide"
    }
   },
   "source": [
    "## PyTorch\n",
    "\n",
    "[**PyTorch**](https://www.pytorch.org/) é uma biblioteca de código aberto para aprendizado de máquina aplicável a uma ampla variedade de tarefas. Foi criada pelo **Facebook** em 2016 é a principal biblioteca para criação e treinamento de redes neurais artificiais. A API toda é escrita em Python mas é executada em C++ na CPU ou em CUDA na GPU.\n",
    "\n",
    "No momento que eu escrevo esse tutorial (Abril de 2021), PyTorch está superando o TensorFlow (Google) em desempenho e adoção de uso. Isso acontece tanto na [academia](http://horace.io/pytorch-vs-tensorflow/) (mensurado pela adoção de artigos científicos nos principais encontros científicos de Aprendizagem Profunda e Aprendizagem de Márquina) quanto na [indústria](https://www.infoworld.com/article/3597904/why-enterprises-are-turning-from-tensorflow-to-pytorch.html) (mensurado pela adoção de grandes e renomadas empresas de tecnologia)."
   ]
  },
  {
   "cell_type": "code",
   "execution_count": 1,
   "metadata": {
    "slideshow": {
     "slide_type": "subslide"
    }
   },
   "outputs": [
    {
     "data": {
      "image/jpeg": "[encoded data removed]",
      "text/html": [
       "\n",
       "        <iframe\n",
       "            width=\"560\"\n",
       "            height=\"315\"\n",
       "            src=\"https://www.youtube.com/embed/u7x8RXwLKcA\"\n",
       "            frameborder=\"0\"\n",
       "            allowfullscreen\n",
       "        ></iframe>\n",
       "        "
      ],
      "text/plain": [
       "<IPython.lib.display.YouTubeVideo at 0x7fdba84da730>"
      ]
     },
     "execution_count": 1,
     "metadata": {},
     "output_type": "execute_result"
    }
   ],
   "source": [
    "from IPython.display import YouTubeVideo\n",
    "\n",
    "YouTubeVideo('u7x8RXwLKcA', width=560, height=315)"
   ]
  },
  {
   "cell_type": "markdown",
   "metadata": {
    "slideshow": {
     "slide_type": "subslide"
    }
   },
   "source": [
    "## O que é uma Rede Neural Artificial?\n",
    "\n",
    "Redes neurais artificiais (RNAs) são modelos computacionais inspirados pelo sistema nervoso central (em particular o cérebro) que são capazes de realizar o aprendizado de máquina bem como o reconhecimento de padrões. Redes neurais artificiais geralmente são apresentadas como sistemas de \"neurônios interconectados, que podem computar valores de entradas\", simulando o comportamento de redes neurais biológicas."
   ]
  },
  {
   "cell_type": "markdown",
   "metadata": {
    "slideshow": {
     "slide_type": "subslide"
    }
   },
   "source": [
    "<img src=\"images/redes_neurais.jpeg\" alt=\"redes neurais\" style=\"width: 500px;\"/>"
   ]
  },
  {
   "cell_type": "markdown",
   "metadata": {
    "slideshow": {
     "slide_type": "subslide"
    }
   },
   "source": [
    "## Como a rede neural aprende?\n",
    "\n",
    "Em cada neurônio há uma função de ativação (*activation function*) que processa uma combinação linear entre inputs e pesos sinápticos, gerando assim um sinal de saída.\n",
    "\n",
    "A informação flui da *input layer* para as *hidden layers* e por fim para a *output layer*. Nesse fluxo os inputs de dados da *input layer* são alimentados para os neurônios das *hidden layers* que por fim alimentam o neurônio final da *output layer*.\n",
    "\n",
    "A primeira passada de informação (propagação) pela rede é geralmente feita com parâmetros aleatórios para as funções de ativação dos neurônios.\n",
    "\n",
    "Ao realizar a propagação, chamada de *feed forward*, temos sinais de saídas nos neurônios da output layer. \n",
    "\n",
    "No fim da propagação, a função custo (uma métrica de erro) é calculada e o modelo então ajusta os parâmetros dos neurônios na direção de um menor custo (por meio do gradiente - derivada multivariada).\n",
    "\n",
    "Assim uma nova propagação é gerada e a numa nova função custo e calculada. Assim como é realizado a atualização dos parâmetros dos neurônios.\n",
    "\n",
    "O nome desse algoritmo é **Retro-propagação** (*Backpropagation*). E cada vez que ele é executado denomina-se como época (*epoch*). E quandos as épocas estabelecidas se encerram, a rede neural encerra o seu treinamento/aprendizagem."
   ]
  },
  {
   "cell_type": "markdown",
   "metadata": {
    "slideshow": {
     "slide_type": "subslide"
    }
   },
   "source": [
    "<img src=\"images/backpropagation.gif\" alt=\"backpropagation\" style=\"width: 500px;\"/>"
   ]
  },
  {
   "cell_type": "markdown",
   "metadata": {
    "slideshow": {
     "slide_type": "subslide"
    }
   },
   "source": [
    "## Funções de Ativação\n",
    "\n",
    "| **Sigmoid**                                                  | **Tanh**                                                     | **ReLU**                                                     | **Leaky ReLU**                                               |\n",
    "| ------------------------------------------------------------ | ------------------------------------------------------------ | ------------------------------------------------------------ | ------------------------------------------------------------ |\n",
    "| $g(z)=\\frac{1}{1+e^{-z}}$                                    | $g(z)=\\frac{e^{z}-e^{-z}}{e^{z}+e^{-z}}$                     | $g(z)=\\max (0, z)$                                           | $\\begin{array}{c}{g(z)=\\max (\\epsilon z, z)} \\\\ {\\text { com } \\epsilon \\ll 1}\\end{array}$ |\n",
    "| ![Illustration](images/sigmoid.png) | ![Illustration](images/tanh.png) | ![Illustration](images/relu.png) | ![Illustration](images/leaky-relu.png) |\n",
    "\n"
   ]
  },
  {
   "cell_type": "markdown",
   "metadata": {
    "slideshow": {
     "slide_type": "slide"
    }
   },
   "source": [
    "### Estruturação dos módulos de PyTorch\n",
    "\n",
    "```python\n",
    "import torch\n",
    "```\n",
    "* [`torch.Tensor`](https://pytorch.org/docs/stable/tensors.html) - Tensores (arrays N-D)\n",
    "* [`torch.nn`](https://pytorch.org/docs/stable/nn.html) - Redes Neurais (_**N**eural **N**etworks_)\n",
    "* [`torch.optim`](https://pytorch.org/docs/stable/optim.html) - Otimização (_**Optim**ization_)\n",
    "* [`torch.data`](https://pytorch.org/docs/stable/data.html) - *Datasets* e Ferramentas de Streaming de Dados\n",
    "* [`torch.autograd`](https://pytorch.org/docs/stable/autograd.html) - Diferenciação Automática (_**Auto**matic Differentiation_)\n",
    "* [`torch.vision`](https://pytorch.org/docs/stable/torchvision/index.html) - Ferramentas de Manipulação de Imagens e Visão Computacional\n",
    "* [`torch.audio`](https://pytorch.org/audio/stable/index.html) - Ferramentas de Manipulação de Áudio\n",
    "* [`torch.jit`](https://pytorch.org/docs/stable/jit.html) - Compilação _**j**ust-**i**n-**t**time_ de modelos PyTorch em binários\n"
   ]
  },
  {
   "cell_type": "markdown",
   "metadata": {
    "slideshow": {
     "slide_type": "subslide"
    }
   },
   "source": [
    "### `torch.Tensor`\n",
    "\n",
    "* `NumPy` - `np.ndarray`\n",
    "* `pandas` - `pd.Series` e `pd.DataFrame`\n",
    "* `PyTorch` - `torch.Tensor`"
   ]
  },
  {
   "cell_type": "markdown",
   "metadata": {
    "slideshow": {
     "slide_type": "subslide"
    }
   },
   "source": [
    "## Algoritmos de Otimização\n",
    "\n",
    "Keras possui diversos:\n",
    "* SGD\n",
    "* RMSprop\n",
    "* Adam\n",
    "* Adadelta\n",
    "* Adagrad\n",
    "* Adamax\n",
    "\n",
    "Os mais importantes são o SGD e o Adam"
   ]
  },
  {
   "cell_type": "markdown",
   "metadata": {
    "slideshow": {
     "slide_type": "subslide"
    }
   },
   "source": [
    "### SGD - Stochastic Gradient Descent\n",
    "\n",
    "[`torch.optim.sgd()`](https://pytorch.org/docs/stable/_modules/torch/optim/sgd.html):\n",
    "\n",
    "* `lr` - Taxa de Aprendizagem $\\eta > 0$\n",
    "* `momentum=0.0` - hyperparâmetro $\\geq 0$ que acelera o *gradient descent* na direção relevante e mitiga oscilações. \n",
    "* `nesterov=False` - `bool` para se aplica *Nesterov Momentum* ou não. *Nesterov Momentum* usa posições intermediárias do gradiente no cálculo do *momentum*. Proposto por Yuri Nesterov em 1983.\n",
    "    "
   ]
  },
  {
   "cell_type": "markdown",
   "metadata": {
    "slideshow": {
     "slide_type": "subslide"
    }
   },
   "source": [
    "### Momentum\n",
    "\n",
    "<img src=\"images/momentum.gif\" alt=\"momentum\" style=\"width: 300px;\"/>"
   ]
  },
  {
   "cell_type": "markdown",
   "metadata": {
    "slideshow": {
     "slide_type": "subslide"
    }
   },
   "source": [
    "### Adam\n",
    "\n",
    "Adam é um método de SGD que usa uma estimativa adaptativa dos momentos de primeira ordem e momentos de segunda ordem. Proposto por Kingma & Ba (2014).\n",
    "\n",
    "[`torch.optim.Adam()`](https://pytorch.org/docs/stable/_modules/torch/optim/adam.html):\n",
    "\n",
    "* `lr=0.001` - Taxa de Aprendizagem $\\eta > 0$\n",
    "* `betas=(0.9, 0.999)` - Uma tupla de valores:\n",
    "    1. `betas[0]` - decréscimo exponencial da estimativa dos momentos de primeira ordem\n",
    "    2. `betas[1]` - decréscimo exponencial da estimativa dos momentos de segunda ordem"
   ]
  },
  {
   "cell_type": "markdown",
   "metadata": {
    "slideshow": {
     "slide_type": "subslide"
    }
   },
   "source": [
    "### Momentum\n",
    "\n",
    "<img src=\"images/comparacao_otimizadores.gif\" alt=\"comparacao_otimizadores\" style=\"width: 500px;\"/>"
   ]
  },
  {
   "cell_type": "markdown",
   "metadata": {
    "slideshow": {
     "slide_type": "subslide"
    }
   },
   "source": [
    "### Momentum\n",
    "\n",
    "<img src=\"images/opt1.gif\" alt=\"comparacao_otimizadores_2\" style=\"width: 500px;\"/>"
   ]
  },
  {
   "cell_type": "markdown",
   "metadata": {
    "slideshow": {
     "slide_type": "subslide"
    }
   },
   "source": [
    "### Momentum\n",
    "\n",
    "<img src=\"images/opt2.gif\" alt=\"comparacao_otimizadores_3\" style=\"width: 500px;\"/>"
   ]
  },
  {
   "cell_type": "markdown",
   "metadata": {
    "slideshow": {
     "slide_type": "subslide"
    }
   },
   "source": [
    "## Funções Custo\n",
    "\n",
    "As funções custos se dividem em dois tipos:\n",
    "\n",
    "1. Funções Custo de **Classificação**\n",
    "2. Funções Custo de **Regressão**"
   ]
  },
  {
   "cell_type": "markdown",
   "metadata": {
    "slideshow": {
     "slide_type": "subslide"
    }
   },
   "source": [
    "### Funcões Custo de Classificação\n",
    "\n",
    "Mais utilizadas\n",
    "\n",
    "\n",
    "* *Binary Cross-entropy* (Entropia cruzada binária): [`torch.nn.BCELoss()`](https://pytorch.org/docs/stable/generated/torch.nn.CrossEntropyLoss.html)\n",
    "* *Categorical Cross-entropy - Negative Log-Likelihood Loss* (Entropia cruzada categórica): [`torch.nn.NLLLoss()`](https://pytorch.org/docs/stable/generated/torch.nn.NLLLoss.html)"
   ]
  },
  {
   "cell_type": "markdown",
   "metadata": {
    "slideshow": {
     "slide_type": "subslide"
    }
   },
   "source": [
    "### Funcões Custo de Regressão\n",
    "\n",
    "Mais utilizadas\n",
    "* MSE - *Mean Squared Error* (Erro quadrado médio): [`torch.nn.MSELoss()`](https://pytorch.org/docs/stable/generated/torch.nn.MSELoss.html)\n",
    "* MAE - *Mean Absolute Error - $\\| . \\|_1$* (Erro absoluto médio): [`torch.nn.L1Loss())`](https://pytorch.org/docs/stable/generated/torch.nn.L1Loss.html#torch.nn.L1Loss)"
   ]
  },
  {
   "cell_type": "markdown",
   "metadata": {
    "slideshow": {
     "slide_type": "subslide"
    }
   },
   "source": [
    "## Como construir sua rede neural no PyTorch\n",
    "\n",
    "Construir redes neurais com o **PyTorch** é tão fácil quanto com **Keras**.\n",
    "\n",
    "Temos que criar uma Rede Neural a partir de uma classe [`nn.Module()`](https://pytorch.org/docs/stable/generated/torch.nn.Module.html?highlight=module#torch.nn.Module) e criar um construtor com o método `__init__()` e implementar todas as layers e propagações desejadas com o método `forward()`."
   ]
  },
  {
   "cell_type": "code",
   "execution_count": 2,
   "metadata": {
    "slideshow": {
     "slide_type": "subslide"
    }
   },
   "outputs": [],
   "source": [
    "import torch\n",
    "import torch.nn as nn\n",
    "import torch.nn.functional as F"
   ]
  },
  {
   "cell_type": "code",
   "execution_count": 3,
   "metadata": {
    "slideshow": {
     "slide_type": "subslide"
    }
   },
   "outputs": [
    {
     "name": "stdout",
     "output_type": "stream",
     "text": [
      "Model(\n",
      "  (fc1): Linear(in_features=4, out_features=4, bias=True)\n",
      "  (fc2): Linear(in_features=4, out_features=1, bias=True)\n",
      ")\n"
     ]
    }
   ],
   "source": [
    "class Model(nn.Module):\n",
    "    # Construtor\n",
    "    def __init__(self):\n",
    "        super(Model, self).__init__()\n",
    "        self.fc1 = nn.Linear(4, 4) # primeira hidden layer\n",
    "        self.fc2 = nn.Linear(4, 1) # segunda hidden layer\n",
    "\n",
    "    # Propagação (Feed Forward)\n",
    "    def forward(self, x):\n",
    "        x = F.relu(self.fc1(x))\n",
    "        x = F.relu(self.fc2(x))\n",
    "        return x\n",
    "\n",
    "\n",
    "# Instancia o Model()\n",
    "model = Model()\n",
    "\n",
    "print(model)"
   ]
  },
  {
   "cell_type": "markdown",
   "metadata": {
    "slideshow": {
     "slide_type": "subslide"
    }
   },
   "source": [
    "### Exemplo de Classificação Binária"
   ]
  },
  {
   "cell_type": "code",
   "execution_count": 4,
   "metadata": {
    "slideshow": {
     "slide_type": "subslide"
    }
   },
   "outputs": [
    {
     "name": "stdout",
     "output_type": "stream",
     "text": [
      "ClassBin(\n",
      "  (fc1): Linear(in_features=20, out_features=20, bias=True)\n",
      "  (fc2): Linear(in_features=20, out_features=1, bias=True)\n",
      "  (sigmoid): Sigmoid()\n",
      ")\n"
     ]
    }
   ],
   "source": [
    "class ClassBin(nn.Module):\n",
    "    # Construtor\n",
    "    def __init__(self):\n",
    "        super(ClassBin, self).__init__()\n",
    "        self.fc1 = nn.Linear(20, 20) # primeira hidden layer\n",
    "        self.fc2 = nn.Linear(20, 1) # segunda hidden layer\n",
    "        self.sigmoid = nn.Sigmoid()      # output layer com ativação Sigmoid\n",
    "\n",
    "    # Propagação (Feed Forward)\n",
    "    def forward(self, x):\n",
    "        x = F.relu(self.fc1(x))\n",
    "        x = F.relu(self.fc2(x))\n",
    "        x = self.sigmoid(x)\n",
    "        return x\n",
    "\n",
    "model = ClassBin()\n",
    "\n",
    "print(model)"
   ]
  },
  {
   "cell_type": "markdown",
   "metadata": {
    "slideshow": {
     "slide_type": "subslide"
    }
   },
   "source": [
    "### Exemplo de Regressão"
   ]
  },
  {
   "cell_type": "code",
   "execution_count": 5,
   "metadata": {
    "slideshow": {
     "slide_type": "subslide"
    }
   },
   "outputs": [
    {
     "name": "stdout",
     "output_type": "stream",
     "text": [
      "Reg(\n",
      "  (fc1): Linear(in_features=20, out_features=20, bias=True)\n",
      "  (fc2): Linear(in_features=20, out_features=1, bias=True)\n",
      ")\n"
     ]
    }
   ],
   "source": [
    "class Reg(nn.Module):\n",
    "    # Construtor\n",
    "    def __init__(self):\n",
    "        super(Reg, self).__init__()\n",
    "        self.fc1 = nn.Linear(20, 20) # primeira hidden layer\n",
    "        self.fc2 = nn.Linear(20, 1) # segunda hidden layer output 1 único neurônio\n",
    "\n",
    "    # Propagação (Feed Forward)\n",
    "    def forward(self, x):\n",
    "        x = F.relu(self.fc1(x))\n",
    "        x = F.relu(self.fc2(x))\n",
    "        return x\n",
    "\n",
    "model = Reg()\n",
    "\n",
    "print(model)"
   ]
  },
  {
   "cell_type": "markdown",
   "metadata": {
    "slideshow": {
     "slide_type": "subslide"
    }
   },
   "source": [
    "### Exemplo de Multiclassificação (não-binária - acima de duas classes)"
   ]
  },
  {
   "cell_type": "code",
   "execution_count": 6,
   "metadata": {
    "slideshow": {
     "slide_type": "subslide"
    }
   },
   "outputs": [
    {
     "name": "stdout",
     "output_type": "stream",
     "text": [
      "MultiClass(\n",
      "  (fc1): Linear(in_features=20, out_features=20, bias=True)\n",
      "  (fc2): Linear(in_features=20, out_features=10, bias=True)\n",
      "  (softmax): Softmax(dim=10)\n",
      ")\n"
     ]
    }
   ],
   "source": [
    "class MultiClass(nn.Module):\n",
    "    # Construtor\n",
    "    def __init__(self):\n",
    "        super(MultiClass, self).__init__()\n",
    "        self.fc1 = nn.Linear(20, 20) # primeira hidden layer\n",
    "        self.fc2 = nn.Linear(20, 10) # segunda hidden layer\n",
    "        self.softmax = nn.Softmax(10)    # output layer com ativação ativação softmax com 10 classes\n",
    "\n",
    "    # Propagação (Feed Forward)\n",
    "    def forward(self, x):\n",
    "        x = F.relu(self.fc1(x))\n",
    "        x = F.relu(self.fc2(x))\n",
    "        x = self.softmax(x)\n",
    "        return x\n",
    "\n",
    "model = MultiClass()\n",
    "\n",
    "print(model)"
   ]
  },
  {
   "cell_type": "markdown",
   "metadata": {
    "slideshow": {
     "slide_type": "slide"
    }
   },
   "source": [
    "## Como treinar sua rede neural no PyTorch\n",
    "\n",
    "Uma vez especificado e instanciado o modelo, podemos manipulá-lo de maneira dinâmica. Não é preciso \"compilar\" que nem o TensorFlow/Keras. Escolhemos a função custo (`loss_fn`) como `nn.NLLLoss()` e também a taxa de aprendizagem $\\eta$ em `1e-6` e a quantidade de épocas a serem treinadas (`epochs`):\n",
    "\n",
    "```python\n",
    "model = Sua_rede_neural()\n",
    "loss_fn = nn.NLLLoss()\n",
    "learning_rate = 1e-6\n",
    "epochs = 100\n",
    "\n",
    "# Instânciar o Otimizador SGD\n",
    "optimizer = torch.optim.sgd(model.parameters(), lr=learning_rate)\n",
    "\n",
    "for t in range(epochs):\n",
    "    model.train() # Colocar o modelo em modo de treinamento (calcula os gradientes)\n",
    "    \n",
    "    # Propagação (Feed Forward)\n",
    "    y_pred = model(X_train)\n",
    "    \n",
    "    # Calcular erro usando a função-custo\n",
    "    loss = loss_fn(y_pred, y)\n",
    "    print(t, loss.item())\n",
    "\n",
    "    # Zera os gradientes antes da Retro-propagação (Backpropagation)\n",
    "    model.zero_grad()\n",
    "\n",
    "    # Retro-propagação (Backpropagation)\n",
    "    loss.backward()\n",
    "\n",
    "    # Atualização dos parâmetros\n",
    "    optimizer.step()\n",
    "```"
   ]
  },
  {
   "cell_type": "markdown",
   "metadata": {
    "slideshow": {
     "slide_type": "subslide"
    }
   },
   "source": [
    "## Como ajustar o treinamento sua rede neural no PyTorch\n",
    "\n",
    "* Batch Size\n",
    "* Dropout"
   ]
  },
  {
   "cell_type": "markdown",
   "metadata": {
    "slideshow": {
     "slide_type": "subslide"
    }
   },
   "source": [
    "### Batch Size\n",
    "\n",
    "Tamanho do Batch (Srivastava et. al, 2014) de dados que passa por vez pela rede neural antes da atualização dos parâmetros pelo *backpropagation*. Tamanhos grandes resultam em instabilidade no treinamento. Geralmente usam-se potências de $2$ $(2,4,8,16,\\dots, 2^n)$.\n",
    "\n",
    "Em Abril de 2018, Yann LeCun, um dos principais pesquisadores sobre redes neurais e ganhador do \"nobel\" da computação (Prêmio Turing) twittou em resposta à um artigo empírico que mostrava diversos contextos de *batch size*:\n",
    ">\"Friends don't let friends use mini-batches larger than 32\"\n",
    "\n",
    "Então 32 é um valor empiricamente verificado que dá estabilidade ao treinamento"
   ]
  },
  {
   "cell_type": "markdown",
   "metadata": {
    "slideshow": {
     "slide_type": "subslide"
    }
   },
   "source": [
    "Para controlar como que os dados são inseridos no modelo e, logo, o Batch Size é preciso implementar um [`torch.utils.data.DataLoader()`](https://pytorch.org/docs/stable/data.html#torch.utils.data.DataLoader):\n",
    "\n",
    "```python\n",
    "import torch\n",
    "from torch.utils.data import TorchDataset, DataLoader\n",
    "\n",
    "# Converter X e y para torch.Tensor\n",
    "X = torch.Tensor(X)\n",
    "y = torch.Tensor(y)\n",
    "\n",
    "# Um Dataset de Tensores - Array [X, y]\n",
    "dataset = TensorDataset(X, y)\n",
    "loader = DataLoader(dataset, batch_size=32, shuffle=True)\n",
    "```\n",
    "\n",
    "Argumentos do `DataLoader()`: \n",
    "\n",
    "* **`dataset`**: um `Dataset` PyTorch\n",
    "    * tem [vários tipos](https://pytorch.org/docs/stable/data.html)\n",
    "    * no nosso exemplo vou usar um simples [`TensorDataset`](https://pytorch.org/docs/stable/_modules/torch/utils/data/dataset.html#TensorDataset) que é um wrapper de `np.ndarray` e `pd.Series` para `torch.Tensor`)\n",
    "* **batch_size**: `int` - tamanho do Batch Size, padrão é 1\n",
    "* **shuffle**: `bool` - se vai embaralhar os dados antes de enviar em batches ao modelo, padrão é `False`. Recomendo usar `shuffle=True`"
   ]
  },
  {
   "cell_type": "markdown",
   "metadata": {
    "slideshow": {
     "slide_type": "subslide"
    }
   },
   "source": [
    "### Dropout\n",
    "\n",
    "Uma medida de regularização na qual evita-se overfitting proposta por Hinton em 2012. *Dropout* é um algoritmo que especifica que a cada iteração de época do treino os neurônios possuem uma probabilidade de serem removidos (não utilizados) para a aprendizagem. Geralmente a probabilidade ideal fica em torno de 20% ($0.2$).\n",
    "\n",
    "Coloca-se como se fosse uma camada após a camada que deseja aplicar o dropout:\n",
    "\n",
    "```python\n",
    "model = torch.nn.Sequential(\n",
    "    nn.Linear(4, 4) ,  # hidden layer\n",
    "    nn.Dropout(0.2)    # dropout layer\n",
    ")\n",
    "```"
   ]
  },
  {
   "cell_type": "markdown",
   "metadata": {
    "slideshow": {
     "slide_type": "subslide"
    }
   },
   "source": [
    "<img src=\"images/dropout.gif\" alt=\"dropout\" style=\"width: 500px;\"/>"
   ]
  },
  {
   "cell_type": "markdown",
   "metadata": {
    "slideshow": {
     "slide_type": "slide"
    }
   },
   "source": [
    "## Exemplo com o dataset Titanic\n",
    "\n",
    "Contém 891 passageiros reais do Titanic que afundou em 15/04/1912 matando 1502 de 2224 passageiros e tripulação que estavam a bordo.\n",
    "\n",
    "* `survived`: *dummy* `0` ou `1` \n",
    "* `pclass`: Classe do Passageiro\n",
    "    - `1`: Primeira Classe\n",
    "    - `2`: Segunda Classe\n",
    "    - `3`: Terceira Classe\n",
    "* `sex`: Sexo `male` ou `female`\n",
    "* `age`: Idade\n",
    "* `sibsp`: Número de Irmãos (*Siblings*) e Esposas (*spouse*) a bordo\n",
    "* `parch`: Número de pais/filhos a bordo\n",
    "* `fare`: Valor pago pela passagem em libras\n",
    "* `embarked`: Porto que embarcou\n",
    "    - `C`: Cherbourg\n",
    "    - `Q`: Queenstown\n",
    "    - `S`: Southampton)\n",
    "* `class`: Mesmo que `pclass` só que em texto\n",
    "* `adult_male`: *dummy* para `age > 16` e `sex == 'male'`\n",
    "* `deck`: Qual deck a cabine do passageiro se situava\n",
    "* `alive`: Mesmo que survived só que com `yes` ou `no`\n",
    "* `alone`: *dummy* para se viajava sozinho\n",
    "\n",
    ">Obs: usar `random_state = 123`"
   ]
  },
  {
   "cell_type": "markdown",
   "metadata": {
    "slideshow": {
     "slide_type": "subslide"
    }
   },
   "source": [
    "<img src=\"images/titanic.png\" alt=\"titanic\" style=\"width: 500px;\"/>"
   ]
  },
  {
   "cell_type": "code",
   "execution_count": 7,
   "metadata": {
    "slideshow": {
     "slide_type": "subslide"
    }
   },
   "outputs": [],
   "source": [
    "import numpy as np\n",
    "import seaborn as sns\n",
    "import pandas as pd\n",
    "from sklearn.model_selection import train_test_split\n",
    "titanic = sns.load_dataset('titanic')\n",
    "\n",
    "feature_names = ['pclass', 'female', 'age', 'fare']\n",
    "titanic['female'] = titanic['sex'].map({'male': 0, 'female': 1})\n",
    "titanic.dropna(subset=feature_names, inplace=True)  #891 para 714\n",
    "\n",
    "X = titanic[feature_names].to_numpy()\n",
    "y = titanic['survived'].to_numpy()\n",
    "\n",
    "X_train, X_test, y_train, y_test = train_test_split(X, y,\n",
    "                                                    test_size=0.25,\n",
    "                                                    random_state=123)"
   ]
  },
  {
   "cell_type": "code",
   "execution_count": 8,
   "metadata": {
    "slideshow": {
     "slide_type": "subslide"
    }
   },
   "outputs": [
    {
     "name": "stdout",
     "output_type": "stream",
     "text": [
      "Tamanho de X_train:  (535, 4)\n",
      "Tamanho de X_test:  (179, 4)\n",
      "Tamanho de y_train:  (535,)\n",
      "Tamanho de y_test:  (179,)\n"
     ]
    }
   ],
   "source": [
    "print('Tamanho de X_train: ', X_train.shape)\n",
    "print('Tamanho de X_test: ', X_test.shape)\n",
    "print('Tamanho de y_train: ', y_train.shape)\n",
    "print('Tamanho de y_test: ', y_test.shape)"
   ]
  },
  {
   "cell_type": "code",
   "execution_count": 9,
   "metadata": {
    "scrolled": true,
    "slideshow": {
     "slide_type": "subslide"
    }
   },
   "outputs": [
    {
     "name": "stdout",
     "output_type": "stream",
     "text": [
      "ClassBin(\n",
      "  (linear1): Linear(in_features=4, out_features=4, bias=True)\n",
      "  (dropout1): Dropout(p=0.2, inplace=False)\n",
      "  (linear2): Linear(in_features=4, out_features=1, bias=True)\n",
      "  (dropout2): Dropout(p=0.2, inplace=False)\n",
      "  (sigmoid): Sigmoid()\n",
      ")\n"
     ]
    }
   ],
   "source": [
    "class ClassBin(nn.Module):\n",
    "    # Construtor\n",
    "    def __init__(self):\n",
    "        super(ClassBin, self).__init__()\n",
    "        self.linear1 = nn.Linear(4, 4)  # primeira hidden layer\n",
    "        self.dropout1 = nn.Dropout(0.2)   # dropout layer\n",
    "        self.linear2 = nn.Linear(4, 1)\n",
    "        self.dropout2 = nn.Dropout(0.2)   # dropout layer\n",
    "        self.sigmoid = nn.Sigmoid()\n",
    "\n",
    "    # Propagação (Feed Forward)\n",
    "    def forward(self, x):\n",
    "        x = F.relu(self.linear1(x))\n",
    "        x = self.dropout1(x)\n",
    "        x = F.relu(self.linear2(x))\n",
    "        x = self.dropout2(x)\n",
    "        x = self.sigmoid(x)\n",
    "        return x\n",
    "\n",
    "model = ClassBin()\n",
    "print(model)"
   ]
  },
  {
   "cell_type": "code",
   "execution_count": 10,
   "metadata": {
    "slideshow": {
     "slide_type": "subslide"
    }
   },
   "outputs": [],
   "source": [
    "loss_fn = nn.BCELoss()\n",
    "epochs = 100\n",
    "batch_size = 32  # X_train 535 / 32 = 16.71 (então são 17 batches de 32)\n",
    "\n",
    "# Instânciar o Otimizador Adam\n",
    "optimizer = torch.optim.Adam(model.parameters()) # Não preciso de lr pq o adam já tem uma padrão"
   ]
  },
  {
   "cell_type": "code",
   "execution_count": 11,
   "metadata": {
    "slideshow": {
     "slide_type": "subslide"
    }
   },
   "outputs": [],
   "source": [
    "from torch.utils.data import TensorDataset, DataLoader\n",
    "\n",
    "# Converter X e y para torch.Tensor\n",
    "X_train = torch.Tensor(X_train)\n",
    "y_train = torch.Tensor(y_train)\n",
    "X_test = torch.Tensor(X_test)\n",
    "y_test = torch.Tensor(y_test)\n",
    "\n",
    "# Um Dataset de Tensores - Array [X, y]\n",
    "train = TensorDataset(X_train, y_train)\n",
    "train_loader = DataLoader(train, batch_size=batch_size, shuffle=True)\n",
    "\n",
    "test = TensorDataset(X_test, y_test)\n",
    "test_loader = DataLoader(test, batch_size=batch_size, shuffle=True)"
   ]
  },
  {
   "cell_type": "code",
   "execution_count": 12,
   "metadata": {
    "slideshow": {
     "slide_type": "subslide"
    }
   },
   "outputs": [],
   "source": [
    "train_accuracy = []\n",
    "test_accuracy = []"
   ]
  },
  {
   "cell_type": "code",
   "execution_count": 13,
   "metadata": {
    "slideshow": {
     "slide_type": "subslide"
    }
   },
   "outputs": [
    {
     "name": "stdout",
     "output_type": "stream",
     "text": [
      "Época 1, Custo Treino: 1.3683580160140991, Acurácia de Treino: 0.41869157552719116, Acurácia de Teste: 0.3966480493545532\n",
      "Época 2, Custo Treino: 0.7940693497657776, Acurácia de Treino: 0.5121495127677917, Acurácia de Teste: 0.4804469347000122\n",
      "Época 3, Custo Treino: 1.109289288520813, Acurácia de Treino: 0.6112149357795715, Acurácia de Teste: 0.6815642714500427\n",
      "Época 4, Custo Treino: 1.0027153491973877, Acurácia de Treino: 0.6710280179977417, Acurácia de Teste: 0.6983240246772766\n",
      "Época 5, Custo Treino: 0.9851495623588562, Acurácia de Treino: 0.6785046458244324, Acurácia de Teste: 0.7094972133636475\n",
      "Época 6, Custo Treino: 1.2008370161056519, Acurácia de Treino: 0.6747663617134094, Acurácia de Teste: 0.7094972133636475\n",
      "Época 7, Custo Treino: 0.9282795190811157, Acurácia de Treino: 0.663551390171051, Acurácia de Teste: 0.6927374005317688\n",
      "Época 8, Custo Treino: 0.8150954842567444, Acurácia de Treino: 0.663551390171051, Acurácia de Teste: 0.6759776473045349\n",
      "Época 9, Custo Treino: 0.7526323795318604, Acurácia de Treino: 0.6598131060600281, Acurácia de Teste: 0.6648044586181641\n",
      "Época 10, Custo Treino: 0.8639273643493652, Acurácia de Treino: 0.6560747623443604, Acurácia de Teste: 0.659217894077301\n",
      "Época 11, Custo Treino: 1.0564122200012207, Acurácia de Treino: 0.6299065351486206, Acurácia de Teste: 0.659217894077301\n",
      "Época 12, Custo Treino: 0.9652198553085327, Acurácia de Treino: 0.6242990493774414, Acurácia de Teste: 0.6424580812454224\n",
      "Época 13, Custo Treino: 0.7212202548980713, Acurácia de Treino: 0.6280373930931091, Acurácia de Teste: 0.6312848925590515\n",
      "Época 14, Custo Treino: 0.9061955809593201, Acurácia de Treino: 0.6186915636062622, Acurácia de Teste: 0.6256983280181885\n",
      "Época 15, Custo Treino: 0.8941261172294617, Acurácia de Treino: 0.6130841374397278, Acurácia de Teste: 0.6312848925590515\n",
      "Época 16, Custo Treino: 0.6766108870506287, Acurácia de Treino: 0.6112149357795715, Acurácia de Teste: 0.6256983280181885\n",
      "Época 17, Custo Treino: 0.8713364601135254, Acurácia de Treino: 0.6093457937240601, Acurácia de Teste: 0.6201117038726807\n",
      "Época 18, Custo Treino: 0.7139363288879395, Acurácia de Treino: 0.6093457937240601, Acurácia de Teste: 0.6201117038726807\n",
      "Época 19, Custo Treino: 0.7165648341178894, Acurácia de Treino: 0.6074766516685486, Acurácia de Teste: 0.6201117038726807\n",
      "Época 20, Custo Treino: 0.7452914118766785, Acurácia de Treino: 0.6093457937240601, Acurácia de Teste: 0.6089385747909546\n",
      "Época 21, Custo Treino: 0.7211087346076965, Acurácia de Treino: 0.6037383079528809, Acurácia de Teste: 0.6089385747909546\n",
      "Época 22, Custo Treino: 0.6485533714294434, Acurácia de Treino: 0.6037383079528809, Acurácia de Teste: 0.6089385747909546\n",
      "Época 23, Custo Treino: 0.7982053160667419, Acurácia de Treino: 0.6074766516685486, Acurácia de Teste: 0.6089385747909546\n",
      "Época 24, Custo Treino: 0.668830156326294, Acurácia de Treino: 0.6056074500083923, Acurácia de Teste: 0.6145251393318176\n",
      "Época 25, Custo Treino: 0.730624258518219, Acurácia de Treino: 0.6056074500083923, Acurácia de Teste: 0.6145251393318176\n",
      "Época 26, Custo Treino: 0.7477446794509888, Acurácia de Treino: 0.6056074500083923, Acurácia de Teste: 0.6145251393318176\n",
      "Época 27, Custo Treino: 0.7639482021331787, Acurácia de Treino: 0.6056074500083923, Acurácia de Teste: 0.6089385747909546\n",
      "Época 28, Custo Treino: 0.7237685918807983, Acurácia de Treino: 0.6056074500083923, Acurácia de Teste: 0.6089385747909546\n",
      "Época 29, Custo Treino: 0.7328380942344666, Acurácia de Treino: 0.6056074500083923, Acurácia de Teste: 0.6089385747909546\n",
      "Época 30, Custo Treino: 0.7162988781929016, Acurácia de Treino: 0.6074766516685486, Acurácia de Teste: 0.6089385747909546\n",
      "Época 31, Custo Treino: 0.6948999166488647, Acurácia de Treino: 0.6074766516685486, Acurácia de Teste: 0.6089385747909546\n",
      "Época 32, Custo Treino: 0.6974354386329651, Acurácia de Treino: 0.6074766516685486, Acurácia de Teste: 0.6089385747909546\n",
      "Época 33, Custo Treino: 0.708052933216095, Acurácia de Treino: 0.6074766516685486, Acurácia de Teste: 0.6089385747909546\n",
      "Época 34, Custo Treino: 0.6751804947853088, Acurácia de Treino: 0.6074766516685486, Acurácia de Teste: 0.6089385747909546\n",
      "Época 35, Custo Treino: 0.7265129089355469, Acurácia de Treino: 0.6074766516685486, Acurácia de Teste: 0.6089385747909546\n",
      "Época 36, Custo Treino: 0.7148376703262329, Acurácia de Treino: 0.6074766516685486, Acurácia de Teste: 0.6089385747909546\n",
      "Época 37, Custo Treino: 0.6964977383613586, Acurácia de Treino: 0.6074766516685486, Acurácia de Teste: 0.6089385747909546\n",
      "Época 38, Custo Treino: 0.7498747706413269, Acurácia de Treino: 0.6074766516685486, Acurácia de Teste: 0.6089385747909546\n",
      "Época 39, Custo Treino: 0.7052618861198425, Acurácia de Treino: 0.6074766516685486, Acurácia de Teste: 0.6089385747909546\n",
      "Época 40, Custo Treino: 0.685404360294342, Acurácia de Treino: 0.6074766516685486, Acurácia de Teste: 0.6089385747909546\n",
      "Época 41, Custo Treino: 0.7015621066093445, Acurácia de Treino: 0.6074766516685486, Acurácia de Teste: 0.6089385747909546\n",
      "Época 42, Custo Treino: 0.7097469568252563, Acurácia de Treino: 0.6074766516685486, Acurácia de Teste: 0.6089385747909546\n",
      "Época 43, Custo Treino: 0.6766629219055176, Acurácia de Treino: 0.6074766516685486, Acurácia de Teste: 0.6089385747909546\n",
      "Época 44, Custo Treino: 0.6924780011177063, Acurácia de Treino: 0.6074766516685486, Acurácia de Teste: 0.6089385747909546\n",
      "Época 45, Custo Treino: 0.7007544040679932, Acurácia de Treino: 0.6074766516685486, Acurácia de Teste: 0.6089385747909546\n",
      "Época 46, Custo Treino: 0.6939724087715149, Acurácia de Treino: 0.6074766516685486, Acurácia de Teste: 0.6089385747909546\n",
      "Época 47, Custo Treino: 0.7041869759559631, Acurácia de Treino: 0.6074766516685486, Acurácia de Teste: 0.6089385747909546\n",
      "Época 48, Custo Treino: 0.6952128410339355, Acurácia de Treino: 0.6074766516685486, Acurácia de Teste: 0.6089385747909546\n",
      "Época 49, Custo Treino: 0.6377813816070557, Acurácia de Treino: 0.6074766516685486, Acurácia de Teste: 0.6089385747909546\n",
      "Época 50, Custo Treino: 0.6826779842376709, Acurácia de Treino: 0.6074766516685486, Acurácia de Teste: 0.6089385747909546\n",
      "Época 51, Custo Treino: 0.6908867359161377, Acurácia de Treino: 0.6074766516685486, Acurácia de Teste: 0.6033519506454468\n",
      "Época 52, Custo Treino: 0.7239820957183838, Acurácia de Treino: 0.6074766516685486, Acurácia de Teste: 0.6033519506454468\n",
      "Época 53, Custo Treino: 0.6916226744651794, Acurácia de Treino: 0.6074766516685486, Acurácia de Teste: 0.6033519506454468\n",
      "Época 54, Custo Treino: 0.6889604330062866, Acurácia de Treino: 0.6074766516685486, Acurácia de Teste: 0.6089385747909546\n",
      "Época 55, Custo Treino: 0.692599356174469, Acurácia de Treino: 0.6074766516685486, Acurácia de Teste: 0.6089385747909546\n",
      "Época 56, Custo Treino: 0.7246362566947937, Acurácia de Treino: 0.6074766516685486, Acurácia de Teste: 0.6089385747909546\n",
      "Época 57, Custo Treino: 0.671638548374176, Acurácia de Treino: 0.6074766516685486, Acurácia de Teste: 0.6033519506454468\n",
      "Época 58, Custo Treino: 0.6793907284736633, Acurácia de Treino: 0.6074766516685486, Acurácia de Teste: 0.6033519506454468\n",
      "Época 59, Custo Treino: 0.6435508131980896, Acurácia de Treino: 0.6074766516685486, Acurácia de Teste: 0.6089385747909546\n",
      "Época 60, Custo Treino: 0.6859179139137268, Acurácia de Treino: 0.6074766516685486, Acurácia de Teste: 0.6089385747909546\n",
      "Época 61, Custo Treino: 0.6764505505561829, Acurácia de Treino: 0.6074766516685486, Acurácia de Teste: 0.6089385747909546\n",
      "Época 62, Custo Treino: 0.6934642195701599, Acurácia de Treino: 0.6074766516685486, Acurácia de Teste: 0.6089385747909546\n",
      "Época 63, Custo Treino: 0.6931471824645996, Acurácia de Treino: 0.6074766516685486, Acurácia de Teste: 0.6089385747909546\n",
      "Época 64, Custo Treino: 0.7244027256965637, Acurácia de Treino: 0.6074766516685486, Acurácia de Teste: 0.6089385747909546\n",
      "Época 65, Custo Treino: 0.6584299206733704, Acurácia de Treino: 0.6074766516685486, Acurácia de Teste: 0.6089385747909546\n",
      "Época 66, Custo Treino: 0.6966009736061096, Acurácia de Treino: 0.6074766516685486, Acurácia de Teste: 0.6089385747909546\n",
      "Época 67, Custo Treino: 0.7410183548927307, Acurácia de Treino: 0.6074766516685486, Acurácia de Teste: 0.6089385747909546\n",
      "Época 68, Custo Treino: 0.6931471824645996, Acurácia de Treino: 0.6074766516685486, Acurácia de Teste: 0.6089385747909546\n",
      "Época 69, Custo Treino: 0.6676005721092224, Acurácia de Treino: 0.6074766516685486, Acurácia de Teste: 0.6089385747909546\n",
      "Época 70, Custo Treino: 0.6931471824645996, Acurácia de Treino: 0.6074766516685486, Acurácia de Teste: 0.6089385747909546\n",
      "Época 71, Custo Treino: 0.6973958015441895, Acurácia de Treino: 0.6074766516685486, Acurácia de Teste: 0.6089385747909546\n",
      "Época 72, Custo Treino: 0.6520102024078369, Acurácia de Treino: 0.6074766516685486, Acurácia de Teste: 0.6089385747909546\n",
      "Época 73, Custo Treino: 0.6456815600395203, Acurácia de Treino: 0.6074766516685486, Acurácia de Teste: 0.6089385747909546\n",
      "Época 74, Custo Treino: 0.6931471824645996, Acurácia de Treino: 0.6074766516685486, Acurácia de Teste: 0.6089385747909546\n",
      "Época 75, Custo Treino: 0.6850940585136414, Acurácia de Treino: 0.6074766516685486, Acurácia de Teste: 0.6089385747909546\n",
      "Época 76, Custo Treino: 0.6803550720214844, Acurácia de Treino: 0.6074766516685486, Acurácia de Teste: 0.6089385747909546\n",
      "Época 77, Custo Treino: 0.6767157912254333, Acurácia de Treino: 0.6074766516685486, Acurácia de Teste: 0.6089385747909546\n",
      "Época 78, Custo Treino: 0.6943796277046204, Acurácia de Treino: 0.6074766516685486, Acurácia de Teste: 0.6089385747909546\n",
      "Época 79, Custo Treino: 0.7181797027587891, Acurácia de Treino: 0.6074766516685486, Acurácia de Teste: 0.6089385747909546\n",
      "Época 80, Custo Treino: 0.6773572564125061, Acurácia de Treino: 0.6074766516685486, Acurácia de Teste: 0.6089385747909546\n",
      "Época 81, Custo Treino: 0.6931471824645996, Acurácia de Treino: 0.6074766516685486, Acurácia de Teste: 0.6089385747909546\n",
      "Época 82, Custo Treino: 0.6931471824645996, Acurácia de Treino: 0.6074766516685486, Acurácia de Teste: 0.6089385747909546\n",
      "Época 83, Custo Treino: 0.7223894596099854, Acurácia de Treino: 0.6074766516685486, Acurácia de Teste: 0.6089385747909546\n",
      "Época 84, Custo Treino: 0.6931471824645996, Acurácia de Treino: 0.6074766516685486, Acurácia de Teste: 0.6033519506454468\n",
      "Época 85, Custo Treino: 0.6958754062652588, Acurácia de Treino: 0.6074766516685486, Acurácia de Teste: 0.6033519506454468\n",
      "Época 86, Custo Treino: 0.6940509676933289, Acurácia de Treino: 0.6074766516685486, Acurácia de Teste: 0.6089385747909546\n",
      "Época 87, Custo Treino: 0.683402955532074, Acurácia de Treino: 0.6074766516685486, Acurácia de Teste: 0.6089385747909546\n",
      "Época 88, Custo Treino: 0.6931471824645996, Acurácia de Treino: 0.6074766516685486, Acurácia de Teste: 0.6089385747909546\n",
      "Época 89, Custo Treino: 0.6868592500686646, Acurácia de Treino: 0.6074766516685486, Acurácia de Teste: 0.6089385747909546\n",
      "Época 90, Custo Treino: 0.6915785074234009, Acurácia de Treino: 0.6074766516685486, Acurácia de Teste: 0.6089385747909546\n",
      "Época 91, Custo Treino: 0.6931471824645996, Acurácia de Treino: 0.6074766516685486, Acurácia de Teste: 0.6089385747909546\n",
      "Época 92, Custo Treino: 0.7047145962715149, Acurácia de Treino: 0.6074766516685486, Acurácia de Teste: 0.6089385747909546\n",
      "Época 93, Custo Treino: 0.7311670184135437, Acurácia de Treino: 0.6074766516685486, Acurácia de Teste: 0.6089385747909546\n",
      "Época 94, Custo Treino: 0.6647061705589294, Acurácia de Treino: 0.6074766516685486, Acurácia de Teste: 0.6089385747909546\n",
      "Época 95, Custo Treino: 0.6931471824645996, Acurácia de Treino: 0.6074766516685486, Acurácia de Teste: 0.6033519506454468\n",
      "Época 96, Custo Treino: 0.6747017502784729, Acurácia de Treino: 0.6074766516685486, Acurácia de Teste: 0.6089385747909546\n",
      "Época 97, Custo Treino: 0.6931471824645996, Acurácia de Treino: 0.6074766516685486, Acurácia de Teste: 0.6089385747909546\n",
      "Época 98, Custo Treino: 0.6935837864875793, Acurácia de Treino: 0.6074766516685486, Acurácia de Teste: 0.6089385747909546\n",
      "Época 99, Custo Treino: 0.7516293525695801, Acurácia de Treino: 0.6074766516685486, Acurácia de Teste: 0.6089385747909546\n",
      "Época 100, Custo Treino: 0.6654972434043884, Acurácia de Treino: 0.6074766516685486, Acurácia de Teste: 0.6089385747909546\n"
     ]
    }
   ],
   "source": [
    "for t in range(epochs):\n",
    "    model.train() # Colocar o modelo em modo de treinamento (calcula os gradientes)\n",
    "    \n",
    "    for data in train_loader:\n",
    "        # dar nome aos bois\n",
    "        X = data[0]\n",
    "        y = data[1]\n",
    "    \n",
    "        # Propagação (Feed Forward)\n",
    "        y_pred = model(X)\n",
    "    \n",
    "        # Calcular erro usando a função-custo\n",
    "        loss = loss_fn(y_pred, y.unsqueeze_(1)) # y precisa virar um Tensor com tamanho (batch_size, 1)\n",
    "\n",
    "        # Zera os gradientes antes da Retro-propagação (Backpropagation)\n",
    "        model.zero_grad()\n",
    "\n",
    "        # Retro-propagação (Backpropagation)\n",
    "        loss.backward()\n",
    "\n",
    "        # Atualização dos parâmetros\n",
    "        optimizer.step()\n",
    "\n",
    "\n",
    "    # Calcular erro e acurácia de Treino\n",
    "    model.eval() # coloca o modelo em modo de avaliação (sem calcular gradientes)\n",
    "    train_pred = model(X_train)\n",
    "    train_pred = train_pred.detach().apply_(lambda x : 1 if x > 0.5 else 0)\n",
    "    train_acc = torch.sum(train_pred.flatten() == y_train) / train_pred.size(0)\n",
    "\n",
    "    # Calcular acurácia de Teste\n",
    "    test_pred = model(X_test)\n",
    "    test_pred = test_pred.detach().apply_(lambda x : 1 if x > 0.5 else 0)\n",
    "    test_acc = torch.sum(test_pred.flatten() == y_test) / test_pred.size(0)\n",
    "    \n",
    "    # Fim da Época\n",
    "    print(f\"Época {t + 1}, Custo Treino: {loss.item()}, Acurácia de Treino: {train_acc}, Acurácia de Teste: {test_acc}\")\n",
    "    \n",
    "    train_accuracy.append(train_acc)\n",
    "    test_accuracy.append(test_acc)"
   ]
  },
  {
   "cell_type": "code",
   "execution_count": 14,
   "metadata": {
    "slideshow": {
     "slide_type": "subslide"
    }
   },
   "outputs": [
    {
     "data": {
      "image/png": "[encoded data removed]",
      "text/plain": [
       "<Figure size 432x288 with 1 Axes>"
      ]
     },
     "metadata": {
      "needs_background": "light"
     },
     "output_type": "display_data"
    }
   ],
   "source": [
    "import matplotlib.pyplot as plt\n",
    "\n",
    "# Plot acurácia de treino e validação\n",
    "plt.plot(train_accuracy)\n",
    "plt.plot(test_accuracy)\n",
    "plt.title('Acurácia do Modelo')\n",
    "plt.ylabel('Acurácia')\n",
    "plt.xlabel('Época')\n",
    "plt.legend(['Treino', 'Teste'], loc='upper left')\n",
    "plt.show()"
   ]
  },
  {
   "cell_type": "markdown",
   "metadata": {
    "slideshow": {
     "slide_type": "subslide"
    }
   },
   "source": [
    "### Acurácia do Modelo\n",
    "\n",
    "Usar o comando `model.evaluate()`\n",
    "\n",
    "Para a métrica acurácia, retorna um score de acurácia `float` entre $0$ e $1$\n",
    "    \n",
    "> Obs: Regressão Logística acurácias: 0.69 Treino e 0.7 Teste\n",
    "\n",
    "> Obs: *Support Vector Machines* acurácias: 0.79 Treino e 0.75 Teste\n",
    "\n",
    "> Obs: Árvores de Decisão acurácias: 0.79 Treino e 0.79 Teste\n",
    "\n",
    "> Obs: Florestas Aleatórias acurácias: 0.84 Treino e 0.82 Teste"
   ]
  },
  {
   "cell_type": "code",
   "execution_count": 15,
   "metadata": {
    "slideshow": {
     "slide_type": "subslide"
    }
   },
   "outputs": [
    {
     "name": "stdout",
     "output_type": "stream",
     "text": [
      "Acurácia de Treino: 0.6074766516685486\n",
      "\n",
      " ---------------------------\n",
      "\n",
      "Acurácia de Teste: 0.6089385747909546\n"
     ]
    }
   ],
   "source": [
    "model.eval() # coloca o modelo em modo de avaliação (sem calcular gradientes)\n",
    "\n",
    "train_pred = model(X_train)\n",
    "train_pred = train_pred.detach().apply_(lambda x : 1 if x > 0.5 else 0)\n",
    "train_acc = torch.sum(train_pred.flatten() == y_train) / train_pred.size(0)\n",
    "\n",
    "test_pred = model(X_test)\n",
    "test_pred = test_pred.detach().apply_(lambda x : 1 if x > 0.5 else 0)\n",
    "test_acc = torch.sum(test_pred.flatten() == y_test) / test_pred.size(0)\n",
    "\n",
    "print(f\"Acurácia de Treino: {train_acc}\")\n",
    "print('\\n ---------------------------\\n')\n",
    "print(f\"Acurácia de Teste: {test_acc}\")"
   ]
  },
  {
   "cell_type": "markdown",
   "metadata": {
    "slideshow": {
     "slide_type": "slide"
    }
   },
   "source": [
    "## Referências\n",
    "\n",
    "* Hinton, Geoffrey, Nitish Srivastava, and Kevin Swersky. “Neural Networks for Machine Learning Lecture 6a Overview of Mini--Batch Gradient Descent,” 2012.\n",
    "* Kingma, Diederik P., and Jimmy Ba. “Adam: A Method for Stochastic Optimization,” December 22, 2014. https://arxiv.org/abs/1412.6980.\n",
    "* Nesterov, Y. A method of solving a convex programming problem with convergence rate O(1/sqr(k)). Soviet Mathematics Doklady, 27:372–376, 1983.\n",
    "* Srivastava, Nitish, Geoffrey Hinton, Alex Krizhevsky, Ilya Sutskever, and Ruslan Salakhutdinov. “Dropout: A Simple Way to Prevent Neural Networks from Overfitting.” Journal of Machine Learning Research 15, no. 56 (2014): 1929–58."
   ]
  }
 ],
 "metadata": {
  "celltoolbar": "Slideshow",
  "kernelspec": {
   "display_name": "Python 3",
   "language": "python",
   "name": "python3"
  },
  "language_info": {
   "codemirror_mode": {
    "name": "ipython",
    "version": 3
   },
   "file_extension": ".py",
   "mimetype": "text/x-python",
   "name": "python",
   "nbconvert_exporter": "python",
   "pygments_lexer": "ipython3",
   "version": "3.9.2"
  },
  "rise": {
   "autolaunch": true,
   "enable_chalkboard": true,
   "progress": true,
   "scroll": true,
   "slideNumber": true
  }
 },
 "nbformat": 4,
 "nbformat_minor": 4
}
