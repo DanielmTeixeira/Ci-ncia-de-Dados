{
 "cells": [
  {
   "cell_type": "markdown",
   "source": [
    "[![Binder](https://mybinder.org/badge_logo.svg)](https://mybinder.org/v2/gh/storopoli/ciencia-de-dados/master?filepath=notebooks%2FAula_1_Operadores_Aritmeticos_Relacionais_e_Logicos.ipynb)\n",
    "<br>\n",
    "[![Open In Colab](https://colab.research.google.com/assets/colab-badge.svg)](https://colab.research.google.com/github/storopoli/ciencia-de-dados/blob/master/notebooks/Aula_1_Operadores_Aritmeticos_Relacionais_e_Logicos.ipynb)"
   ],
   "metadata": {
    "slideshow": {
     "slide_type": "skip"
    }
   }
  },
  {
   "cell_type": "markdown",
   "source": [
    "# Operadores Aritméticos, Relacionais e Lógicos\n",
    "\n",
    "**Objetivos**: Apresentar variáveis, operadores aritméticos, relacionais e lógicos utilizados em Python."
   ],
   "metadata": {
    "slideshow": {
     "slide_type": "slide"
    }
   }
  },
  {
   "cell_type": "markdown",
   "source": [
    "Documentação Python 3: https://docs.python.org/3/library/index.html"
   ],
   "metadata": {
    "slideshow": {
     "slide_type": "fragment"
    }
   }
  },
  {
   "cell_type": "markdown",
   "source": [
    "## Variáveis\n",
    "\n",
    "Uma variável reserva espaço de memória para armazenar um certo tipo de dado e\n",
    "relacionado a um nome para referenciar o seu conteúdo (nome da variável).\n",
    "\n",
    "3 tipos básicos:\n",
    "* Numérico\n",
    "* Texto (String)\n",
    "* Lógico (Booleano)"
   ],
   "metadata": {
    "slideshow": {
     "slide_type": "slide"
    }
   }
  },
  {
   "cell_type": "markdown",
   "source": [
    "### Variáveis Numéricas\n",
    "\n",
    "Podem ser de dois tipos:\n",
    "* `int`: número inteiro\n",
    "* `float`: número real (ponto flutuante)"
   ],
   "metadata": {
    "slideshow": {
     "slide_type": "subslide"
    }
   }
  },
  {
   "cell_type": "code",
   "execution_count": 11,
   "source": [
    "# isto é um comentário\n",
    "x = 10\n",
    "y = 8.9\n",
    "\n",
    "print(type(x))\n",
    "print(type(y))"
   ],
   "outputs": [
    {
     "output_type": "stream",
     "name": "stdout",
     "text": [
      "<class 'int'>\n",
      "<class 'float'>\n"
     ]
    }
   ],
   "metadata": {
    "slideshow": {
     "slide_type": "subslide"
    }
   }
  },
  {
   "cell_type": "markdown",
   "source": [
    "### Variáveis de Texto (`string`)\n",
    "\n",
    "Qualquer texto é uma `string`"
   ],
   "metadata": {
    "slideshow": {
     "slide_type": "subslide"
    }
   }
  },
  {
   "cell_type": "code",
   "execution_count": 12,
   "source": [
    "universidade = 'UNINOVE'\n",
    "logo = 'uni9 é 10'\n",
    "professor = 'José Eduardo Storopoli'\n",
    "\n",
    "print(type(logo))\n",
    "print('Número de caracteres do logo: ', len(logo)) # usando ,\n",
    "print('Bem-vindo à ' + universidade +\n",
    "      ', o seu professor é ' + professor) # usando +"
   ],
   "outputs": [
    {
     "output_type": "stream",
     "name": "stdout",
     "text": [
      "<class 'str'>\n",
      "Número de caracteres do logo:  9\n",
      "Bem-vindo à UNINOVE, o seu professor é José Eduardo Storopoli\n"
     ]
    }
   ],
   "metadata": {
    "slideshow": {
     "slide_type": "subslide"
    }
   }
  },
  {
   "cell_type": "markdown",
   "source": [
    "### Variáveis Lógicas (`bool`)\n",
    "\n",
    "* Verdadeiro = `True` = $1$\n",
    "* Falso = `False` = $0$"
   ],
   "metadata": {
    "slideshow": {
     "slide_type": "subslide"
    }
   }
  },
  {
   "cell_type": "code",
   "execution_count": 13,
   "source": [
    "mortalidade = True\n",
    "\n",
    "print(mortalidade)\n",
    "print(type(mortalidade))"
   ],
   "outputs": [
    {
     "output_type": "stream",
     "name": "stdout",
     "text": [
      "True\n",
      "<class 'bool'>\n"
     ]
    }
   ],
   "metadata": {
    "slideshow": {
     "slide_type": "subslide"
    }
   }
  },
  {
   "cell_type": "markdown",
   "source": [
    "## Leitura de Dados do Teclado\n",
    "\n",
    "A função utilizada para efetuar a leitura de dados a partir do teclado é a função `input()`."
   ],
   "metadata": {
    "slideshow": {
     "slide_type": "slide"
    }
   }
  },
  {
   "cell_type": "code",
   "execution_count": 14,
   "source": [
    "print(\"dados do aluno\")\n",
    "nome = input(\"informe seu nome: \")\n",
    "idade = input (\"informe sua idade: \")\n",
    "print (nome, \"você tem\", idade, \"anos!!\")"
   ],
   "outputs": [
    {
     "output_type": "stream",
     "name": "stdout",
     "text": [
      "dados do aluno\n",
      "Jose você tem 33 anos!!\n"
     ]
    }
   ],
   "metadata": {
    "slideshow": {
     "slide_type": "fragment"
    }
   }
  },
  {
   "cell_type": "markdown",
   "source": [
    "## Operadores Aritméticos\n",
    "\n",
    "* Soma `x + y`\n",
    "* Subtração `x - y`\n",
    "* Multiplicação `x * y`\n",
    "* Divisão `x / y`\n",
    "* Divisão desconsiderando a parte fracionária `x // y`\n",
    "* Resto de uma divisão `x % y`\n",
    "* Absoluto `abs(x)`\n",
    "* Converter para Inteiro `int(x)`\n",
    "* Converter para Real `float(x)`\n",
    "* Potência `x ** y`"
   ],
   "metadata": {
    "slideshow": {
     "slide_type": "slide"
    }
   }
  },
  {
   "cell_type": "code",
   "execution_count": 15,
   "source": [
    "x = 10\n",
    "y = 3\n",
    "\n",
    "print('Soma: ', x + y)\n",
    "print('Subtração: ', x - y)\n",
    "print('Multiplicação: ', x * y)\n",
    "print('Divisão: ', x / y)\n",
    "print('Divisão desconsiderando a parte fracionária: ', x // y)\n",
    "print('Módulo - Resto de uma divisão: ', x % y)\n",
    "print('x elevado à y potência: ', x ** y)"
   ],
   "outputs": [
    {
     "output_type": "stream",
     "name": "stdout",
     "text": [
      "Soma:  13\n",
      "Subtração:  7\n",
      "Multiplicação:  30\n",
      "Divisão:  3.3333333333333335\n",
      "Divisão desconsiderando a parte fracionária:  3\n",
      "Módulo - Resto de uma divisão:  1\n",
      "x elevado à y potência:  1000\n"
     ]
    }
   ],
   "metadata": {
    "slideshow": {
     "slide_type": "subslide"
    }
   }
  },
  {
   "cell_type": "markdown",
   "source": [
    "### Arredondamento, Piso e Teto"
   ],
   "metadata": {
    "slideshow": {
     "slide_type": "subslide"
    }
   }
  },
  {
   "cell_type": "code",
   "execution_count": 16,
   "source": [
    "import math\n",
    "#import math as m \n",
    "#from math import floor, ceil\n",
    "\n",
    "print('round: ', round(3.33))\n",
    "print('floor: ', math.floor(3.33))\n",
    "print('ceil: ', math.ceil(3.33))\n",
    "\n",
    "# O round() também pode ser utilizado para determinar o números de casas depois da vírgula a ser apresentado\n",
    "print('round, casas: ', round(3.33156487, 3)) # 3 casas\n",
    "print('round, casas: ', round(3.33156487, 2)) # 2 casas"
   ],
   "outputs": [
    {
     "output_type": "stream",
     "name": "stdout",
     "text": [
      "round:  3\n",
      "floor:  3\n",
      "ceil:  4\n",
      "round, casas:  3.332\n",
      "round, casas:  3.33\n"
     ]
    }
   ],
   "metadata": {
    "slideshow": {
     "slide_type": "fragment"
    }
   }
  },
  {
   "cell_type": "markdown",
   "source": [
    "## Operadores Relacionais\n",
    "\n",
    "Uma condição é o estabelecimento de uma relação lógica entre dois elementos. Para definir uma relação lógica é necessário usar operadores relacionais. Uma relação lógica (comparação) retorna somente os valores verdadeiro ou falso."
   ],
   "metadata": {
    "slideshow": {
     "slide_type": "slide"
    }
   }
  },
  {
   "cell_type": "markdown",
   "source": [
    "* Igual a: `x == y`\n",
    "* Maior que: `x > y`\n",
    "* Menor que: `x < y`\n",
    "* Maior ou igual a: `x >= y`\n",
    "* Menor ou igual a: `x <= y`\n",
    "* Diferente de: `x != y`"
   ],
   "metadata": {
    "slideshow": {
     "slide_type": "fragment"
    }
   }
  },
  {
   "cell_type": "code",
   "execution_count": 17,
   "source": [
    "x = 3\n",
    "y = 4\n",
    "\n",
    "\n",
    "print('Igual a: ', x == y)\n",
    "print('Maior que: ', x > y)\n",
    "print('Menor que: ', x < y)\n",
    "print('Maior ou igual a: ', x >= y)\n",
    "print('Menor ou igual a: ', x <= y)\n",
    "print('Diferente de: ', x != y)"
   ],
   "outputs": [
    {
     "output_type": "stream",
     "name": "stdout",
     "text": [
      "Igual a:  False\n",
      "Maior que:  False\n",
      "Menor que:  True\n",
      "Maior ou igual a:  False\n",
      "Menor ou igual a:  True\n",
      "Diferente de:  True\n"
     ]
    }
   ],
   "metadata": {
    "slideshow": {
     "slide_type": "subslide"
    }
   }
  },
  {
   "cell_type": "markdown",
   "source": [
    "## Operadores Lógicos\n",
    "São utilizados para uma mesma tomada de decisão que necessite de mais de uma condição. Também são conhecidos como operadores booleanos. Operadores lógicos retornam somente os valores verdadeiro ou falso.\n",
    "\n",
    "| Operador Lógico | Função    | Prioridade |\n",
    "|-----------------|-----------|---------------------|\n",
    "| `NOT`           | Negação   | 1                   |\n",
    "| `AND`           | Conjunção | 2                   |\n",
    "| `OR`            | Disjunção | 3                   |"
   ],
   "metadata": {
    "slideshow": {
     "slide_type": "slide"
    }
   }
  },
  {
   "cell_type": "code",
   "execution_count": 18,
   "source": [
    "x = 1\n",
    "y = 3\n",
    "z = 5\n",
    "w = 2\n",
    "\n",
    "print(z > w and w > y)  # False\n",
    "print(z > w or w > y)   # True\n",
    "print(not y + w == z)   # False"
   ],
   "outputs": [
    {
     "output_type": "stream",
     "name": "stdout",
     "text": [
      "False\n",
      "True\n",
      "False\n"
     ]
    }
   ],
   "metadata": {
    "slideshow": {
     "slide_type": "subslide"
    }
   }
  },
  {
   "cell_type": "markdown",
   "source": [
    "## Exercícios de fixação"
   ],
   "metadata": {
    "slideshow": {
     "slide_type": "slide"
    }
   }
  },
  {
   "cell_type": "code",
   "execution_count": null,
   "source": [
    "# Faça a leitura pelo teclado de três variáveis (a, b e c) e mostre o resultado para: a + b - c + (a * c) / a ** 2"
   ],
   "outputs": [],
   "metadata": {}
  },
  {
   "cell_type": "code",
   "execution_count": null,
   "source": [
    "# Calcular a área de um cubo\n",
    "lado = input(\"Digite o lado da face do cubo: \")\n",
    "Af = \n",
    "area_total = 6 * Af\n",
    "print()"
   ],
   "outputs": [],
   "metadata": {}
  },
  {
   "cell_type": "code",
   "execution_count": null,
   "source": [
    "# Mostre os resultados das operações com as casas decimais determinadas:\n",
    "print(78 / 35)              # três (2.229)\n",
    "print(-5 / 9)               # cinco (-0.55556)\n",
    "print(\"122\" / \"49.2\")       # duas (2.48)\n",
    "print(\"2.334\" * \"2.5678\")   # três (5.993)"
   ],
   "outputs": [],
   "metadata": {}
  }
 ],
 "metadata": {
  "celltoolbar": "Slideshow",
  "kernelspec": {
   "name": "python3",
   "display_name": "Python 3.9.6 64-bit ('ciencia-de-dados': conda)"
  },
  "language_info": {
   "codemirror_mode": {
    "name": "ipython",
    "version": 3
   },
   "file_extension": ".py",
   "mimetype": "text/x-python",
   "name": "python",
   "nbconvert_exporter": "python",
   "pygments_lexer": "ipython3",
   "version": "3.9.6"
  },
  "rise": {
   "autolaunch": true,
   "enable_chalkboard": true,
   "progress": true,
   "scroll": true,
   "slideNumber": true
  },
  "interpreter": {
   "hash": "5f57edc8ab8f7b961e464cf6cce72f8527ff9370e5e237d94a18e64275e674c4"
  }
 },
 "nbformat": 4,
 "nbformat_minor": 4
}