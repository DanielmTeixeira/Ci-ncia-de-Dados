{
 "cells": [
  {
   "cell_type": "markdown",
   "metadata": {
    "slideshow": {
     "slide_type": "skip"
    }
   },
   "source": [
    "[![Binder](https://mybinder.org/badge_logo.svg)](https://mybinder.org/v2/gh/storopoli/ciencia-de-dados/master?filepath=notebooks%2FAula_1_Operadores_Aritmeticos_Relacionais_e_Logicos.ipynb)\n",
    "<br>\n",
    "[![Open In Colab](https://colab.research.google.com/assets/colab-badge.svg)](https://colab.research.google.com/github/storopoli/ciencia-de-dados/blob/master/notebooks/Aula_1_Operadores_Aritmeticos_Relacionais_e_Logicos.ipynb)"
   ]
  },
  {
   "cell_type": "markdown",
   "metadata": {
    "slideshow": {
     "slide_type": "slide"
    }
   },
   "source": [
    "# Operadores Aritméticos, Relacionais e Lógicos\n",
    "\n",
    "**Objetivos**: Apresentar variáveis, operadores aritméticos, relacionais e lógicos utilizados em Python."
   ]
  },
  {
   "cell_type": "markdown",
   "metadata": {
    "slideshow": {
     "slide_type": "fragment"
    }
   },
   "source": [
    "Documentação Python 3: https://docs.python.org/3/library/index.html"
   ]
  },
  {
   "cell_type": "markdown",
   "metadata": {
    "slideshow": {
     "slide_type": "slide"
    }
   },
   "source": [
    "## Variáveis\n",
    "\n",
    "Uma variável reserva espaço de memória para armazenar um certo tipo de dado e\n",
    "relacionado a um nome para referenciar o seu conteúdo (nome da variável).\n",
    "\n",
    "3 tipos básicos:\n",
    "* Numérico\n",
    "* Texto (String)\n",
    "* Lógico (Booleano)"
   ]
  },
  {
   "cell_type": "markdown",
   "metadata": {
    "slideshow": {
     "slide_type": "subslide"
    }
   },
   "source": [
    "### Variáveis Numéricas\n",
    "\n",
    "Podem ser de dois tipos:\n",
    "* `int`: número inteiro\n",
    "* `float`: número real (ponto flutuante)"
   ]
  },
  {
   "cell_type": "code",
   "execution_count": 1,
   "metadata": {
    "slideshow": {
     "slide_type": "subslide"
    }
   },
   "outputs": [
    {
     "name": "stdout",
     "output_type": "stream",
     "text": [
      "<class 'int'>\n",
      "<class 'float'>\n"
     ]
    }
   ],
   "source": [
    "# isto é um comentário\n",
    "x = 10\n",
    "y = 8.9\n",
    "\n",
    "print(type(x))\n",
    "print(type(y))"
   ]
  },
  {
   "cell_type": "markdown",
   "metadata": {
    "slideshow": {
     "slide_type": "subslide"
    }
   },
   "source": [
    "### Variáveis de Texto (`string`)\n",
    "\n",
    "Qualquer texto é uma `string`"
   ]
  },
  {
   "cell_type": "code",
   "execution_count": 2,
   "metadata": {
    "slideshow": {
     "slide_type": "subslide"
    }
   },
   "outputs": [
    {
     "name": "stdout",
     "output_type": "stream",
     "text": [
      "<class 'str'>\n",
      "Número de caracteres do logo:  9\n",
      "Bem-vindo à UNINOVE, o seu professor é José Eduardo Storopoli\n"
     ]
    }
   ],
   "source": [
    "universidade = 'UNINOVE'\n",
    "logo = 'uni9 é 10'\n",
    "professor = 'José Eduardo Storopoli'\n",
    "\n",
    "print(type(logo))\n",
    "print('Número de caracteres do logo: ', len(logo)) # usando ,\n",
    "print('Bem-vindo à ' + universidade +\n",
    "      ', o seu professor é ' + professor) # usando +"
   ]
  },
  {
   "cell_type": "markdown",
   "metadata": {
    "slideshow": {
     "slide_type": "subslide"
    }
   },
   "source": [
    "### Variáveis Lógicas (`bool`)\n",
    "\n",
    "* Verdadeiro = `True` = $1$\n",
    "* Falso = `False` = $0$"
   ]
  },
  {
   "cell_type": "code",
   "execution_count": 3,
   "metadata": {
    "slideshow": {
     "slide_type": "subslide"
    }
   },
   "outputs": [
    {
     "name": "stdout",
     "output_type": "stream",
     "text": [
      "True\n",
      "<class 'bool'>\n"
     ]
    }
   ],
   "source": [
    "mortalidade = True\n",
    "\n",
    "print(mortalidade)\n",
    "print(type(mortalidade))"
   ]
  },
  {
   "cell_type": "markdown",
   "metadata": {
    "slideshow": {
     "slide_type": "slide"
    }
   },
   "source": [
    "## Leitura de Dados do Teclado\n",
    "\n",
    "A função utilizada para efetuar a leitura de dados a partir do teclado é a função `input()`."
   ]
  },
  {
   "cell_type": "code",
   "execution_count": 4,
   "metadata": {
    "slideshow": {
     "slide_type": "fragment"
    }
   },
   "outputs": [
    {
     "name": "stdout",
     "output_type": "stream",
     "text": [
      "dados do aluno\n"
     ]
    },
    {
     "name": "stdin",
     "output_type": "stream",
     "text": [
      "informe seu nome:  Jose\n",
      "informe sua idade:  33\n"
     ]
    },
    {
     "name": "stdout",
     "output_type": "stream",
     "text": [
      "Jose você tem 33 anos!!\n"
     ]
    }
   ],
   "source": [
    "print(\"dados do aluno\")\n",
    "nome = input(\"informe seu nome: \")\n",
    "idade = input (\"informe sua idade: \")\n",
    "print (nome, \"você tem\", idade, \"anos!!\")"
   ]
  },
  {
   "cell_type": "markdown",
   "metadata": {
    "slideshow": {
     "slide_type": "slide"
    }
   },
   "source": [
    "## Operadores Aritméticos\n",
    "\n",
    "* Soma `x + y`\n",
    "* Subtração `x - y`\n",
    "* Multiplicação `x * y`\n",
    "* Divisão `x / y`\n",
    "* Divisão desconsiderando a parte fracionária `x // y`\n",
    "* Resto de uma divisão `x % y`\n",
    "* Absoluto `abs(x)`\n",
    "* Converter para Inteiro `int(x)`\n",
    "* Converter para Real `float(x)`\n",
    "* Potência `x ** y`"
   ]
  },
  {
   "cell_type": "code",
   "execution_count": 5,
   "metadata": {
    "slideshow": {
     "slide_type": "subslide"
    }
   },
   "outputs": [
    {
     "name": "stdout",
     "output_type": "stream",
     "text": [
      "Soma:  13\n",
      "Subtração:  7\n",
      "Multiplicação:  30\n",
      "Divisão:  3.3333333333333335\n",
      "Divisão desconsiderando a parte fracionária:  3\n",
      "Módulo - Resto de uma divisão:  1\n",
      "x elevado à y potência:  1000\n"
     ]
    }
   ],
   "source": [
    "x = 10\n",
    "y = 3\n",
    "\n",
    "print('Soma: ', x + y)\n",
    "print('Subtração: ', x - y)\n",
    "print('Multiplicação: ', x * y)\n",
    "print('Divisão: ', x / y)\n",
    "print('Divisão desconsiderando a parte fracionária: ', x // y)\n",
    "print('Módulo - Resto de uma divisão: ', x % y)\n",
    "print('x elevado à y potência: ', x ** y)"
   ]
  },
  {
   "cell_type": "markdown",
   "metadata": {
    "slideshow": {
     "slide_type": "subslide"
    }
   },
   "source": [
    "### Arredondamento, Piso e Teto"
   ]
  },
  {
   "cell_type": "code",
   "execution_count": 6,
   "metadata": {
    "slideshow": {
     "slide_type": "fragment"
    }
   },
   "outputs": [
    {
     "name": "stdout",
     "output_type": "stream",
     "text": [
      "round:  3\n",
      "floor:  3\n",
      "ceil:  4\n"
     ]
    }
   ],
   "source": [
    "import math\n",
    "#import math as m \n",
    "#from math import floor, ceil\n",
    "\n",
    "print('round: ', round(3.33))\n",
    "print('floor: ', math.floor(3.33))\n",
    "print('ceil: ', math.ceil(3.33))"
   ]
  },
  {
   "cell_type": "markdown",
   "metadata": {
    "slideshow": {
     "slide_type": "slide"
    }
   },
   "source": [
    "## Operadores Relacionais\n",
    "\n",
    "Uma condição é o estabelecimento de uma relação lógica entre dois elementos. Para definir uma relação lógica é necessário usar operadores relacionais. Uma relação lógica (comparação) retorna somente os valores verdadeiro ou falso."
   ]
  },
  {
   "cell_type": "markdown",
   "metadata": {
    "slideshow": {
     "slide_type": "fragment"
    }
   },
   "source": [
    "* Igual a: `x == y`\n",
    "* Maior que: `x > y`\n",
    "* Menor que: `x < y`\n",
    "* Maior ou igual a: `x >= y`\n",
    "* Menor ou igual a: `x <= y`\n",
    "* Diferente de: `x != y`"
   ]
  },
  {
   "cell_type": "code",
   "execution_count": 7,
   "metadata": {
    "slideshow": {
     "slide_type": "subslide"
    }
   },
   "outputs": [
    {
     "name": "stdout",
     "output_type": "stream",
     "text": [
      "Igual a:  False\n",
      "Maior que:  False\n",
      "Menor que:  True\n",
      "Maior ou igual a:  False\n",
      "Menor ou igual a:  True\n",
      "Diferente de:  True\n"
     ]
    }
   ],
   "source": [
    "x = 3\n",
    "y = 4\n",
    "\n",
    "\n",
    "print('Igual a: ', x == y)\n",
    "print('Maior que: ', x > y)\n",
    "print('Menor que: ', x < y)\n",
    "print('Maior ou igual a: ', x >= y)\n",
    "print('Menor ou igual a: ', x <= y)\n",
    "print('Diferente de: ', x != y)"
   ]
  },
  {
   "cell_type": "markdown",
   "metadata": {
    "slideshow": {
     "slide_type": "slide"
    }
   },
   "source": [
    "## Operadores Lógicos\n",
    "São utilizados para uma mesma tomada de decisão que necessite de mais de uma condição. Também são conhecidos como operadores booleanos. Operadores lógicos retornam somente os valores verdadeiro ou falso.\n",
    "\n",
    "| Operador Lógico | Função    | Prioridade |\n",
    "|-----------------|-----------|---------------------|\n",
    "| `NOT`           | Negação   | 1                   |\n",
    "| `AND`           | Conjunção | 2                   |\n",
    "| `OR`            | Disjunção | 3                   |"
   ]
  },
  {
   "cell_type": "code",
   "execution_count": 8,
   "metadata": {
    "slideshow": {
     "slide_type": "subslide"
    }
   },
   "outputs": [
    {
     "name": "stdout",
     "output_type": "stream",
     "text": [
      "False\n",
      "True\n",
      "False\n"
     ]
    }
   ],
   "source": [
    "x = 1\n",
    "y = 3\n",
    "z = 5\n",
    "w = 2\n",
    "\n",
    "print(z > w and w > y)  # False\n",
    "print(z > w or w > y)   # True\n",
    "print(not y + w == z)   # False"
   ]
  }
 ],
 "metadata": {
  "celltoolbar": "Slideshow",
  "kernelspec": {
   "display_name": "Python [conda env:root] *",
   "language": "python",
   "name": "conda-root-py"
  },
  "language_info": {
   "codemirror_mode": {
    "name": "ipython",
    "version": 3
   },
   "file_extension": ".py",
   "mimetype": "text/x-python",
   "name": "python",
   "nbconvert_exporter": "python",
   "pygments_lexer": "ipython3",
   "version": "3.9.2"
  },
  "rise": {
   "autolaunch": true,
   "enable_chalkboard": true,
   "progress": true,
   "scroll": true,
   "slideNumber": true
  }
 },
 "nbformat": 4,
 "nbformat_minor": 4
}
