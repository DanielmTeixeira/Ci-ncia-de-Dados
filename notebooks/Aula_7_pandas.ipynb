{
 "cells": [
  {
   "cell_type": "markdown",
   "metadata": {
    "slideshow": {
     "slide_type": "skip"
    }
   },
   "source": [
    "[![Binder](https://mybinder.org/badge_logo.svg)](https://mybinder.org/v2/gh/storopoli/ciencia-de-dados/master?filepath=notebooks%2FAula_7_pandas.ipynb)\n",
    "<br>\n",
    "[![Open In Colab](https://colab.research.google.com/assets/colab-badge.svg)](https://colab.research.google.com/github/storopoli/ciencia-de-dados/blob/master/notebooks/Aula_7_pandas.ipynb)"
   ]
  },
  {
   "cell_type": "markdown",
   "metadata": {
    "slideshow": {
     "slide_type": "slide"
    }
   },
   "source": [
    "# `pandas`\n",
    "\n",
    "**Objetivos**: Apresentar a biblioteca pandas, importação de dados, DataFrame e funções aritméticas."
   ]
  },
  {
   "cell_type": "markdown",
   "metadata": {
    "slideshow": {
     "slide_type": "slide"
    }
   },
   "source": [
    "## Dados Tabulares\n",
    "\n",
    "* Primeira linha: Cabeçalho (*Header*)\n",
    "* Cada coluna: uma variável\n",
    "* Cada linha: uma observação\n",
    "* Cada Tabela/arquivo: um nível de observação"
   ]
  },
  {
   "cell_type": "markdown",
   "metadata": {
    "slideshow": {
     "slide_type": "subslide"
    }
   },
   "source": [
    "![dados-tabulares](https://miro.medium.com/max/3840/1*7jjzhy4KknPz9hJVnC_w7w.png)"
   ]
  },
  {
   "cell_type": "markdown",
   "metadata": {
    "slideshow": {
     "slide_type": "slide"
    }
   },
   "source": [
    "## Documentação do `pandas`\n",
    "\n",
    "https://pandas.pydata.org/pandas-docs/stable/"
   ]
  },
  {
   "cell_type": "code",
   "execution_count": null,
   "metadata": {
    "slideshow": {
     "slide_type": "slide"
    }
   },
   "outputs": [],
   "source": [
    "import pandas as pd"
   ]
  },
  {
   "cell_type": "markdown",
   "metadata": {
    "slideshow": {
     "slide_type": "fragment"
    }
   },
   "source": [
    "## Elementos do `pandas`\n",
    "\n",
    "* *DataFrame*: Tabela Retangular de Dados\n",
    "    - Conjunto de *Series*\n",
    "    - Todas compartilhando o mesmo índice (*index*)\n",
    "* *Series*: Coluna do *DataFrame*\n",
    "    - *arrays* em 1-D\n",
    "    - Composta por:\n",
    "        - Sequência de Valores\n",
    "            - *numeric*\n",
    "            - *string*\n",
    "            - *bool*\n",
    "        - Sequencia de *index*"
   ]
  },
  {
   "cell_type": "markdown",
   "metadata": {
    "slideshow": {
     "slide_type": "slide"
    }
   },
   "source": [
    "| Pandas dtype    | Python type    | NumPy type                                | Uso                                                   |\n",
    "|-----------------|----------------|-------------------------------------------|-------------------------------------------------------|\n",
    "| `object`        | `str` ou misto | *string_*, *unicode_*, misto              | Texto ou misto de valores `numeric` and `non-numeric` |\n",
    "| `int64`         | `int`          | *int_*, `int8`, `int16`, `int32`, `int64` | Número Inteiros                                       |\n",
    "| `float64`       | `float`        | *float_*, `float16`, `float32`, `float64` | Número Reais                                          |\n",
    "| `bool`          | `bool`         | `bool`                                    | Verdadeiro ou Falso                                   |\n",
    "| `datetime64`    | NA             | `datetime64[ns]`                          | Data e Hora                                           |\n",
    "| `timedelta[ns]` | NA             | NA                                        | Diferença entre duas `datetimes`                      |\n",
    "| `category`      | NA             | NA                                        | Lista Finita de Valores em Texto                      |"
   ]
  },
  {
   "cell_type": "markdown",
   "metadata": {
    "slideshow": {
     "slide_type": "slide"
    }
   },
   "source": [
    "## Importando Dados no `pandas`\n",
    "\n",
    "| Formato   | Input                 | Output            | Observação                     |\n",
    "| --------- | --------------------- | ----------------- | ------------------------------ |\n",
    "| CSV       | `pd.read_csv()`       | `.to_csv()`       | arquivo Texto                  |\n",
    "| XLS/XLSX  | `pd.read_excel()`     | `.to_excel()`     | Planilha                       |\n",
    "| HDF       | `pd.read_hdf`()       | `.to_hdf()`       | HDF5 database                  |\n",
    "| SQL       | `pd.read_sql()`       | `.to_sql()`       | SQL table                      |\n",
    "| JSON      | `pd.read_json()`      | `.to_json()`      | JavaScript Object Notation     |\n",
    "| MSGPACK   | `pd.read_msgpack()`   | `.to_msgpack()`   | Portable binary format         |\n",
    "| HTML      | `pd.read_html()`      | `.to_html()`      | código HTML                    |\n",
    "| GBQ       | `pd.read_gbq()`       | `.to_gbq()`       | Google Big Query format        |\n",
    "| DTA       | `pd.read_stata()`     | `.to_stata()`     | Stata                          |\n",
    "| Qualquer  | `pd.read_clipboard()` | `.to_clipboard()` | Ex., de pág HTML               |\n",
    "| Qualquer  | `pd.read_pickle()`    | `.to_pickle()`    | (Structured) Python object     |"
   ]
  },
  {
   "cell_type": "markdown",
   "metadata": {
    "slideshow": {
     "slide_type": "slide"
    }
   },
   "source": [
    "## Importando `CSV`\n",
    "\n",
    "Se atentar com os seguintes argumentos de [`pd.read_csv()`](https://pandas.pydata.org/pandas-docs/stable/reference/api/pandas.read_csv.html):\n",
    "\n",
    "* Caminho (`path`)\n",
    "* `sep`: `','`, para europeu/brasileiro use `';'`\n",
    "* `decimal`: `'.'`, para europeu/brasileiro use `','`\n",
    "* `header`: `pandas` tenta adivinhar\n",
    "* `index_col`: `None`, mas pode ser uma coluna do arquivo (ex: 2ª coluna use `index_col=2`)\n",
    "* `names`: `None`, mas pode ser uma lista dos nomes das variáveis (colunas)\n",
    "* `skip_rows`: `None` (pular linhas)\n",
    "* `na_values`: `None`, mas pode ser qualquer string (ex: `'NA'`)\n",
    "* `thousands`: `None` mas pode ser `','` ou `'.'`\n",
    "* `encoding`\n",
    "    - `'utf8'`: padrão\n",
    "    - `'latin1'`: ç à é î ã"
   ]
  },
  {
   "cell_type": "markdown",
   "metadata": {
    "slideshow": {
     "slide_type": "subslide"
    }
   },
   "source": [
    "## Importando Planilhas `Excel`\n",
    "\n",
    "Se atentar com os seguintes argumentos de [`pd.read_excel()`](https://pandas.pydata.org/pandas-docs/stable/reference/api/pandas.read_excel.html):\n",
    "* Caminho (`path`)\n",
    "* `sheet_name`: `0`, mas pode ser qualquer `string` ou `int`\n",
    "    - `sheet_name=0`: Primeira aba da planilha\n",
    "    - `sheet_name=2`: Terceira aba da planilha\n",
    "    - `sheet_name='Plan1'`: Primeira aba da planilha\n",
    "    - `sheet_name='nome_que_usuário_colocou'`"
   ]
  },
  {
   "cell_type": "markdown",
   "metadata": {
    "slideshow": {
     "slide_type": "subslide"
    }
   },
   "source": [
    "## Exportando dados\n",
    "\n",
    "* `CSV`: [`.to_csv()`](https://pandas.pydata.org/pandas-docs/stable/reference/api/pandas.DataFrame.to_csv.html)\n",
    "* `Excel`: [`.to_excel()`](https://pandas.pydata.org/pandas-docs/stable/reference/api/pandas.DataFrame.to_excel.html)"
   ]
  },
  {
   "cell_type": "markdown",
   "metadata": {
    "slideshow": {
     "slide_type": "slide"
    }
   },
   "source": [
    "## Corona Vírus\n",
    "\n",
    "A [Kaggle](https://www.kaggle.com) possui um dataset de Coronavirus. \n",
    "\n",
    "Clique [aqui](https://www.kaggle.com/sudalairajkumar/novel-corona-virus-2019-dataset#covid_19_data.csv) para saber mais.\n",
    "\n",
    "Vamos usar a versão de **28 de Agosto de 2020**."
   ]
  },
  {
   "cell_type": "code",
   "execution_count": null,
   "metadata": {
    "scrolled": true,
    "slideshow": {
     "slide_type": "fragment"
    }
   },
   "outputs": [],
   "source": [
    "corona = pd.read_csv('data/covid_19_data.csv', index_col=0)"
   ]
  },
  {
   "cell_type": "markdown",
   "metadata": {
    "slideshow": {
     "slide_type": "slide"
    }
   },
   "source": [
    "## Inspecionando o *DataFrame*"
   ]
  },
  {
   "cell_type": "code",
   "execution_count": null,
   "metadata": {
    "scrolled": false,
    "slideshow": {
     "slide_type": "fragment"
    }
   },
   "outputs": [],
   "source": [
    "type(corona)"
   ]
  },
  {
   "cell_type": "code",
   "execution_count": null,
   "metadata": {
    "scrolled": true,
    "slideshow": {
     "slide_type": "fragment"
    }
   },
   "outputs": [],
   "source": [
    "corona.info()"
   ]
  },
  {
   "cell_type": "code",
   "execution_count": null,
   "metadata": {
    "slideshow": {
     "slide_type": "subslide"
    }
   },
   "outputs": [],
   "source": [
    "corona.shape"
   ]
  },
  {
   "cell_type": "code",
   "execution_count": null,
   "metadata": {
    "slideshow": {
     "slide_type": "fragment"
    }
   },
   "outputs": [],
   "source": [
    "corona.columns"
   ]
  },
  {
   "cell_type": "code",
   "execution_count": null,
   "metadata": {
    "slideshow": {
     "slide_type": "subslide"
    }
   },
   "outputs": [],
   "source": [
    "corona.head()\n",
    "#corona.head(3)"
   ]
  },
  {
   "cell_type": "code",
   "execution_count": null,
   "metadata": {
    "slideshow": {
     "slide_type": "subslide"
    }
   },
   "outputs": [],
   "source": [
    "corona.tail()\n",
    "#corona.tail(3)"
   ]
  },
  {
   "cell_type": "markdown",
   "metadata": {
    "slideshow": {
     "slide_type": "slide"
    }
   },
   "source": [
    "## Removendo Entradas\n",
    "\n",
    "Usando o [`pd.drop()`](https://pandas.pydata.org/pandas-docs/stable/reference/api/pandas.DataFrame.drop.html), se atentar com os argumentos:\n",
    "* `axis`: `0` para linhas `1` para colunas\n",
    "* `inplace`: `True` altera o *DataFrame* atual\n",
    "\n",
    "Vamos fazer uma análise global então removeremos as províncias/estados (coluna `Province/State`)"
   ]
  },
  {
   "cell_type": "code",
   "execution_count": null,
   "metadata": {
    "scrolled": true,
    "slideshow": {
     "slide_type": "subslide"
    }
   },
   "outputs": [],
   "source": [
    "corona.drop(['Province/State'], axis=1, inplace=True)  # True ele altera o DF\n",
    "corona.head()\n",
    "#corona = pd.read_csv('data/covid_19_data.csv', index_col=0)"
   ]
  },
  {
   "cell_type": "markdown",
   "metadata": {
    "slideshow": {
     "slide_type": "slide"
    }
   },
   "source": [
    "## Lidando com dados faltantes (*missing values* `NA`)\n",
    "\n",
    "| Method         | Description                                                  |\n",
    "| -------------- | ------------------------------------------------------------ |\n",
    "| `df.dropna()`  | Filtra `NA`, selecionar linhas (`axis = 0`) ou selecionar colunas (`axis=1`) |\n",
    "| `df.fillna()`  | Preencher os `NA` com algum valor  |\n",
    "| `df.isnull()`  | Retorna os valores booleanos indicando quais valores são `NA` |"
   ]
  },
  {
   "cell_type": "code",
   "execution_count": null,
   "metadata": {
    "slideshow": {
     "slide_type": "subslide"
    }
   },
   "outputs": [],
   "source": [
    "corona.dropna(axis=0).head()"
   ]
  },
  {
   "cell_type": "code",
   "execution_count": null,
   "metadata": {
    "scrolled": false,
    "slideshow": {
     "slide_type": "subslide"
    }
   },
   "outputs": [],
   "source": [
    "corona.isnull()"
   ]
  },
  {
   "cell_type": "code",
   "execution_count": null,
   "metadata": {
    "slideshow": {
     "slide_type": "subslide"
    }
   },
   "outputs": [],
   "source": [
    "corona.fillna(0, inplace=True)\n",
    "corona.head()"
   ]
  },
  {
   "cell_type": "markdown",
   "metadata": {
    "slideshow": {
     "slide_type": "slide"
    }
   },
   "source": [
    "## Selecionando e Filtrando\n",
    "\n",
    "* `DataFrame['Coluna']` = retorna uma *Series*\n",
    "* `DataFrame[['Coluna']]` = retorna um *DataFrame*\n",
    "* `DataFrame[['Coluna_1, 'Coluna_2']]` = multíplas Colunas\n",
    "* `DataFrame.query()`\n",
    "\n",
    "Tanto para *DataFrame* quanto para *Series*\n",
    "\n",
    "* `.loc[]`\n",
    "* `.iloc[]`\n",
    "* `.where()`"
   ]
  },
  {
   "cell_type": "code",
   "execution_count": null,
   "metadata": {
    "scrolled": true,
    "slideshow": {
     "slide_type": "subslide"
    }
   },
   "outputs": [],
   "source": [
    "# retornando uma Series\n",
    "corona['Country/Region']"
   ]
  },
  {
   "cell_type": "code",
   "execution_count": null,
   "metadata": {
    "slideshow": {
     "slide_type": "subslide"
    }
   },
   "outputs": [],
   "source": [
    "# retornando um DataFrame\n",
    "corona[['Country/Region']]"
   ]
  },
  {
   "cell_type": "code",
   "execution_count": null,
   "metadata": {
    "slideshow": {
     "slide_type": "subslide"
    }
   },
   "outputs": [],
   "source": [
    "corona[['Country/Region', 'Confirmed']]\n",
    "# corona['Country/Region', 'Confirmed']  # Gera um erro "
   ]
  },
  {
   "cell_type": "code",
   "execution_count": null,
   "metadata": {
    "scrolled": true,
    "slideshow": {
     "slide_type": "subslide"
    }
   },
   "outputs": [],
   "source": [
    "# retornando uma linha (observação) com base em um índice\n",
    "corona.loc[10694] #index\n",
    "#corona.index"
   ]
  },
  {
   "cell_type": "code",
   "execution_count": null,
   "metadata": {
    "slideshow": {
     "slide_type": "subslide"
    }
   },
   "outputs": [],
   "source": [
    "# retornando uma linha (observação) com base em um índice\n",
    "corona.iloc[10694] #localização"
   ]
  },
  {
   "cell_type": "code",
   "execution_count": null,
   "metadata": {
    "scrolled": true,
    "slideshow": {
     "slide_type": "subslide"
    }
   },
   "outputs": [],
   "source": [
    "# Filtrando e Retornando um DataFrame\n",
    "corona[corona['Confirmed'] >8e4]  # 8e4 é 8 com 4 zeros = 80,000"
   ]
  },
  {
   "cell_type": "code",
   "execution_count": null,
   "metadata": {
    "slideshow": {
     "slide_type": "subslide"
    }
   },
   "outputs": [],
   "source": [
    "# Filtrando variáveis qualitativas\n",
    "corona[corona['Country/Region'] == 'Brazil']"
   ]
  },
  {
   "cell_type": "code",
   "execution_count": null,
   "metadata": {
    "scrolled": true,
    "slideshow": {
     "slide_type": "subslide"
    }
   },
   "outputs": [],
   "source": [
    "# Filtrando e Retornando um DataFrame\n",
    "corona[(corona['Confirmed'] > 8e4) & (corona['Recovered'] > 1000)]"
   ]
  },
  {
   "cell_type": "code",
   "execution_count": null,
   "metadata": {
    "slideshow": {
     "slide_type": "subslide"
    }
   },
   "outputs": [],
   "source": [
    "# Filtrando e Retornando um DataFrame com .loc\n",
    "corona.loc[(corona['Confirmed'].between(8e4, 10e4, inclusive=False)) &\n",
    "           (corona['Recovered'].between(12e3, 20e3, inclusive=True))]"
   ]
  },
  {
   "cell_type": "code",
   "execution_count": null,
   "metadata": {
    "scrolled": true,
    "slideshow": {
     "slide_type": "subslide"
    }
   },
   "outputs": [],
   "source": [
    "# Filtrando e Retornando um DataFrame com df.where()\n",
    "corona.where(corona['Confirmed'] > 10e2)\n",
    "# Obs: se atente com os NaN"
   ]
  },
  {
   "cell_type": "code",
   "execution_count": null,
   "metadata": {
    "scrolled": true,
    "slideshow": {
     "slide_type": "subslide"
    }
   },
   "outputs": [],
   "source": [
    "# Filtrando e Retornando um DataFrame com df.query()\n",
    "corona.query('Confirmed > 8e4')"
   ]
  },
  {
   "cell_type": "code",
   "execution_count": null,
   "metadata": {
    "slideshow": {
     "slide_type": "subslide"
    }
   },
   "outputs": [],
   "source": [
    "# Filtrando e Retornando um DataFrame com df.query()\n",
    "corona.query('Confirmed > 8e4 & 10e3 < Recovered < 12e3')"
   ]
  },
  {
   "cell_type": "markdown",
   "metadata": {
    "slideshow": {
     "slide_type": "slide"
    }
   },
   "source": [
    "## Fatiando\n",
    "\n",
    "* `DataFrame['Coluna']` = retorna uma *Series*\n",
    "* `DataFrame[['Coluna']]` = retorna um *DataFrame*\n",
    "* `DataFrame[['Coluna_1, 'Coluna_2']]` = multíplas Colunas\n",
    "\n",
    "Tanto para *DataFrame* quanto para *Series*\n",
    "\n",
    "* `.loc[]`\n",
    "* `.iloc[]`"
   ]
  },
  {
   "cell_type": "code",
   "execution_count": null,
   "metadata": {
    "slideshow": {
     "slide_type": "subslide"
    }
   },
   "outputs": [],
   "source": [
    "# Fatiando com loc[]\n",
    "corona.loc[100:200]"
   ]
  },
  {
   "cell_type": "code",
   "execution_count": null,
   "metadata": {
    "scrolled": true,
    "slideshow": {
     "slide_type": "subslide"
    }
   },
   "outputs": [],
   "source": [
    "# Fatiando com loc[]\n",
    "corona.loc[100:200, 'Country/Region':'Confirmed']"
   ]
  },
  {
   "cell_type": "code",
   "execution_count": null,
   "metadata": {
    "slideshow": {
     "slide_type": "subslide"
    }
   },
   "outputs": [],
   "source": [
    "# Fatiando com iloc[]\n",
    "corona.iloc[100:200, :3]"
   ]
  },
  {
   "cell_type": "code",
   "execution_count": null,
   "metadata": {
    "slideshow": {
     "slide_type": "subslide"
    }
   },
   "outputs": [],
   "source": [
    "# Criando um subset com algumas variáveis (lista)\n",
    "variaveis = ['Country/Region', 'Confirmed', 'Deaths']\n",
    "corona[variaveis] "
   ]
  },
  {
   "cell_type": "markdown",
   "metadata": {
    "slideshow": {
     "slide_type": "slide"
    }
   },
   "source": [
    "## Criando Novas Variáveis"
   ]
  },
  {
   "cell_type": "code",
   "execution_count": null,
   "metadata": {
    "slideshow": {
     "slide_type": "subslide"
    }
   },
   "outputs": [],
   "source": [
    "corona['Confirmed + Deaths'] = corona['Confirmed'] + corona['Deaths']\n",
    "corona.head(3)"
   ]
  },
  {
   "cell_type": "code",
   "execution_count": null,
   "metadata": {
    "slideshow": {
     "slide_type": "subslide"
    }
   },
   "outputs": [],
   "source": [
    "corona['Death by Cases'] = corona['Deaths'] / corona['Confirmed']\n",
    "corona.head(3)"
   ]
  },
  {
   "cell_type": "markdown",
   "metadata": {
    "slideshow": {
     "slide_type": "slide"
    }
   },
   "source": [
    "## `pandas` `pd.cut()` e `pd.qcut()`\n",
    "\n",
    "* `pd.cut()`: ordena valores em *bins* (faixas de valores)\n",
    "    - `bins=x`: quantidade de faixas de valores desejada \n",
    "* `pd.qcut()`: mesma coisa que `pd.cut()` mas usa *quantis*\n",
    "    - `q=x`: quantidade de quantis\n",
    "        * 3: tercis\n",
    "        * 4: quantis\n",
    "        * 5: quintis\n",
    "        * 10: decis"
   ]
  },
  {
   "cell_type": "code",
   "execution_count": null,
   "metadata": {
    "slideshow": {
     "slide_type": "subslide"
    }
   },
   "outputs": [],
   "source": [
    "# 4 faixas (Quantis)\n",
    "pd.cut(corona['Confirmed'],bins=4)"
   ]
  },
  {
   "cell_type": "code",
   "execution_count": null,
   "metadata": {
    "slideshow": {
     "slide_type": "subslide"
    }
   },
   "outputs": [],
   "source": [
    "# 3 (Tercis)\n",
    "pd.cut(corona['Confirmed'], 3)"
   ]
  },
  {
   "cell_type": "markdown",
   "metadata": {
    "slideshow": {
     "slide_type": "slide"
    }
   },
   "source": [
    "## Convertendo Valores\n",
    "\n",
    "* `.to_numeric()`\n",
    "* `.to_datetime()`\n",
    "* `.astype()`\n",
    "    - `'bool'`\n",
    "    - `'int64'`\n",
    "    - `'float64'`\n",
    "    - `'str'`\n",
    "    - `'category'`\n",
    "* `.replace()`"
   ]
  },
  {
   "cell_type": "code",
   "execution_count": null,
   "metadata": {
    "slideshow": {
     "slide_type": "subslide"
    }
   },
   "outputs": [],
   "source": [
    "corona['Country/Region'].replace('Mainland China', 'China', inplace=True)"
   ]
  },
  {
   "cell_type": "code",
   "execution_count": null,
   "metadata": {
    "slideshow": {
     "slide_type": "subslide"
    }
   },
   "outputs": [],
   "source": [
    "corona.head(3)"
   ]
  },
  {
   "cell_type": "code",
   "execution_count": null,
   "metadata": {
    "slideshow": {
     "slide_type": "subslide"
    }
   },
   "outputs": [],
   "source": [
    "corona.info()"
   ]
  },
  {
   "cell_type": "code",
   "execution_count": null,
   "metadata": {
    "slideshow": {
     "slide_type": "subslide"
    }
   },
   "outputs": [],
   "source": [
    "corona['Last Update'] = pd.to_datetime(corona['Last Update'])"
   ]
  },
  {
   "cell_type": "code",
   "execution_count": null,
   "metadata": {
    "slideshow": {
     "slide_type": "fragment"
    }
   },
   "outputs": [],
   "source": [
    "corona.info()"
   ]
  },
  {
   "cell_type": "markdown",
   "metadata": {
    "slideshow": {
     "slide_type": "slide"
    }
   },
   "source": [
    "## Removendo duplicados\n",
    "\n",
    "* `.unique()`: retorna valores únicos\n",
    "* `.duplicated()`: retorna `bool` para linhas duplicadas\n",
    "* `drop_duplicates()`: retorna *DataFrame* com linhas duplicadas removidas"
   ]
  },
  {
   "cell_type": "code",
   "execution_count": null,
   "metadata": {
    "slideshow": {
     "slide_type": "subslide"
    }
   },
   "outputs": [],
   "source": [
    "# Quantos países?\n",
    "len(corona['Country/Region'].unique())"
   ]
  },
  {
   "cell_type": "code",
   "execution_count": null,
   "metadata": {
    "slideshow": {
     "slide_type": "fragment"
    }
   },
   "outputs": [],
   "source": [
    "# Quantos Duplicados?\n",
    "sum(corona.duplicated(subset=['Country/Region']))"
   ]
  },
  {
   "cell_type": "code",
   "execution_count": null,
   "metadata": {
    "slideshow": {
     "slide_type": "subslide"
    }
   },
   "outputs": [],
   "source": [
    "corona.drop_duplicates(subset=['Country/Region'], keep='last', inplace=True)\n",
    "corona.head(3)\n",
    "#Obs: se atente ao index"
   ]
  },
  {
   "cell_type": "code",
   "execution_count": null,
   "metadata": {
    "scrolled": false,
    "slideshow": {
     "slide_type": "subslide"
    }
   },
   "outputs": [],
   "source": [
    "corona.info()"
   ]
  },
  {
   "cell_type": "markdown",
   "metadata": {
    "slideshow": {
     "slide_type": "slide"
    }
   },
   "source": [
    "## Ordenando e Rankeando\n",
    "\n",
    "* `.sort_index()`\n",
    "* `.sort_values()`: ordena de acordo com uma coluna\n",
    "* `.rank()`: computa ranks numéricos ($1$ à $n$)"
   ]
  },
  {
   "cell_type": "code",
   "execution_count": null,
   "metadata": {
    "scrolled": true,
    "slideshow": {
     "slide_type": "subslide"
    }
   },
   "outputs": [],
   "source": [
    "corona.sort_values(by=['Recovered'], ascending=False).head(5)"
   ]
  },
  {
   "cell_type": "markdown",
   "metadata": {
    "slideshow": {
     "slide_type": "slide"
    }
   },
   "source": [
    "## Países\n",
    "\n",
    "A [Kaggle](https://www.kaggle.com) possui um dataset de Países.\n",
    "\n",
    "Clique [aqui](https://www.kaggle.com/fernandol/countries-of-the-world) para saber mais."
   ]
  },
  {
   "cell_type": "code",
   "execution_count": null,
   "metadata": {
    "scrolled": false,
    "slideshow": {
     "slide_type": "fragment"
    }
   },
   "outputs": [],
   "source": [
    "paises = pd.read_csv('data/countries of the world.csv')\n",
    "paises.head()"
   ]
  },
  {
   "cell_type": "markdown",
   "metadata": {
    "slideshow": {
     "slide_type": "subslide"
    }
   },
   "source": [
    "## Alguma coisa errada\n",
    "\n",
    "`Dtype` das colunas numéricas aparece como `object` quando deveria ser `float`"
   ]
  },
  {
   "cell_type": "code",
   "execution_count": null,
   "metadata": {
    "slideshow": {
     "slide_type": "subslide"
    }
   },
   "outputs": [],
   "source": [
    "paises.info()"
   ]
  },
  {
   "cell_type": "code",
   "execution_count": null,
   "metadata": {
    "scrolled": false,
    "slideshow": {
     "slide_type": "subslide"
    }
   },
   "outputs": [],
   "source": [
    "paises = pd.read_csv('data/countries of the world.csv', decimal=',')\n",
    "paises.head()"
   ]
  },
  {
   "cell_type": "code",
   "execution_count": null,
   "metadata": {
    "scrolled": false,
    "slideshow": {
     "slide_type": "subslide"
    }
   },
   "outputs": [],
   "source": [
    "paises.info()"
   ]
  },
  {
   "cell_type": "markdown",
   "metadata": {
    "slideshow": {
     "slide_type": "slide"
    }
   },
   "source": [
    "## Variáveis Qualitativas\n",
    "\n",
    "* `.astype('category')`\n",
    "* `pd.get_dummies()`"
   ]
  },
  {
   "cell_type": "code",
   "execution_count": null,
   "metadata": {
    "slideshow": {
     "slide_type": "subslide"
    }
   },
   "outputs": [],
   "source": [
    "paises['Region'] = paises['Region'].astype('category')\n",
    "paises.info()"
   ]
  },
  {
   "cell_type": "code",
   "execution_count": null,
   "metadata": {
    "scrolled": false,
    "slideshow": {
     "slide_type": "subslide"
    }
   },
   "outputs": [],
   "source": [
    "pd.get_dummies(paises['Region'], prefix='REGION')"
   ]
  },
  {
   "cell_type": "code",
   "execution_count": null,
   "metadata": {
    "slideshow": {
     "slide_type": "subslide"
    }
   },
   "outputs": [],
   "source": [
    "paises_dummies = pd.concat([paises, pd.get_dummies(paises['Region'], prefix='REGION')],\n",
    "                           axis=1).drop(['Region'],axis=1)\n",
    "paises_dummies.head()"
   ]
  },
  {
   "cell_type": "markdown",
   "metadata": {
    "slideshow": {
     "slide_type": "subslide"
    }
   },
   "source": [
    "## Outra coisa errada\n",
    "\n",
    "`Country` Estados Unidos aparece como `United States` e o nosso dataset `corona` aparece como `US`. Corrigir com o `pd.replace`"
   ]
  },
  {
   "cell_type": "code",
   "execution_count": null,
   "metadata": {
    "slideshow": {
     "slide_type": "subslide"
    }
   },
   "outputs": [],
   "source": [
    "paises.loc[paises['Country'] == 'United States']"
   ]
  },
  {
   "cell_type": "code",
   "execution_count": null,
   "metadata": {
    "slideshow": {
     "slide_type": "subslide"
    }
   },
   "outputs": [],
   "source": [
    "paises['Country'].replace('United States', 'US', inplace=True)"
   ]
  },
  {
   "cell_type": "markdown",
   "metadata": {
    "slideshow": {
     "slide_type": "slide"
    }
   },
   "source": [
    "## `pandas` - `join()`\n",
    "\n",
    "| Opção    | Comportamento                                                                       |\n",
    "| -------- | ----------------------------------------------------------------------------------- |\n",
    "| `inner`  | Usa somente as combinações de chaves (*keys*) observadas em ambos *DataFrames*      |\n",
    "| `left`   | Usa todas as combinações de chaves (*keys*) encontradas no *DataFrames* da esquerda |\n",
    "| `right`  | Usa todas as combinações de chaves (*keys*) encontradas no *DataFrames* da direita  |\n",
    "| `output` | Usa todas as combinações de chaves (*keys*) observadas em ambos *DataFrames* juntos |"
   ]
  },
  {
   "cell_type": "markdown",
   "metadata": {
    "slideshow": {
     "slide_type": "fragment"
    }
   },
   "source": [
    "![pandas-join](http://www.datasciencemadesimple.com/wp-content/uploads/2017/09/join-or-merge-in-python-pandas-1.png)"
   ]
  },
  {
   "cell_type": "code",
   "execution_count": null,
   "metadata": {
    "scrolled": true,
    "slideshow": {
     "slide_type": "subslide"
    }
   },
   "outputs": [],
   "source": [
    "corona = corona.merge(paises, how='left', left_on='Country/Region', right_on='Country')"
   ]
  },
  {
   "cell_type": "code",
   "execution_count": null,
   "metadata": {
    "slideshow": {
     "slide_type": "subslide"
    }
   },
   "outputs": [],
   "source": [
    "corona.tail()"
   ]
  },
  {
   "cell_type": "code",
   "execution_count": null,
   "metadata": {
    "slideshow": {
     "slide_type": "subslide"
    }
   },
   "outputs": [],
   "source": [
    "corona.info()"
   ]
  },
  {
   "cell_type": "markdown",
   "metadata": {
    "slideshow": {
     "slide_type": "subslide"
    }
   },
   "source": [
    "## Salvar o dataset limpo\n",
    "\n",
    "Para usar no futuro"
   ]
  },
  {
   "cell_type": "code",
   "execution_count": null,
   "metadata": {
    "slideshow": {
     "slide_type": "fragment"
    }
   },
   "outputs": [],
   "source": [
    "corona.to_csv('data/corona_limpo.csv', index=None)"
   ]
  },
  {
   "cell_type": "markdown",
   "metadata": {
    "slideshow": {
     "slide_type": "slide"
    }
   },
   "source": [
    "![mapa-conceitual](https://github.com/storopoli/ciencia-de-dados/raw/master/Mapas%20Conceituais/7%20-%20Python%20-%20pandas.png)"
   ]
  },
  {
   "cell_type": "markdown",
   "metadata": {
    "slideshow": {
     "slide_type": "slide"
    }
   },
   "source": [
    "# Atividade\n",
    "\n",
    "Importar o arquivo `data/mtcars.csv`. É uma base de dados extraída da revista americana sobre carros *Motor Trend US* de 1974. Possui 32 carros(linhas) e 11 características (colunas)\n",
    "\n",
    "## Características\n",
    "* `mpg`: Milhas por Galão (consumo)\n",
    "* `cyl`: Número de cilíndros\n",
    "* `disp`: Cilindada (em polegada cúbica)\n",
    "* `hp`: Cavalos de Potência (HP)\n",
    "* `drat`: Relação do eixo traseiro\n",
    "* `wt`:\tPeso em (1,000 libras)\n",
    "* `qsec`: Tempo que atinge 400m (1/4 de milha)\n",
    "* `vs`: Motor (0 = Forma em V, 1 = Reto)\n",
    "* `am`: Transmissão (0 = Automático, 1 = Manual)\n",
    "* `gear`: Número de marchas\n",
    "* `carb`: Número de carburadores"
   ]
  },
  {
   "cell_type": "markdown",
   "metadata": {
    "slideshow": {
     "slide_type": "subslide"
    }
   },
   "source": [
    "## Importar os dados\n",
    "\n",
    "Use o `pd.read_csv()` para importar os dados, use o argumento `index_col=0` para que a primmeira coluna (modelo) seja os índices do *DataFrame*"
   ]
  },
  {
   "cell_type": "code",
   "execution_count": null,
   "metadata": {
    "slideshow": {
     "slide_type": "fragment"
    }
   },
   "outputs": [],
   "source": [
    "import pandas as pd\n",
    "\n",
    "mtcars = pd.read_csv()"
   ]
  },
  {
   "cell_type": "markdown",
   "metadata": {
    "slideshow": {
     "slide_type": "subslide"
    }
   },
   "source": [
    "Inspeciona o *DataFrame* com `.info()` e veja se todas as variáveis possuem os valores apropriados. Também verifique se você possui dados faltantes (missing, `NA`, `NaN`)."
   ]
  },
  {
   "cell_type": "code",
   "execution_count": null,
   "metadata": {
    "slideshow": {
     "slide_type": "fragment"
    }
   },
   "outputs": [],
   "source": []
  },
  {
   "cell_type": "markdown",
   "metadata": {
    "slideshow": {
     "slide_type": "subslide"
    }
   },
   "source": [
    "## Ordenando\n",
    "\n",
    "Use o `.sort_values()` para ordenar o dataset descrescente em cavalos de potência (`hp`). Se atente ao **descrescente**\n",
    "\n",
    "Qual o carro com mais HP? Ele está muito mais a frente do segundo colocado?"
   ]
  },
  {
   "cell_type": "code",
   "execution_count": null,
   "metadata": {},
   "outputs": [],
   "source": [
    "mtcars.sort_values().head()"
   ]
  },
  {
   "cell_type": "markdown",
   "metadata": {
    "slideshow": {
     "slide_type": "subslide"
    }
   },
   "source": [
    "## Filtrando\n",
    "\n",
    "1. Crie um *DataFrame* somente com os carros automáticos e use o `.shape` e veja quantos carros são dentre os 32\n",
    "2. Crie um *DataFrame* somente com os carros que possuem motor em forma de V e use o `.shape` e veja quantos carros são dentre os 32"
   ]
  },
  {
   "cell_type": "code",
   "execution_count": null,
   "metadata": {
    "slideshow": {
     "slide_type": "fragment"
    }
   },
   "outputs": [],
   "source": [
    "# am - Transmissão (0 = Automático, 1 = Manual)\n",
    "\n"
   ]
  },
  {
   "cell_type": "code",
   "execution_count": null,
   "metadata": {
    "slideshow": {
     "slide_type": "fragment"
    }
   },
   "outputs": [],
   "source": [
    "# vs - Motor (0 = Forma em V, 1 = Reto)\n",
    "\n"
   ]
  },
  {
   "cell_type": "markdown",
   "metadata": {
    "slideshow": {
     "slide_type": "subslide"
    }
   },
   "source": [
    "## Selecionando aleatoriamente uma amostra do `mtcars`\n",
    "\n",
    "1. Leia a documentação do [`pd.sample()`](https://pandas.pydata.org/pandas-docs/stable/reference/api/pandas.DataFrame.sample.html)\n",
    "2. Use o `.sample()` para selecionar aleatoriamente uma amostra de 10 carros. Se atente ao argumento `replace`."
   ]
  },
  {
   "cell_type": "code",
   "execution_count": null,
   "metadata": {
    "slideshow": {
     "slide_type": "fragment"
    }
   },
   "outputs": [],
   "source": []
  }
 ],
 "metadata": {
  "celltoolbar": "Slideshow",
  "kernelspec": {
   "display_name": "Python 3.8.5 64-bit",
   "language": "python",
   "name": "python38564bit4f0fb9f49a9f4bec8e86f3f357761f1a"
  },
  "language_info": {
   "codemirror_mode": {
    "name": "ipython",
    "version": 3
   },
   "file_extension": ".py",
   "mimetype": "text/x-python",
   "name": "python",
   "nbconvert_exporter": "python",
   "pygments_lexer": "ipython3",
   "version": "3.8.5"
  }
 },
 "nbformat": 4,
 "nbformat_minor": 4
}
