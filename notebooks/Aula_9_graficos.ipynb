{
 "cells": [
  {
   "cell_type": "markdown",
   "metadata": {
    "slideshow": {
     "slide_type": "skip"
    }
   },
   "source": [
    "[![Binder](https://mybinder.org/badge_logo.svg)](https://mybinder.org/v2/gh/storopoli/ciencia-de-dados/master?filepath=notebooks%2FAula_9_graficos.ipynb)\n",
    "<br>\n",
    "[![Open In Colab](https://colab.research.google.com/assets/colab-badge.svg)](https://colab.research.google.com/github/storopoli/ciencia-de-dados/blob/master/notebooks/Aula_9_graficos.ipynb)"
   ]
  },
  {
   "cell_type": "markdown",
   "metadata": {
    "slideshow": {
     "slide_type": "slide"
    }
   },
   "source": [
    "# Gráficos\n",
    "\n",
    "**Objetivos**: Apresentar a biblioteca `matplolib`, e `Pandas.plot`."
   ]
  },
  {
   "cell_type": "code",
   "execution_count": null,
   "metadata": {
    "slideshow": {
     "slide_type": "slide"
    }
   },
   "outputs": [],
   "source": [
    "import matplotlib.pyplot as plt\n",
    "import pandas as pd\n",
    "import numpy as np\n",
    "import seaborn as sns"
   ]
  },
  {
   "cell_type": "code",
   "execution_count": null,
   "metadata": {
    "slideshow": {
     "slide_type": "fragment"
    }
   },
   "outputs": [],
   "source": [
    "mtcars = pd.read_csv(\"data/mtcars.csv\", index_col=0)"
   ]
  },
  {
   "cell_type": "markdown",
   "metadata": {
    "slideshow": {
     "slide_type": "slide"
    }
   },
   "source": [
    "## Análise Exploratória de Dados\n",
    "\n",
    "**Def:** Procedimentos para analisar dados, técnicas para interpretar os resultados de tais procedimentos, formas de planejar a coleta de dados para tornar sua análise mais fácil, ou mais precisa, e todo o mecanismo e resultados das estatísticas aplicáveis à análise de dados (Tukey, 1977)"
   ]
  },
  {
   "cell_type": "markdown",
   "metadata": {
    "slideshow": {
     "slide_type": "subslide"
    }
   },
   "source": [
    "### 1-D - Histograma"
   ]
  },
  {
   "cell_type": "code",
   "execution_count": null,
   "metadata": {
    "slideshow": {
     "slide_type": "fragment"
    }
   },
   "outputs": [],
   "source": [
    "# pd.Series.plot()\n",
    "mtcars['qsec'].plot(kind='hist')\n",
    "plt.show()"
   ]
  },
  {
   "cell_type": "markdown",
   "metadata": {
    "slideshow": {
     "slide_type": "subslide"
    }
   },
   "source": [
    "## 2-D - Dispersão"
   ]
  },
  {
   "cell_type": "code",
   "execution_count": null,
   "metadata": {
    "slideshow": {
     "slide_type": "fragment"
    }
   },
   "outputs": [],
   "source": [
    "# pd.DataFrame.plot()\n",
    "mtcars.plot(x='hp', y='disp', kind='scatter')\n",
    "plt.show()"
   ]
  },
  {
   "cell_type": "markdown",
   "metadata": {
    "slideshow": {
     "slide_type": "subslide"
    }
   },
   "source": [
    "## N-D - Correlação (*Pairplot*)"
   ]
  },
  {
   "cell_type": "code",
   "execution_count": null,
   "metadata": {},
   "outputs": [],
   "source": [
    "mtcars.columns"
   ]
  },
  {
   "cell_type": "code",
   "execution_count": null,
   "metadata": {
    "slideshow": {
     "slide_type": "fragment"
    }
   },
   "outputs": [],
   "source": [
    "sns.pairplot(mtcars.loc[:,'mpg':'hp'])\n",
    "plt.show()"
   ]
  },
  {
   "cell_type": "markdown",
   "metadata": {
    "slideshow": {
     "slide_type": "slide"
    }
   },
   "source": [
    "## Matplotlib\n",
    "\n",
    "* Convenção: `import matplolib.pyplot as plt`\n",
    "* Etapas\n",
    "\t1. Preparação dos Dados\n",
    "\t2. Criação do Gráfico\n",
    "\t3. Plot do Gráfico\n",
    "\t4. Customização do Gráfico\n",
    "\t5. Salvar o Gráfico\n",
    "\t6. Imprimir o Gráfico - `plt.show()`"
   ]
  },
  {
   "cell_type": "markdown",
   "metadata": {
    "slideshow": {
     "slide_type": "fragment"
    }
   },
   "source": [
    "### Anatomia de uma figura\n",
    "\n",
    "* Figura (Figure)\n",
    "* Sub-Figuras (Axis)\n",
    "* Eixo X (X-axis)\n",
    "\t* Label\n",
    "\t* Ticks\n",
    "\t* Limits\n",
    "* Eixo Y (Y-axis)\n",
    "\t* Label\n",
    "\t* Ticks\n",
    "\t* Limits\n",
    "* Título (Title)\n",
    "* Legenda (Legend)\n",
    "* Objetos (plots)"
   ]
  },
  {
   "cell_type": "markdown",
   "metadata": {
    "slideshow": {
     "slide_type": "subslide"
    }
   },
   "source": [
    "<img src=\"images/matplotlib-fig-anatomy.png\" alt=\"matplotlib-fig-anatomy\" style=\"width: 400px;\"/>"
   ]
  },
  {
   "cell_type": "markdown",
   "metadata": {
    "slideshow": {
     "slide_type": "subslide"
    }
   },
   "source": [
    "<img src=\"images/matplotlib-anatomy.png\" alt=\"matplotlib-anatomy\" style=\"width: 400px;\"/>"
   ]
  },
  {
   "cell_type": "markdown",
   "metadata": {
    "slideshow": {
     "slide_type": "subslide"
    }
   },
   "source": [
    "### Exemplo - Relações Lineares, Quadráticas e Cúbicas"
   ]
  },
  {
   "cell_type": "code",
   "execution_count": null,
   "metadata": {},
   "outputs": [],
   "source": [
    "type(x)"
   ]
  },
  {
   "cell_type": "code",
   "execution_count": null,
   "metadata": {
    "slideshow": {
     "slide_type": "fragment"
    }
   },
   "outputs": [],
   "source": [
    "x = np.linspace(0, 2, 100) # entre 0 e 2 com 100 quebras iguais\n",
    "\n",
    "plt.plot(x, x, label='linear') # Linha Linear\n",
    "plt.plot(x, x**2, label='quadrática') # Linha Quadrática\n",
    "plt.plot(x, x**3, label='cúbica') # Linha Cúbica\n",
    "\n",
    "plt.xlabel('label eixo x')\n",
    "plt.ylabel('label eixo y')\n",
    "\n",
    "plt.title('Plot Simples')\n",
    "\n",
    "plt.legend() # Incluindo Legenda\n",
    "\n",
    "plt.show()"
   ]
  },
  {
   "cell_type": "markdown",
   "metadata": {
    "slideshow": {
     "slide_type": "subslide"
    }
   },
   "source": [
    "### Customizando o Gráfico\n",
    "\n",
    "[Muitas opções!](https://matplotlib.org/api/_as_gen/matplotlib.pyplot.html#module-matplotlib.pyplot)"
   ]
  },
  {
   "cell_type": "code",
   "execution_count": null,
   "metadata": {},
   "outputs": [],
   "source": [
    "np.linspace(0,2, 5)"
   ]
  },
  {
   "cell_type": "code",
   "execution_count": null,
   "metadata": {
    "slideshow": {
     "slide_type": "fragment"
    }
   },
   "outputs": [],
   "source": [
    "x = np.linspace(0, 2, 100) # entre 0 e 2 com 100 quebras iguais\n",
    "\n",
    "plt.plot(x, x, 'b-.', label='linear', linewidth=2, alpha = 0.5) # azul (b) padrão (-.-.-)\n",
    "plt.plot(x, x**2, 'r--', label='quadrática') # vermelho (r) padrão (----)\n",
    "plt.plot(x, x**3, 'g:', label='cúbica') # verde (g) padrão (....)\n",
    "\n",
    "plt.xlabel('eixo x')\n",
    "plt.ylabel('eixo y')\n",
    "\n",
    "plt.title('Plot Simples')\n",
    "\n",
    "plt.annotate('Aqui', xy=(0.5, 4), color = 'red') # Anotando texto em vermelho\n",
    "plt.annotate('Acolá',                         # Anotando texto com uma seta\n",
    "             xy=(0.3, 4.5), xycoords = 'data',\n",
    "             xytext=(1,6.0), textcoords='data',\n",
    "             arrowprops=dict(arrowstyle='->',\n",
    "                             connectionstyle='arc3'))\n",
    "\n",
    "\n",
    "plt.xticks(np.linspace(0,2, 9))  # Definindo os 'ticks' do eixo X\n",
    "plt.yticks(np.linspace(0,8, 9))  # Definindo os 'ticks' do eixo X\n",
    "#plt.xlim(-0.5, 2.5)  # Definindo os limites do eixo X\n",
    "#plt.ylim(2, 10)  # Definindo os limites do eixo X\n",
    "\n",
    "plt.grid(color='grey', linestyle=':', linewidth=0.5)  # Inserindo grade no gráfico\n",
    "\n",
    "plt.legend()\n",
    "\n",
    "plt.show()"
   ]
  },
  {
   "cell_type": "markdown",
   "metadata": {
    "slideshow": {
     "slide_type": "subslide"
    }
   },
   "source": [
    "### Mútiplos plots com `plt.subplots()`\n",
    "\n",
    "[Documentação](https://matplotlib.org/api/_as_gen/matplotlib.pyplot.subplot.html#matplotlib.pyplot.subplot)\n",
    "\n",
    "`fig, axes = plt.subplot(M,N)` \n",
    "\n",
    "* M são linhas\n",
    "* N são colunas"
   ]
  },
  {
   "cell_type": "code",
   "execution_count": null,
   "metadata": {
    "slideshow": {
     "slide_type": "subslide"
    }
   },
   "outputs": [],
   "source": [
    "fig, axes = plt.subplots(1, 3, sharey='row')\n",
    "x = np.linspace(0, 2, 100) # entre 0 e 2 com 100 quebras iguais\n",
    "\n",
    "axes[0].plot(x, x) # Linha Linear\n",
    "axes[0].set_title('Linear')\n",
    "\n",
    "\n",
    "axes[1].plot(x, x**2) # Linha Quadrática\n",
    "axes[1].set_title('Quadrática')\n",
    "\n",
    "axes[2].plot(x, x**3) # Linha Cúbica\n",
    "axes[2].set_title('Cúbica')\n",
    "\n",
    "plt.xlabel('eixo x')\n",
    "plt.ylabel('eixo y')\n",
    "\n",
    "fig.suptitle('Este é o título da Figura!', fontsize=16)\n",
    "\n",
    "plt.show()"
   ]
  },
  {
   "cell_type": "markdown",
   "metadata": {
    "slideshow": {
     "slide_type": "subslide"
    }
   },
   "source": [
    "### Tipos de Gráfico"
   ]
  },
  {
   "cell_type": "markdown",
   "metadata": {
    "slideshow": {
     "slide_type": "subslide"
    }
   },
   "source": [
    "#### Linha `plt.plot()`\n",
    "[Documentação](https://matplotlib.org/api/_as_gen/matplotlib.pyplot.plot.html#matplotlib.pyplot.plot)"
   ]
  },
  {
   "cell_type": "code",
   "execution_count": null,
   "metadata": {
    "slideshow": {
     "slide_type": "fragment"
    }
   },
   "outputs": [],
   "source": [
    "x = np.linspace(0, 2, 100)\n",
    "plt.plot(x, x**2)\n",
    "plt.show()"
   ]
  },
  {
   "cell_type": "markdown",
   "metadata": {
    "slideshow": {
     "slide_type": "subslide"
    }
   },
   "source": [
    "#### Dispersão `plt.scatter()`\n",
    "[Documentação](https://matplotlib.org/api/_as_gen/matplotlib.pyplot.scatter.html#matplotlib.pyplot.scatter)"
   ]
  },
  {
   "cell_type": "code",
   "execution_count": null,
   "metadata": {
    "slideshow": {
     "slide_type": "fragment"
    }
   },
   "outputs": [],
   "source": [
    "x = mtcars['hp']\n",
    "y = mtcars['mpg']\n",
    "\n",
    "plt.scatter(x, y)\n",
    "\n",
    "plt.show()"
   ]
  },
  {
   "cell_type": "markdown",
   "metadata": {
    "slideshow": {
     "slide_type": "subslide"
    }
   },
   "source": [
    "#### Barra `plt.bar()`\n",
    "[Documentação](https://matplotlib.org/api/_as_gen/matplotlib.pyplot.bar.html#matplotlib.pyplot.bar)"
   ]
  },
  {
   "cell_type": "code",
   "execution_count": null,
   "metadata": {
    "slideshow": {
     "slide_type": "fragment"
    }
   },
   "outputs": [],
   "source": [
    "cyl_grouped = mtcars.groupby('cyl').mean().reset_index()\n",
    "\n",
    "plt.bar(cyl_grouped['cyl'], cyl_grouped['hp'])\n",
    "\n",
    "plt.show()"
   ]
  },
  {
   "cell_type": "markdown",
   "metadata": {
    "slideshow": {
     "slide_type": "subslide"
    }
   },
   "source": [
    "#### Barra Horizontal `plt.barh()`\n",
    "[Documentação](https://matplotlib.org/api/_as_gen/matplotlib.pyplot.barh.html#matplotlib.pyplot.barh)"
   ]
  },
  {
   "cell_type": "code",
   "execution_count": null,
   "metadata": {
    "slideshow": {
     "slide_type": "fragment"
    }
   },
   "outputs": [],
   "source": [
    "cyl_grouped = mtcars.groupby('cyl').mean().reset_index()\n",
    "\n",
    "plt.barh(cyl_grouped['cyl'], cyl_grouped['hp'])\n",
    "\n",
    "plt.show()"
   ]
  },
  {
   "cell_type": "markdown",
   "metadata": {
    "slideshow": {
     "slide_type": "subslide"
    }
   },
   "source": [
    "#### Histograma `plt.hist()`\n",
    "[Documentação](https://matplotlib.org/api/_as_gen/matplotlib.pyplot.hist.html#matplotlib.pyplot.hist)"
   ]
  },
  {
   "cell_type": "code",
   "execution_count": null,
   "metadata": {
    "slideshow": {
     "slide_type": "fragment"
    }
   },
   "outputs": [],
   "source": [
    "x = mtcars['hp']\n",
    "\n",
    "plt.hist(x)\n",
    "\n",
    "plt.show()"
   ]
  },
  {
   "cell_type": "markdown",
   "metadata": {
    "slideshow": {
     "slide_type": "subslide"
    }
   },
   "source": [
    "#### Pizza `plt.pie()`\n",
    "[Documentação](https://matplotlib.org/api/_as_gen/matplotlib.pyplot.pie.html#matplotlib.pyplot.pie)"
   ]
  },
  {
   "cell_type": "code",
   "execution_count": null,
   "metadata": {
    "slideshow": {
     "slide_type": "fragment"
    }
   },
   "outputs": [],
   "source": [
    "cyl_frequency = mtcars['cyl'].value_counts()\n",
    "\n",
    "plt.pie(cyl_frequency, labels = cyl_frequency.index, autopct='%1.i%%')\n",
    "\n",
    "plt.legend()\n",
    "\n",
    "plt.title('Cilindros')\n",
    "\n",
    "plt.show()"
   ]
  },
  {
   "cell_type": "markdown",
   "metadata": {
    "slideshow": {
     "slide_type": "subslide"
    }
   },
   "source": [
    "#### Violin `plt.violinplot()`\n",
    "[Documentação](https://matplotlib.org/api/_as_gen/matplotlib.pyplot.violinplot.html#matplotlib.pyplot.violinplot)"
   ]
  },
  {
   "cell_type": "code",
   "execution_count": null,
   "metadata": {
    "slideshow": {
     "slide_type": "fragment"
    }
   },
   "outputs": [],
   "source": [
    "x = mtcars['hp']\n",
    "\n",
    "plt.violinplot(x)\n",
    "\n",
    "plt.show()"
   ]
  },
  {
   "cell_type": "markdown",
   "metadata": {
    "slideshow": {
     "slide_type": "subslide"
    }
   },
   "source": [
    "#### Area `plt.stackplot()`\n",
    "[Documentação](https://matplotlib.org/api/_as_gen/matplotlib.pyplot.stackplot.html#matplotlib.pyplot.stackplot)"
   ]
  },
  {
   "cell_type": "code",
   "execution_count": null,
   "metadata": {
    "slideshow": {
     "slide_type": "fragment"
    }
   },
   "outputs": [],
   "source": [
    "x = np.linspace(0, 1.5, 100)\n",
    "\n",
    "labels = [r'$x$', r'$x^2$', r'$x^3$', r'$x^4$']\n",
    "plt.stackplot(x, x, x**2, x**3, x**4, labels=labels)\n",
    "plt.legend(loc='upper left')\n",
    "\n",
    "plt.show()"
   ]
  },
  {
   "cell_type": "markdown",
   "metadata": {
    "slideshow": {
     "slide_type": "subslide"
    }
   },
   "source": [
    "### Salvando um gráfico `plt.savefig()`\n",
    "\n",
    "[Documentação](https://matplotlib.org/api/_as_gen/matplotlib.pyplot.savefig.html#matplotlib.pyplot.savefig)\n",
    "\n",
    "**Importante**: Lançar antes do `plt.show()`\n",
    "\n",
    "Aceita:\n",
    "* PDF\n",
    "* PNG\n",
    "* JPG\n",
    "* SVG"
   ]
  },
  {
   "cell_type": "code",
   "execution_count": null,
   "metadata": {
    "slideshow": {
     "slide_type": "fragment"
    }
   },
   "outputs": [],
   "source": [
    "x = np.linspace(0, 1.5, 100)\n",
    "\n",
    "labels = [r'$x$', r'$x^2$', r'$x^3$', r'$x^4$']\n",
    "plt.stackplot(x, x, x**2, x**3, x**4, labels=labels)\n",
    "plt.legend(loc='upper left')\n",
    "\n",
    "plt.savefig('images/salvando_figura.png', dpi=300)\n",
    "\n",
    "plt.show()"
   ]
  },
  {
   "cell_type": "markdown",
   "metadata": {
    "slideshow": {
     "slide_type": "slide"
    }
   },
   "source": [
    "## Pandas `pd.plot()`\n",
    "\n",
    "[Documentação](https://pandas.pydata.org/pandas-docs/stable/user_guide/visualization.html)\n",
    "\n",
    "API direta do pandas para matplolib. Recomendações:\n",
    "* Para `DataFrames`: `pd.plot()`\n",
    "* Para qualquer outra coisa (em especial `np.arrays`): `plt.plot()`"
   ]
  },
  {
   "cell_type": "markdown",
   "metadata": {
    "slideshow": {
     "slide_type": "subslide"
    }
   },
   "source": [
    "#### Como funciona?\n",
    "\n",
    "`DataFrame.plot()`:\n",
    "* `x` aqui pode ser também `Pd.Series.plot()`\n",
    "* `y`\n",
    "* `kind`:\n",
    "    * Linha (padrão): `'line'`\n",
    "    * Barra: `'bar'`\n",
    "    * Barra Horizontal: `'barh'`\n",
    "    * Histograma: `'hist'`\n",
    "    * Caixa: `'box'`\n",
    "    * Densidade: `'density'`\n",
    "    * Area: `'area'`\n",
    "    * Dispersão: `'scatter'`\n",
    "    * Hexagonal: `'hexbin'`\n",
    "    * Pizza: `'pie'`\n",
    "* `subplots`:\n",
    "\t* `sharex`\n",
    "\t* `sharey`\n",
    "\t* `layout`: tupla (M,N)\n",
    "* `figsize`: tupla(X, Y)\n",
    "* `sort_columns`: Ordenar colunas?\n",
    "* `title`: Título\n",
    "* `legend`: Legenda\n",
    "* Escala Logarítmica:\n",
    "\t* `logx`: Eixo X\n",
    "\t* `logy`: Eixo Y\n",
    "\t* `loglog`: Eixo X e Y\n",
    "* Eixos X e Y\n",
    "\t* Ticks\n",
    "\t\t* `xticks`\n",
    "\t\t* `yticks`\n",
    "\t* Limites\n",
    "\t\t* `xlim`\n",
    "\t\t* `ylim`\n",
    "\t* `secondary_y`: Eixo Y secundário"
   ]
  },
  {
   "cell_type": "markdown",
   "metadata": {
    "slideshow": {
     "slide_type": "subslide"
    }
   },
   "source": [
    "#### Salvando Figuras do Pandas?\n",
    "\n",
    "Mesmo esquema do `plt.savefig()`\n",
    "\n",
    "1. Importe pandas e matplolib.pyplot\n",
    "2. Plote a figura com `pd.plot()`\n",
    "3. Salve com `plt.savefig`"
   ]
  },
  {
   "cell_type": "markdown",
   "metadata": {
    "slideshow": {
     "slide_type": "slide"
    }
   },
   "source": [
    "## Atividade"
   ]
  },
  {
   "cell_type": "markdown",
   "metadata": {
    "slideshow": {
     "slide_type": "subslide"
    }
   },
   "source": [
    "### Dataset Titanic\n",
    "\n",
    "Contém 891 passageiros reais do Titanic que afundou em 15/04/1912 matando 1502 de 2224 passageiros e tripulação que estavam a bordo.\n",
    "\n",
    "* `survived`: *dummy* `0` ou `1` \n",
    "* `pclass`: Classe do Passageiro\n",
    "    - `1`: Primeira Classe\n",
    "    - `2`: Segunda Classe\n",
    "    - `3`: Terceira Classe\n",
    "* `sex`: Sexo `male` ou `female`\n",
    "* `age`: Idade\n",
    "* `sibsp`: Número de Irmãos (*Siblings*) e Esposas (*spouse*) a bordo\n",
    "* `parch`: Número de pais/filhos a bordo\n",
    "* `fare`: Valor pago pela passagem em libras\n",
    "* `embarked`: Porto que embarcou\n",
    "    - `C`: Cherbourg\n",
    "    - `Q`: Queenstown\n",
    "    - `S`: Southampton)\n",
    "* `class`: Mesmo que `pclass` só que em texto\n",
    "* `adult_male`: *dummy* para `age > 16` e `sex == 'male'`\n",
    "* `deck`: Qual deck a cabine do passageiro se situava\n",
    "* `alive`: Mesmo que survived só que com `yes` ou `no`\n",
    "* `alone`: *dummy* para se viajava sozinho"
   ]
  },
  {
   "cell_type": "markdown",
   "metadata": {
    "slideshow": {
     "slide_type": "subslide"
    }
   },
   "source": [
    "<img src=\"images/titanic.png\" alt=\"titanic\" style=\"width: 500px;\"/>"
   ]
  },
  {
   "cell_type": "code",
   "execution_count": null,
   "metadata": {
    "slideshow": {
     "slide_type": "subslide"
    }
   },
   "outputs": [],
   "source": [
    "import seaborn as sns\n",
    "import numpy as np\n",
    "import matplotlib.pyplot as plt\n",
    "import pandas as pd\n",
    "\n",
    "titanic = sns.load_dataset('titanic')\n",
    "titanic.head()"
   ]
  },
  {
   "cell_type": "markdown",
   "metadata": {
    "slideshow": {
     "slide_type": "subslide"
    }
   },
   "source": [
    "### Diferença entre idades por sexo\n",
    "\n",
    "Use o `pd.hist()` e faça um histograma com `age` por `sex` (use o argumento `by`)"
   ]
  },
  {
   "cell_type": "code",
   "execution_count": null,
   "metadata": {
    "slideshow": {
     "slide_type": "fragment"
    }
   },
   "outputs": [],
   "source": [
    "titanic.hist()\n",
    "plt.show()"
   ]
  },
  {
   "cell_type": "markdown",
   "metadata": {
    "slideshow": {
     "slide_type": "subslide"
    }
   },
   "source": [
    "### Identificando Sobreviventes\n",
    "\n",
    "Use `pd.plot()` na coluna `survived` com o `kind = 'bar'` ou `kind='barh'` para identificar sobreviventes (use o método `value_counts()`)"
   ]
  },
  {
   "cell_type": "code",
   "execution_count": null,
   "metadata": {
    "slideshow": {
     "slide_type": "fragment"
    }
   },
   "outputs": [],
   "source": [
    "titanic['survived'].value_counts().plot(kind='bar')\n",
    "plt.show()"
   ]
  },
  {
   "cell_type": "markdown",
   "metadata": {
    "slideshow": {
     "slide_type": "subslide"
    }
   },
   "source": [
    "### Boxplot: O preferido dos cientistas de dados\n",
    "\n",
    "Boxplot (chamado de diagrama de caixa) tem uma reta (whisker ou fio de bigode) que estende–se verticalmente a partir da caixa, indicando a variabilidade fora do quartil superior e do quartil inferior. Ele é o *preferido* dos cientistas de dados porque conseguimos ver a mediana, os quartis e os outliers de uma variável\n",
    "\n",
    "<img src=\"images/boxplot.png\" alt=\"boxplot\" style=\"width: 500px;\"/>"
   ]
  },
  {
   "cell_type": "markdown",
   "metadata": {
    "slideshow": {
     "slide_type": "subslide"
    }
   },
   "source": [
    "Utilize a [documentação do `pd.boxplot()`](https://pandas.pydata.org/pandas-docs/stable/reference/api/pandas.DataFrame.boxplot.html) para plotar um boxplot da variável `age` e da variável `fare`. Remova o `grid` coloque o tamanho da fonte para `15` e rotacione o rótulo da variável em 45º.\n",
    "\n",
    ">Dica: passe uma lista de colunas\n",
    "\n",
    "Existem outliers?"
   ]
  },
  {
   "cell_type": "code",
   "execution_count": null,
   "metadata": {
    "slideshow": {
     "slide_type": "fragment"
    }
   },
   "outputs": [],
   "source": [
    "titanic.boxplot(column=, grid=, rot=, fontsize=)\n",
    "plt.show()"
   ]
  }
 ],
 "metadata": {
  "celltoolbar": "Slideshow",
  "kernelspec": {
   "display_name": "Python [conda env:graduacao]",
   "language": "python",
   "name": "conda-env-graduacao-py"
  },
  "language_info": {
   "codemirror_mode": {
    "name": "ipython",
    "version": 3
   },
   "file_extension": ".py",
   "mimetype": "text/x-python",
   "name": "python",
   "nbconvert_exporter": "python",
   "pygments_lexer": "ipython3",
   "version": "3.8.5"
  }
 },
 "nbformat": 4,
 "nbformat_minor": 4
}
