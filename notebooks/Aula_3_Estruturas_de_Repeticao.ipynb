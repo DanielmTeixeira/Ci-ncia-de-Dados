{
 "cells": [
  {
   "cell_type": "markdown",
   "metadata": {
    "slideshow": {
     "slide_type": "skip"
    }
   },
   "source": [
    "[![Binder](https://mybinder.org/badge_logo.svg)](https://mybinder.org/v2/gh/storopoli/ciencia-de-dados/master?filepath=notebooks%2FAula_3_Estruturas_de_Repeticao.ipynb)\n",
    "<br>\n",
    "[![Open In Colab](https://colab.research.google.com/assets/colab-badge.svg)](https://colab.research.google.com/github/storopoli/ciencia-de-dados/blob/master/notebooks/Aula_3_Estruturas_de_Repeticao.ipynb)"
   ]
  },
  {
   "cell_type": "markdown",
   "metadata": {
    "slideshow": {
     "slide_type": "slide"
    }
   },
   "source": [
    "# Estruturas de Repetição (`FOR` e `WHILE`)\n",
    "\n",
    "**Objetivos**: Apresentar as estruturas de repetição (`FOR` e `WHILE`)"
   ]
  },
  {
   "cell_type": "markdown",
   "metadata": {
    "slideshow": {
     "slide_type": "fragment"
    }
   },
   "source": [
    "O conceito de  **repetição** (looping ou laço) é utilizado quando se deseja repetir um certo trecho de instruções por um número de vezes.\n",
    "\n",
    "As estruturas de repetição em Python se dividem em `WHILE` (enquanto) e `FOR` (para). Para determinamos qual é a estrutura mais adequada para determinado programa, devemos saber qual o número de vezes que o trecho do programa vai ser executado (laços contados) ou a condição para que ele aconteça (laços condicionais)."
   ]
  },
  {
   "cell_type": "markdown",
   "metadata": {
    "slideshow": {
     "slide_type": "slide"
    }
   },
   "source": [
    "## Cálculo da média aritmética"
   ]
  },
  {
   "cell_type": "code",
   "execution_count": null,
   "metadata": {
    "slideshow": {
     "slide_type": "fragment"
    }
   },
   "outputs": [],
   "source": [
    "av1 = float(input(\"Informe AV1: \\n\"))\n",
    "assert av1 <= 10, \"A nota AV1 deve ser entre 0 e 10\"\n",
    "\n",
    "av2 = float(input(\"Informe AV2: \\n\"))\n",
    "assert av2 <= 10, \"A nota AV2 deve ser entre 0 e 10\"\n",
    "\n",
    "media = (av1 + av2) / 2\n",
    "\n",
    "print(\"Média do aluno foi de: \", media)"
   ]
  },
  {
   "cell_type": "markdown",
   "metadata": {
    "slideshow": {
     "slide_type": "slide"
    }
   },
   "source": [
    "## `WHILE` (enquanto)\n",
    "\n",
    "Consiste de uma estrutura de controle do fluxo de execução que permite repetir diversas vezes um mesmo trecho do programa, porém, sempre verificando antes de cada execução se é permitido executar o trecho do programa ou não.\n",
    "\n",
    "A estrutura de repetição `WHILE` a condição de repetição é verificada antes de entrar no laço de repetição, isto é, se o resultado for verdadeiro, o bloco de instrução será executado. Enquanto o valor da condição for verdadeiro, as ações dos comandos são executadas. No momento em que a condição se torna falsa, o processamento da rotina é desviado para fora do laço. Se a condição for falsa logo de início, os comandos não são executados nenhuma vez."
   ]
  },
  {
   "cell_type": "markdown",
   "metadata": {
    "slideshow": {
     "slide_type": "subslide"
    }
   },
   "source": [
    "```python\n",
    "while (<condição>):\n",
    "    <instruções a serem executadas enquanto condição verdadeira>\n",
    "```"
   ]
  },
  {
   "cell_type": "code",
   "execution_count": null,
   "metadata": {
    "slideshow": {
     "slide_type": "subslide"
    }
   },
   "outputs": [],
   "source": [
    "repetir = \"S\"\n",
    "while (repetir==\"S\"):\n",
    "    av1 = float(input(\"Informe AV1: \\n\"))\n",
    "    assert av1 <= 10, \"A nota AV1 deve ser entre 0 e 10\"\n",
    "    \n",
    "    av2 = float(input(\"Informe AV2: \\n\"))\n",
    "    assert av2 <= 10, \"A nota AV2 deve ser entre 0 e 10\"\n",
    "    \n",
    "    media = (av1 + av2) / 2\n",
    "    print(\"Média do aluno foi de: \\n\", media)\n",
    "    \n",
    "    repetir = input(\"Digite S caso deseje calcular nova média ou outro valor caso contrário\")\n",
    "print(\"Fim do Programa\")"
   ]
  },
  {
   "cell_type": "markdown",
   "metadata": {
    "slideshow": {
     "slide_type": "slide"
    }
   },
   "source": [
    "## `FOR` (para)\n",
    "\n",
    "Os laços que possuem um número finito de execuções poderão ser processados por meio de estrutura de laço FOR. Com a estrutura FOR podemos executar um determinado conjunto de instruções certo número de vezes. Além disso, este tipo de estrutura prevê uma condição e limites fixos.\n",
    "\n",
    "A estrutura for é utilizada quando precisamos repetir um conjunto de comandos um número pré-definido de vezes."
   ]
  },
  {
   "cell_type": "markdown",
   "metadata": {
    "slideshow": {
     "slide_type": "subslide"
    }
   },
   "source": [
    "```python\n",
    "for <variável> in range(<valor inicial>, <valor limite - menor que>, <incremento a cada etapa>):\n",
    "    <instruções a serem repetidas>\n",
    "```"
   ]
  },
  {
   "cell_type": "code",
   "execution_count": null,
   "metadata": {
    "slideshow": {
     "slide_type": "subslide"
    }
   },
   "outputs": [],
   "source": [
    "for i in range(2, 17, 3):\n",
    "    print(i)"
   ]
  },
  {
   "cell_type": "code",
   "execution_count": null,
   "metadata": {
    "slideshow": {
     "slide_type": "subslide"
    }
   },
   "outputs": [],
   "source": [
    "qtde = int(input(\"Quantidade de alunos: \\n\"))\n",
    "for x in range(0, qtde, 1):\n",
    "    av1 = float(input(\"Informe AV1: \\n\"))\n",
    "    assert av1 <= 10, \"A nota AV1 deve ser entre 0 e 10\"\n",
    "    \n",
    "    av2 = float(input(\"Informe AV2: \\n\"))\n",
    "    assert av2 <= 10, \"A nota AV1 deve ser entre 0 e 10\"\n",
    "    \n",
    "    media = (av1 + av2) / 2\n",
    "    print(\"Média do aluno foi de: \", media)\n",
    "print(\"Fim do Programa\")"
   ]
  },
  {
   "cell_type": "markdown",
   "metadata": {
    "slideshow": {
     "slide_type": "slide"
    }
   },
   "source": [
    "## Atividade `WHILE`\n",
    "\n",
    "1. Defina um número aleatório entre $0$ e $10$ com a função `randint()` da biblioteca `random` e designe-o para a variável `numero_aleatorio`)\n",
    "2. Crie uma variável `palpites_restantes` igual a $3$\n",
    "3. Use a estrutura enquanto (`WHILE`) para que o usuário continue adivinhando o valor da varíavel `numero_aleatorio` enquanto `palpites_restantes` é maior que $0$\n",
    "4. Pergunte ao usuário o seu palpite sobre o valor da variável `numero_aleatorio`\n",
    "5. Se ele acertar o palpite quebre o `while` com `break` e imprima \"Você acertou!\"\n",
    "6. Se ele errar reduza `palpites_restantes` em $1$\n",
    "7. Use um desvio condicional `else` depois do `while` que imprima \"Você perdeu todas suas chances\""
   ]
  },
  {
   "cell_type": "code",
   "execution_count": null,
   "metadata": {
    "slideshow": {
     "slide_type": "subslide"
    }
   },
   "outputs": [],
   "source": [
    "from random import randint\n",
    "\n",
    "numero_aleatorio = randint(0, 10)\n",
    "palpites_restantes = $$\n",
    "\n",
    "while(palpites_restantes > $$):\n",
    "    palpite = input(\"Qual é o seu palpite? Número entre 0 e 10 \\n\")\n",
    "    assert isinstance(palpite, int), \"Coloque um número inteiro entre 0 e 10\"\n",
    "    assert palpite >= 0 and palpite <= 10, \"Coloque um número inteiro entre 0 e 10\"\n",
    "    \n",
    "    if numero_aleatorio == palpite:\n",
    "        print(\"Você acertou\")\n",
    "        break \n",
    "    palpites_restantes -= $$\n",
    "    print(\"Você errou! Tente de novo\")\n",
    "    \n",
    "    if (palpites_restantes == $$):\n",
    "        print(\"Você perdeu todas suas chances\")\n",
    "print(numero_aleatorio)"
   ]
  },
  {
   "cell_type": "markdown",
   "metadata": {
    "slideshow": {
     "slide_type": "slide"
    }
   },
   "source": [
    "## Atividade `FOR`\n",
    "\n",
    "Filtre o caractere `a` e `á` da string abaixo\n",
    "\n",
    "```python\n",
    "frase = \"Mais vale um pássaro...\"\n",
    "```\n",
    "\n",
    "1. Faça um `for` para cada caractere da frase\n",
    "2. Se o caractere for `a` ou `á`, imprima `X` ao invés do caractere\n",
    "3. Ou (`else`), imprima o caractere original da frase"
   ]
  },
  {
   "cell_type": "code",
   "execution_count": null,
   "metadata": {
    "slideshow": {
     "slide_type": "subslide"
    }
   },
   "outputs": [],
   "source": [
    "frase = \"Mais vale um pássaro...\"\n",
    "\n",
    "for $$$ in $$$:\n",
    "    if $$ == \"a\" or $$ == \"á\":\n",
    "        print(\"X\")\n",
    "    else:\n",
    "        print($$)"
   ]
  },
  {
   "cell_type": "markdown",
   "metadata": {
    "slideshow": {
     "slide_type": "slide"
    }
   },
   "source": [
    "![mapa-conceitual](https://github.com/storopoli/ciencia-de-dados/raw/master/Mapas%20Conceituais/4%20-%20Python%20-%20Estruturas%20de%20Repeticao.png)"
   ]
  }
 ],
 "metadata": {
  "celltoolbar": "Slideshow",
  "kernelspec": {
   "display_name": "Python 3.8.5 64-bit",
   "language": "python",
   "name": "python38564bit4f0fb9f49a9f4bec8e86f3f357761f1a"
  },
  "language_info": {
   "codemirror_mode": {
    "name": "ipython",
    "version": 3
   },
   "file_extension": ".py",
   "mimetype": "text/x-python",
   "name": "python",
   "nbconvert_exporter": "python",
   "pygments_lexer": "ipython3",
   "version": "3.8.5"
  }
 },
 "nbformat": 4,
 "nbformat_minor": 4
}
