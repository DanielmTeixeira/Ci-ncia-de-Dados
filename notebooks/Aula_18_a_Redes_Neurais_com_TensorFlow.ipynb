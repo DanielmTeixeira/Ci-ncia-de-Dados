{
 "cells": [
  {
   "cell_type": "markdown",
   "metadata": {
    "slideshow": {
     "slide_type": "skip"
    }
   },
   "source": [
    "[![Binder](https://mybinder.org/badge_logo.svg)](https://mybinder.org/v2/gh/storopoli/ciencia-de-dados/master?filepath=notebooks%2FAula_18_a_Redes_Neurais_com_TensorFlow.ipynb)\n",
    "<br>\n",
    "[![Open In Colab](https://colab.research.google.com/assets/colab-badge.svg)](https://colab.research.google.com/github/storopoli/ciencia-de-dados/blob/master/notebooks/Aula_18_a_Redes_Neurais_com_TensorFlow.ipynb)"
   ]
  },
  {
   "cell_type": "markdown",
   "metadata": {
    "slideshow": {
     "slide_type": "slide"
    }
   },
   "source": [
    "# Redes Neurais com TensorFlow\n",
    "\n",
    "**Objetivos**: Aprender Redes Neurais Artificiais (RNA) usando a biblioteca `TensorFlow`."
   ]
  },
  {
   "cell_type": "markdown",
   "metadata": {
    "slideshow": {
     "slide_type": "subslide"
    }
   },
   "source": [
    "## TensorFlow e Keras\n",
    "\n",
    "[**TensorFlow**](https://www.tensorflow.org/) é uma biblioteca de código aberto para aprendizado de máquina aplicável a uma ampla variedade de tarefas. Foi criada pelo **Google** em 2015 é a principal biblioteca para criação e treinamento de redes neurais artificiais. A API toda é escrita em Python mas é executada em C++ na CPU ou em CUDA na GPU.\n",
    "\n",
    "[**Keras**](https://keras.io/) é uma biblioteca de código aberto para fácil criação e treinamento de redes neurais artificiais. Projetado para permitir experimentação rápida com redes neurais profundas, ele se concentra em ser fácil de usar, modular e extensível. Em 2017, a equipe do **TensorFlow** decidiu apoiar o Keras na biblioteca principal do **TensorFlow**."
   ]
  },
  {
   "cell_type": "markdown",
   "metadata": {
    "slideshow": {
     "slide_type": "subslide"
    }
   },
   "source": [
    "## O que é uma Rede Neural Artificial?\n",
    "\n",
    "Redes neurais artificiais (RNAs) são modelos computacionais inspirados pelo sistema nervoso central (em particular o cérebro) que são capazes de realizar o aprendizado de máquina bem como o reconhecimento de padrões. Redes neurais artificiais geralmente são apresentadas como sistemas de \"neurônios interconectados, que podem computar valores de entradas\", simulando o comportamento de redes neurais biológicas."
   ]
  },
  {
   "cell_type": "markdown",
   "metadata": {
    "slideshow": {
     "slide_type": "subslide"
    }
   },
   "source": [
    "<img src=\"images/redes_neurais.jpeg\" alt=\"redes neurais\" style=\"width: 500px;\"/>"
   ]
  },
  {
   "cell_type": "markdown",
   "metadata": {
    "slideshow": {
     "slide_type": "subslide"
    }
   },
   "source": [
    "## Como a rede neural aprende?\n",
    "\n",
    "Em cada neurônio há uma função de ativação (*activation function*) que processa uma combinação linear entre inputs e pesos sinápticos, gerando assim um sinal de saída.\n",
    "\n",
    "A informação flui da *input layer* para as *hidden layers* e por fim para a *output layer*. Nesse fluxo os inputs de dados da *input layer* são alimentados para os neurônios das *hidden layers* que por fim alimentam o neurônio final da *output layer*.\n",
    "\n",
    "A primeira passada de informação (propagação) pela rede é geralmente feita com parâmetros aleatórios para as funções de ativação dos neurônios.\n",
    "\n",
    "Ao realizar a propagação, chamada de *feed forward*, temos sinais de saídas nos neurônios da output layer. \n",
    "\n",
    "No fim da propagação, a função custo (uma métrica de erro) é calculada e o modelo então ajusta os parâmetros dos neurônios na direção de um menor custo (por meio do gradiente - derivada multivariada).\n",
    "\n",
    "Assim uma nova propagação é gerada e a numa nova função custo e calculada. Assim como é realizado a atualização dos parâmetros dos neurônios.\n",
    "\n",
    "O nome desse algoritmo é **Retro-propagação** (*Backpropagation*). E cada vez que ele é executado denomina-se como época (*epoch*). E quandos as épocas estabelecidas se encerram, a rede neural encerra o seu treinamento/aprendizagem."
   ]
  },
  {
   "cell_type": "markdown",
   "metadata": {
    "slideshow": {
     "slide_type": "subslide"
    }
   },
   "source": [
    "<img src=\"images/backpropagation.gif\" alt=\"backpropagation\" style=\"width: 500px;\"/>"
   ]
  },
  {
   "cell_type": "markdown",
   "metadata": {
    "slideshow": {
     "slide_type": "subslide"
    }
   },
   "source": [
    "## Funções de Ativação\n",
    "\n",
    "| **Sigmoid**                                                  | **Tanh**                                                     | **ReLU**                                                     | **Leaky ReLU**                                               |\n",
    "| ------------------------------------------------------------ | ------------------------------------------------------------ | ------------------------------------------------------------ | ------------------------------------------------------------ |\n",
    "| $g(z)=\\frac{1}{1+e^{-z}}$                                    | $g(z)=\\frac{e^{z}-e^{-z}}{e^{z}+e^{-z}}$                     | $g(z)=\\max (0, z)$                                           | $\\begin{array}{c}{g(z)=\\max (\\epsilon z, z)} \\\\ {\\text { com } \\epsilon \\ll 1}\\end{array}$ |\n",
    "| ![Illustration](images/sigmoid.png) | ![Illustration](images/tanh.png) | ![Illustration](images/relu.png) | ![Illustration](images/leaky-relu.png) |\n",
    "\n"
   ]
  },
  {
   "cell_type": "markdown",
   "metadata": {
    "slideshow": {
     "slide_type": "subslide"
    }
   },
   "source": [
    "## Algoritmos de Otimização\n",
    "\n",
    "Keras possui diversos:\n",
    "* SGD\n",
    "* RMSprop\n",
    "* Adam\n",
    "* Adadelta\n",
    "* Adagrad\n",
    "* Adamax\n",
    "* Nadam\n",
    "* Ftrl\n",
    "\n",
    "Os mais importantes são o SGD e o Adam"
   ]
  },
  {
   "cell_type": "markdown",
   "metadata": {
    "slideshow": {
     "slide_type": "subslide"
    }
   },
   "source": [
    "### SGD - Stochastic Gradient Descent\n",
    "\n",
    "[`tf.keras.optimizers.SGD()`](https://keras.io/api/optimizers/sgd/):\n",
    "\n",
    "* `learning_rate=0.01` - Taxa de Aprendizagem $\\eta > 0$\n",
    "* `momentum=0.0` - hyperparâmetro $\\geq 0$ que acelera o *gradient descent* na direção relevante e mitiga oscilações. \n",
    "* `nesterov=False` - `bool` para se aplica *Nesterov Momentum* ou não. *Nesterov Momentum* usa posições intermediárias do gradiente no cálculo do *momentum*. Proposto por Yuri Nesterov em 1983.\n",
    "    "
   ]
  },
  {
   "cell_type": "markdown",
   "metadata": {
    "slideshow": {
     "slide_type": "subslide"
    }
   },
   "source": [
    "### Momentum\n",
    "\n",
    "<img src=\"images/momentum.gif\" alt=\"momentum\" style=\"width: 300px;\"/>"
   ]
  },
  {
   "cell_type": "markdown",
   "metadata": {
    "slideshow": {
     "slide_type": "subslide"
    }
   },
   "source": [
    "### Adam\n",
    "\n",
    "Adam é um método de SGD que usa uma estimativa adaptativa dos momentos de primeira ordem e momentos de segunda ordem. Proposto por Kingma & Ba (2014).\n",
    "\n",
    "[`tf.keras.optimizers.Adam()`](https://keras.io/api/optimizers/adam/):\n",
    "\n",
    "* `learning_rate=0.001` - Taxa de Aprendizagem $\\eta > 0$. Valor padrão menor que o do `SGD()`.\n",
    "* `beta_1=0.9` - O decrescimento exponencial da estimativa dos momentos de primeira ordem.\n",
    "* `beta_2=0.999` - O decrescimento exponencial da estimativa dos momentos de segunda ordem.    "
   ]
  },
  {
   "cell_type": "markdown",
   "metadata": {
    "slideshow": {
     "slide_type": "subslide"
    }
   },
   "source": [
    "### Momentum\n",
    "\n",
    "<img src=\"images/comparacao_otimizadores.gif\" alt=\"comparacao_otimizadores\" style=\"width: 500px;\"/>"
   ]
  },
  {
   "cell_type": "markdown",
   "metadata": {
    "slideshow": {
     "slide_type": "subslide"
    }
   },
   "source": [
    "### Momentum\n",
    "\n",
    "<img src=\"images/opt1.gif\" alt=\"comparacao_otimizadores_2\" style=\"width: 500px;\"/>"
   ]
  },
  {
   "cell_type": "markdown",
   "metadata": {
    "slideshow": {
     "slide_type": "subslide"
    }
   },
   "source": [
    "### Momentum\n",
    "\n",
    "<img src=\"images/opt2.gif\" alt=\"comparacao_otimizadores_3\" style=\"width: 500px;\"/>"
   ]
  },
  {
   "cell_type": "markdown",
   "metadata": {
    "slideshow": {
     "slide_type": "subslide"
    }
   },
   "source": [
    "## Funções Custo\n",
    "\n",
    "As funções custos se dividem em dois tipos:\n",
    "\n",
    "1. Funções Custo de **Classificação**\n",
    "2. Funções Custo de **Regressão**"
   ]
  },
  {
   "cell_type": "markdown",
   "metadata": {
    "slideshow": {
     "slide_type": "subslide"
    }
   },
   "source": [
    "### Funcões Custo de Classificação\n",
    "\n",
    "Mais utilizadas\n",
    "\n",
    "\n",
    "* *Binary Cross-entropy* (Entropia cruzada binária): [`tf.keras.losses.BinaryCrossentropy()`](https://keras.io/api/losses/probabilistic_losses/#binarycrossentropy-class)\n",
    "* *Categorical Cross-entropy* (Entropia cruzada categórica): [`tf.keras.losses.CategoricalCrossentropy()`](https://keras.io/api/losses/probabilistic_losses/#categoricalcrossentropy-class)"
   ]
  },
  {
   "cell_type": "markdown",
   "metadata": {
    "slideshow": {
     "slide_type": "subslide"
    }
   },
   "source": [
    "### Funcões Custo de Regressão\n",
    "\n",
    "Mais utilizadas\n",
    "* MSE - *Mean Squared Error* (Erro quadrado médio): [`tf.keras.losses.MeanSquaredError()`](https://keras.io/api/losses/regression_losses/#meansquarederror-class)\n",
    "* MAE - *Mean Absolute Error* (Erro absoluto médio): [`tf.keras.losses.MeanAbsoluteError()`](https://keras.io/api/losses/regression_losses/#meanabsoluteerror-class)"
   ]
  },
  {
   "cell_type": "markdown",
   "metadata": {
    "slideshow": {
     "slide_type": "subslide"
    }
   },
   "source": [
    "## Como construir sua rede neural no Keras\n",
    "\n",
    "Construir redes neurais com o **Keras** é muito fácil."
   ]
  },
  {
   "cell_type": "code",
   "execution_count": 1,
   "metadata": {
    "slideshow": {
     "slide_type": "slide"
    }
   },
   "outputs": [],
   "source": [
    "import tensorflow as tf\n",
    "import tensorflow.keras as keras"
   ]
  },
  {
   "cell_type": "markdown",
   "metadata": {
    "slideshow": {
     "slide_type": "subslide"
    }
   },
   "source": [
    "### Exemplo de Classificação Binária"
   ]
  },
  {
   "cell_type": "code",
   "execution_count": 2,
   "metadata": {
    "slideshow": {
     "slide_type": "subslide"
    }
   },
   "outputs": [
    {
     "name": "stdout",
     "output_type": "stream",
     "text": [
      "Model: \"sequential\"\n",
      "_________________________________________________________________\n",
      "Layer (type)                 Output Shape              Param #   \n",
      "=================================================================\n",
      "dense (Dense)                (None, 20, 20)            40        \n",
      "_________________________________________________________________\n",
      "dense_1 (Dense)              (None, 20, 20)            420       \n",
      "_________________________________________________________________\n",
      "dense_2 (Dense)              (None, 20, 1)             21        \n",
      "=================================================================\n",
      "Total params: 481\n",
      "Trainable params: 481\n",
      "Non-trainable params: 0\n",
      "_________________________________________________________________\n"
     ]
    }
   ],
   "source": [
    "model = keras.models.Sequential()  # Cria uma rede neural sequencial - feed foward\n",
    "model.add(keras.layers.Dense(20, activation='relu', input_shape=(20, 1))) # primeira hidden layer\n",
    "model.add(keras.layers.Dense(20, activation='relu')) # segunda hidden layer\n",
    "model.add(keras.layers.Dense(1, activation= 'sigmoid')) # output layer com ativação sigmoid\n",
    "\n",
    "model.summary()"
   ]
  },
  {
   "cell_type": "markdown",
   "metadata": {
    "slideshow": {
     "slide_type": "subslide"
    }
   },
   "source": [
    "### Exemplo de Regressão"
   ]
  },
  {
   "cell_type": "code",
   "execution_count": 3,
   "metadata": {
    "slideshow": {
     "slide_type": "subslide"
    }
   },
   "outputs": [
    {
     "name": "stdout",
     "output_type": "stream",
     "text": [
      "Model: \"sequential_1\"\n",
      "_________________________________________________________________\n",
      "Layer (type)                 Output Shape              Param #   \n",
      "=================================================================\n",
      "dense_3 (Dense)              (None, 20, 20)            40        \n",
      "_________________________________________________________________\n",
      "dense_4 (Dense)              (None, 20, 20)            420       \n",
      "_________________________________________________________________\n",
      "dense_5 (Dense)              (None, 20, 1)             21        \n",
      "=================================================================\n",
      "Total params: 481\n",
      "Trainable params: 481\n",
      "Non-trainable params: 0\n",
      "_________________________________________________________________\n"
     ]
    }
   ],
   "source": [
    "model = keras.models.Sequential()  # Cria uma rede neural sequencial - feed foward\n",
    "model.add(keras.layers.Dense(20, activation='relu', input_shape=(20, 1))) # primeira hidden layer\n",
    "model.add(keras.layers.Dense(20, activation='relu')) # segunda hidden layer\n",
    "model.add(keras.layers.Dense(1, activation= 'linear')) # output layer com ativação linear\n",
    "\n",
    "model.summary()"
   ]
  },
  {
   "cell_type": "markdown",
   "metadata": {
    "slideshow": {
     "slide_type": "subslide"
    }
   },
   "source": [
    "### Exemplo de Multiclassificação (não-binária - acima de duas classes)"
   ]
  },
  {
   "cell_type": "code",
   "execution_count": 4,
   "metadata": {
    "slideshow": {
     "slide_type": "subslide"
    }
   },
   "outputs": [
    {
     "name": "stdout",
     "output_type": "stream",
     "text": [
      "Model: \"sequential_2\"\n",
      "_________________________________________________________________\n",
      "Layer (type)                 Output Shape              Param #   \n",
      "=================================================================\n",
      "dense_6 (Dense)              (None, 20, 20)            40        \n",
      "_________________________________________________________________\n",
      "dense_7 (Dense)              (None, 20, 20)            420       \n",
      "_________________________________________________________________\n",
      "dense_8 (Dense)              (None, 20, 10)            210       \n",
      "=================================================================\n",
      "Total params: 670\n",
      "Trainable params: 670\n",
      "Non-trainable params: 0\n",
      "_________________________________________________________________\n"
     ]
    }
   ],
   "source": [
    "model = keras.models.Sequential()  # Cria uma rede neural sequencial - feed foward\n",
    "model.add(keras.layers.Dense(20, activation='relu', input_shape=(20, 1))) # primeira hidden layer\n",
    "model.add(keras.layers.Dense(20, activation='relu')) # segunda hidden layer\n",
    "model.add(keras.layers.Dense(10, activation= 'softmax')) # output layer com ativação softmax com 10 classes\n",
    "\n",
    "model.summary()"
   ]
  },
  {
   "cell_type": "markdown",
   "metadata": {
    "slideshow": {
     "slide_type": "subslide"
    }
   },
   "source": [
    "## Como treinar sua rede neural no Keras\n",
    "\n",
    "Uma vez especificado o modelo, ele deve ser compilado com o comando `model.compile()` no qual deve se especificar a função custo `loss`, o otimizador `optimizer` e as métricas `metrics` como lista"
   ]
  },
  {
   "cell_type": "code",
   "execution_count": 5,
   "metadata": {
    "slideshow": {
     "slide_type": "fragment"
    }
   },
   "outputs": [],
   "source": [
    "model.compile(loss=keras.losses.categorical_crossentropy,\n",
    "             optimizer=keras.optimizers.SGD(),\n",
    "             metrics=[keras.metrics.Accuracy()])"
   ]
  },
  {
   "cell_type": "markdown",
   "metadata": {
    "slideshow": {
     "slide_type": "subslide"
    }
   },
   "source": [
    "## Como ajustar o treinamento sua rede neural no Keras\n",
    "\n",
    "* Batch Size\n",
    "* Dropout\n",
    "* Early Stopping"
   ]
  },
  {
   "cell_type": "markdown",
   "metadata": {
    "slideshow": {
     "slide_type": "subslide"
    }
   },
   "source": [
    "### Batch Size\n",
    "\n",
    "Tamanho do Batch (Srivastava et. al, 2014) de dados que passa por vez pela rede neural antes da atualização dos parâmetros pelo *backpropagation*. Tamanhos grandes resultam em instabilidade no treinamento. Geralmente usam-se potências de $2$ $(2,4,8,16,\\dots, 2^n)$.\n",
    "\n",
    "Em Abril de 2018, Yann LeCun, um dos principais pesquisadores sobre redes neurais e ganhador do \"nobel\" da computação (Prêmio Turing) twittou em resposta à um artigo empírico que mostrava diversos contextos de *batch size*:\n",
    ">\"Friends don't let friends use mini-batches larger than 32\"\n",
    "\n",
    "Então 32 é um valor empiricamente verificado que dá estabilidade ao treinamento"
   ]
  },
  {
   "cell_type": "markdown",
   "metadata": {
    "slideshow": {
     "slide_type": "subslide"
    }
   },
   "source": [
    "### Dropout\n",
    "\n",
    "Uma medida de regularização na qual evita-se overfitting proposta por Hinton em 2012. *Dropout* é um algoritmo que especifica que a cada iteração de época do treino os neurônios possuem uma probabilidade de serem removidos (não utilizados) para a aprendizagem. Geralmente a probabilidade ideal fica em torno de 20% ($0.2$).\n",
    "\n",
    "Coloca-se como se fosse uma camada após a camada que deseja aplicar o dropout:\n",
    "\n",
    "```python\n",
    "model.add(keras.layers.Dense(4, activation='relu'))  # hidden layer\n",
    "model.add(keras.layers.Dropout(0.2))                 # dropout layer\n",
    "```"
   ]
  },
  {
   "cell_type": "markdown",
   "metadata": {
    "slideshow": {
     "slide_type": "subslide"
    }
   },
   "source": [
    "<img src=\"images/dropout.gif\" alt=\"dropout\" style=\"width: 500px;\"/>"
   ]
  },
  {
   "cell_type": "markdown",
   "metadata": {
    "slideshow": {
     "slide_type": "subslide"
    }
   },
   "source": [
    "### *Early Stopping* (Parada Precoce)\n",
    "\n",
    "Usar *Early Stopping* significa que, no final de cada época, devemos calcular o erro da rede. Se ele não diminuir significativamente após $n$ épocas, o treinamento é interrompido e a rede utiliza os parâmetros aprendidos até o ponto de interrupção.\n",
    "\n",
    "É um `callback` especificado durante o treino\n",
    "\n",
    "* [`tf.keras.callbacks.EarlyStopping()`](https://keras.io/api/callbacks/early_stopping/)\n",
    "    * `monitor='val_loss'` - métrica a monitorar\n",
    "    * `patience=N` - número de épocas a esperar até não conseguir nenhum aprimoramento para interrupção do treinamento"
   ]
  },
  {
   "cell_type": "markdown",
   "metadata": {
    "slideshow": {
     "slide_type": "subslide"
    }
   },
   "source": [
    "Após isso é só treinar o modelo com `model.fit(X_train, y_train)` especificando o número de épocas `epochs`, tamanho do batch `batch_size` e dados de validação `validation_data`."
   ]
  },
  {
   "cell_type": "markdown",
   "metadata": {
    "slideshow": {
     "slide_type": "subslide"
    }
   },
   "source": [
    "```python\n",
    "history  = model.fit(X_train, y_train,\n",
    "                     batch_size=batch_size,\n",
    "                     epochs=epochs,\n",
    "                     verbose=1,\n",
    "                     validation_data=(X_test, y_test),\n",
    "                     callbacks=[keras.callbacks.EarlyStopping(\n",
    "                         monitor='val_loss',\n",
    "                         patience=3)])\n",
    "```"
   ]
  },
  {
   "cell_type": "markdown",
   "metadata": {
    "slideshow": {
     "slide_type": "subslide"
    }
   },
   "source": [
    "## Visualizando o avanço do treinamento"
   ]
  },
  {
   "cell_type": "markdown",
   "metadata": {
    "slideshow": {
     "slide_type": "subslide"
    }
   },
   "source": [
    "```python\n",
    "# Plot acurácia de treino e validação\n",
    "plt.plot(history.history['accuracy'])\n",
    "plt.plot(history.history['val_accuracy'])\n",
    "plt.title('Model accuracy')\n",
    "plt.ylabel('Accuracy')\n",
    "plt.xlabel('Epoch')\n",
    "plt.legend(['Train', 'Test'], loc='upper left')\n",
    "plt.show()\n",
    "\n",
    "# Plot custo de treino e validação\n",
    "plt.plot(history.history['loss'])\n",
    "plt.plot(history.history['val_loss'])\n",
    "plt.title('Model loss')\n",
    "plt.ylabel('Loss')\n",
    "plt.xlabel('Epoch')\n",
    "plt.legend(['Train', 'Test'], loc='upper left')\n",
    "plt.show()\n",
    "```"
   ]
  },
  {
   "cell_type": "markdown",
   "metadata": {
    "slideshow": {
     "slide_type": "slide"
    }
   },
   "source": [
    "## Exemplo com o dataset Titanic\n",
    "\n",
    "Contém 891 passageiros reais do Titanic que afundou em 15/04/1912 matando 1502 de 2224 passageiros e tripulação que estavam a bordo.\n",
    "\n",
    "* `survived`: *dummy* `0` ou `1` \n",
    "* `pclass`: Classe do Passageiro\n",
    "    - `1`: Primeira Classe\n",
    "    - `2`: Segunda Classe\n",
    "    - `3`: Terceira Classe\n",
    "* `sex`: Sexo `male` ou `female`\n",
    "* `age`: Idade\n",
    "* `sibsp`: Número de Irmãos (*Siblings*) e Esposas (*spouse*) a bordo\n",
    "* `parch`: Número de pais/filhos a bordo\n",
    "* `fare`: Valor pago pela passagem em libras\n",
    "* `embarked`: Porto que embarcou\n",
    "    - `C`: Cherbourg\n",
    "    - `Q`: Queenstown\n",
    "    - `S`: Southampton)\n",
    "* `class`: Mesmo que `pclass` só que em texto\n",
    "* `adult_male`: *dummy* para `age > 16` e `sex == 'male'`\n",
    "* `deck`: Qual deck a cabine do passageiro se situava\n",
    "* `alive`: Mesmo que survived só que com `yes` ou `no`\n",
    "* `alone`: *dummy* para se viajava sozinho\n",
    "\n",
    ">Obs: usar `random_state = 123`"
   ]
  },
  {
   "cell_type": "markdown",
   "metadata": {
    "slideshow": {
     "slide_type": "subslide"
    }
   },
   "source": [
    "<img src=\"images/titanic.png\" alt=\"titanic\" style=\"width: 500px;\"/>"
   ]
  },
  {
   "cell_type": "code",
   "execution_count": 6,
   "metadata": {
    "slideshow": {
     "slide_type": "subslide"
    }
   },
   "outputs": [],
   "source": [
    "import seaborn as sns\n",
    "import pandas as pd\n",
    "from sklearn.model_selection import train_test_split\n",
    "titanic = sns.load_dataset('titanic')\n",
    "\n",
    "feature_names = ['pclass', 'female', 'age', 'fare']\n",
    "titanic['female'] = titanic['sex'].map({'male': 0, 'female': 1})\n",
    "titanic.dropna(subset=feature_names, inplace=True)  #891 para 714\n",
    "\n",
    "X = titanic[feature_names].to_numpy()\n",
    "y = titanic['survived'].to_numpy()\n",
    "\n",
    "X_train, X_test, y_train, y_test = train_test_split(X, y,\n",
    "                                                    test_size=0.25,\n",
    "                                                    random_state=123)"
   ]
  },
  {
   "cell_type": "code",
   "execution_count": 7,
   "metadata": {
    "slideshow": {
     "slide_type": "subslide"
    }
   },
   "outputs": [
    {
     "name": "stdout",
     "output_type": "stream",
     "text": [
      "Tamanho de X_train:  (535, 4)\n",
      "Tamanho de X_test:  (179, 4)\n",
      "Tamanho de y_train:  (535,)\n",
      "Tamanho de y_test:  (179,)\n"
     ]
    }
   ],
   "source": [
    "print('Tamanho de X_train: ', X_train.shape)\n",
    "print('Tamanho de X_test: ', X_test.shape)\n",
    "print('Tamanho de y_train: ', y_train.shape)\n",
    "print('Tamanho de y_test: ', y_test.shape)"
   ]
  },
  {
   "cell_type": "code",
   "execution_count": 8,
   "metadata": {
    "scrolled": true,
    "slideshow": {
     "slide_type": "subslide"
    }
   },
   "outputs": [
    {
     "name": "stdout",
     "output_type": "stream",
     "text": [
      "Model: \"sequential_3\"\n",
      "_________________________________________________________________\n",
      "Layer (type)                 Output Shape              Param #   \n",
      "=================================================================\n",
      "dense_9 (Dense)              (None, 4)                 20        \n",
      "_________________________________________________________________\n",
      "dropout (Dropout)            (None, 4)                 0         \n",
      "_________________________________________________________________\n",
      "dense_10 (Dense)             (None, 1)                 5         \n",
      "=================================================================\n",
      "Total params: 25\n",
      "Trainable params: 25\n",
      "Non-trainable params: 0\n",
      "_________________________________________________________________\n"
     ]
    }
   ],
   "source": [
    "model = keras.models.Sequential()  # Cria uma rede neural sequencial - feed foward\n",
    "model.add(keras.layers.Dense(4, activation='relu', input_shape=(4, ))) # primeira hidden layer\n",
    "model.add(keras.layers.Dropout(0.2))\n",
    "model.add(keras.layers.Dense(1, activation= 'sigmoid')) # output layer com ativação sigmoid\n",
    "\n",
    "model.summary()"
   ]
  },
  {
   "cell_type": "code",
   "execution_count": 9,
   "metadata": {
    "slideshow": {
     "slide_type": "fragment"
    }
   },
   "outputs": [],
   "source": [
    "model.compile(loss=keras.losses.binary_crossentropy,\n",
    "             optimizer=keras.optimizers.Adam(),\n",
    "             metrics=['accuracy'])"
   ]
  },
  {
   "cell_type": "code",
   "execution_count": 10,
   "metadata": {
    "slideshow": {
     "slide_type": "subslide"
    }
   },
   "outputs": [
    {
     "name": "stdout",
     "output_type": "stream",
     "text": [
      "Epoch 1/100\n",
      "17/17 [==============================] - 1s 25ms/step - loss: 4.0498 - accuracy: 0.6043 - val_loss: 3.0472 - val_accuracy: 0.6034\n",
      "Epoch 2/100\n",
      "17/17 [==============================] - 0s 3ms/step - loss: 3.7066 - accuracy: 0.5789 - val_loss: 2.7515 - val_accuracy: 0.6034\n",
      "Epoch 3/100\n",
      "17/17 [==============================] - 0s 3ms/step - loss: 3.1067 - accuracy: 0.5992 - val_loss: 2.4788 - val_accuracy: 0.6034\n",
      "Epoch 4/100\n",
      "17/17 [==============================] - 0s 3ms/step - loss: 3.2349 - accuracy: 0.5637 - val_loss: 2.2215 - val_accuracy: 0.6034\n",
      "Epoch 5/100\n",
      "17/17 [==============================] - 0s 3ms/step - loss: 2.7209 - accuracy: 0.5768 - val_loss: 1.9972 - val_accuracy: 0.6034\n",
      "Epoch 6/100\n",
      "17/17 [==============================] - 0s 3ms/step - loss: 2.6507 - accuracy: 0.5237 - val_loss: 1.7799 - val_accuracy: 0.6034\n",
      "Epoch 7/100\n",
      "17/17 [==============================] - 0s 3ms/step - loss: 1.9705 - accuracy: 0.6427 - val_loss: 1.5933 - val_accuracy: 0.6034\n",
      "Epoch 8/100\n",
      "17/17 [==============================] - 0s 3ms/step - loss: 1.8716 - accuracy: 0.6031 - val_loss: 1.4280 - val_accuracy: 0.6034\n",
      "Epoch 9/100\n",
      "17/17 [==============================] - 0s 3ms/step - loss: 1.7420 - accuracy: 0.5598 - val_loss: 1.2796 - val_accuracy: 0.6089\n",
      "Epoch 10/100\n",
      "17/17 [==============================] - 0s 3ms/step - loss: 1.3664 - accuracy: 0.5932 - val_loss: 1.1623 - val_accuracy: 0.6089\n",
      "Epoch 11/100\n",
      "17/17 [==============================] - 0s 3ms/step - loss: 1.4751 - accuracy: 0.5505 - val_loss: 1.0511 - val_accuracy: 0.6089\n",
      "Epoch 12/100\n",
      "17/17 [==============================] - 0s 3ms/step - loss: 1.3408 - accuracy: 0.5383 - val_loss: 0.9521 - val_accuracy: 0.6145\n",
      "Epoch 13/100\n",
      "17/17 [==============================] - 0s 3ms/step - loss: 1.1432 - accuracy: 0.5594 - val_loss: 0.8721 - val_accuracy: 0.6145\n",
      "Epoch 14/100\n",
      "17/17 [==============================] - 0s 3ms/step - loss: 1.1013 - accuracy: 0.5688 - val_loss: 0.8090 - val_accuracy: 0.6201\n",
      "Epoch 15/100\n",
      "17/17 [==============================] - 0s 3ms/step - loss: 1.0696 - accuracy: 0.5358 - val_loss: 0.7570 - val_accuracy: 0.6257\n",
      "Epoch 16/100\n",
      "17/17 [==============================] - 0s 3ms/step - loss: 0.8515 - accuracy: 0.5887 - val_loss: 0.7231 - val_accuracy: 0.6369\n",
      "Epoch 17/100\n",
      "17/17 [==============================] - 0s 3ms/step - loss: 0.8219 - accuracy: 0.5842 - val_loss: 0.6997 - val_accuracy: 0.6369\n",
      "Epoch 18/100\n",
      "17/17 [==============================] - 0s 3ms/step - loss: 0.7637 - accuracy: 0.5698 - val_loss: 0.6834 - val_accuracy: 0.6425\n",
      "Epoch 19/100\n",
      "17/17 [==============================] - 0s 3ms/step - loss: 0.7620 - accuracy: 0.5727 - val_loss: 0.6734 - val_accuracy: 0.6369\n",
      "Epoch 20/100\n",
      "17/17 [==============================] - 0s 3ms/step - loss: 0.7438 - accuracy: 0.5364 - val_loss: 0.6681 - val_accuracy: 0.6313\n",
      "Epoch 21/100\n",
      "17/17 [==============================] - 0s 3ms/step - loss: 0.7184 - accuracy: 0.6146 - val_loss: 0.6651 - val_accuracy: 0.6089\n",
      "Epoch 22/100\n",
      "17/17 [==============================] - 0s 3ms/step - loss: 0.7046 - accuracy: 0.5991 - val_loss: 0.6613 - val_accuracy: 0.5810\n",
      "Epoch 23/100\n",
      "17/17 [==============================] - 0s 3ms/step - loss: 0.7081 - accuracy: 0.5612 - val_loss: 0.6552 - val_accuracy: 0.5698\n",
      "Epoch 24/100\n",
      "17/17 [==============================] - 0s 3ms/step - loss: 0.7026 - accuracy: 0.5623 - val_loss: 0.6505 - val_accuracy: 0.5754\n",
      "Epoch 25/100\n",
      "17/17 [==============================] - 0s 3ms/step - loss: 0.6692 - accuracy: 0.5313 - val_loss: 0.6428 - val_accuracy: 0.5866\n",
      "Epoch 26/100\n",
      "17/17 [==============================] - 0s 3ms/step - loss: 0.6732 - accuracy: 0.5317 - val_loss: 0.6390 - val_accuracy: 0.5810\n",
      "Epoch 27/100\n",
      "17/17 [==============================] - 0s 3ms/step - loss: 0.6582 - accuracy: 0.5675 - val_loss: 0.6309 - val_accuracy: 0.5978\n",
      "Epoch 28/100\n",
      "17/17 [==============================] - 0s 3ms/step - loss: 0.6553 - accuracy: 0.5600 - val_loss: 0.6258 - val_accuracy: 0.6145\n",
      "Epoch 29/100\n",
      "17/17 [==============================] - 0s 3ms/step - loss: 0.6649 - accuracy: 0.5683 - val_loss: 0.6259 - val_accuracy: 0.6369\n",
      "Epoch 30/100\n",
      "17/17 [==============================] - 0s 3ms/step - loss: 0.6525 - accuracy: 0.5817 - val_loss: 0.6223 - val_accuracy: 0.6369\n",
      "Epoch 31/100\n",
      "17/17 [==============================] - 0s 3ms/step - loss: 0.6570 - accuracy: 0.5434 - val_loss: 0.6235 - val_accuracy: 0.6369\n",
      "Epoch 32/100\n",
      "17/17 [==============================] - 0s 3ms/step - loss: 0.6864 - accuracy: 0.4999 - val_loss: 0.6247 - val_accuracy: 0.6425\n",
      "Epoch 33/100\n",
      "17/17 [==============================] - 0s 3ms/step - loss: 0.6653 - accuracy: 0.5170 - val_loss: 0.6261 - val_accuracy: 0.6313\n",
      "Epoch 34/100\n",
      "17/17 [==============================] - 0s 3ms/step - loss: 0.6660 - accuracy: 0.5474 - val_loss: 0.6263 - val_accuracy: 0.6257\n",
      "Epoch 35/100\n",
      "17/17 [==============================] - 0s 3ms/step - loss: 0.6719 - accuracy: 0.5622 - val_loss: 0.6253 - val_accuracy: 0.6257\n",
      "Epoch 36/100\n",
      "17/17 [==============================] - 0s 3ms/step - loss: 0.6496 - accuracy: 0.5724 - val_loss: 0.6251 - val_accuracy: 0.6369\n",
      "Epoch 37/100\n",
      "17/17 [==============================] - 0s 3ms/step - loss: 0.6479 - accuracy: 0.6035 - val_loss: 0.6222 - val_accuracy: 0.6425\n",
      "Epoch 38/100\n",
      "17/17 [==============================] - 0s 3ms/step - loss: 0.6613 - accuracy: 0.5766 - val_loss: 0.6238 - val_accuracy: 0.6369\n",
      "Epoch 39/100\n",
      "17/17 [==============================] - 0s 3ms/step - loss: 0.6400 - accuracy: 0.5798 - val_loss: 0.6209 - val_accuracy: 0.6425\n",
      "Epoch 40/100\n",
      "17/17 [==============================] - 0s 2ms/step - loss: 0.6593 - accuracy: 0.5577 - val_loss: 0.6218 - val_accuracy: 0.6425\n",
      "Epoch 41/100\n",
      "17/17 [==============================] - 0s 3ms/step - loss: 0.6515 - accuracy: 0.5634 - val_loss: 0.6196 - val_accuracy: 0.6425\n",
      "Epoch 42/100\n",
      "17/17 [==============================] - 0s 3ms/step - loss: 0.6391 - accuracy: 0.5956 - val_loss: 0.6183 - val_accuracy: 0.6480\n",
      "Epoch 43/100\n",
      "17/17 [==============================] - 0s 3ms/step - loss: 0.6386 - accuracy: 0.5825 - val_loss: 0.6192 - val_accuracy: 0.6425\n",
      "Epoch 44/100\n",
      "17/17 [==============================] - 0s 3ms/step - loss: 0.6392 - accuracy: 0.5925 - val_loss: 0.6193 - val_accuracy: 0.6480\n",
      "Epoch 45/100\n",
      "17/17 [==============================] - 0s 3ms/step - loss: 0.6645 - accuracy: 0.5465 - val_loss: 0.6210 - val_accuracy: 0.6425\n",
      "Epoch 46/100\n",
      "17/17 [==============================] - 0s 3ms/step - loss: 0.6509 - accuracy: 0.5900 - val_loss: 0.6213 - val_accuracy: 0.6425\n",
      "Epoch 47/100\n",
      "17/17 [==============================] - 0s 3ms/step - loss: 0.6346 - accuracy: 0.5997 - val_loss: 0.6191 - val_accuracy: 0.6480\n",
      "Epoch 48/100\n",
      "17/17 [==============================] - 0s 3ms/step - loss: 0.6586 - accuracy: 0.5715 - val_loss: 0.6190 - val_accuracy: 0.6480\n",
      "Epoch 49/100\n",
      "17/17 [==============================] - 0s 3ms/step - loss: 0.6659 - accuracy: 0.5866 - val_loss: 0.6197 - val_accuracy: 0.6480\n",
      "Epoch 50/100\n",
      "17/17 [==============================] - 0s 3ms/step - loss: 0.6467 - accuracy: 0.5651 - val_loss: 0.6186 - val_accuracy: 0.6480\n",
      "Epoch 51/100\n",
      "17/17 [==============================] - 0s 3ms/step - loss: 0.6271 - accuracy: 0.5967 - val_loss: 0.6188 - val_accuracy: 0.6480\n",
      "Epoch 52/100\n",
      "17/17 [==============================] - 0s 3ms/step - loss: 0.6653 - accuracy: 0.5608 - val_loss: 0.6194 - val_accuracy: 0.6480\n",
      "Epoch 53/100\n",
      "17/17 [==============================] - 0s 3ms/step - loss: 0.6542 - accuracy: 0.5467 - val_loss: 0.6191 - val_accuracy: 0.6480\n",
      "Epoch 54/100\n",
      "17/17 [==============================] - 0s 3ms/step - loss: 0.6343 - accuracy: 0.5981 - val_loss: 0.6185 - val_accuracy: 0.6480\n",
      "Epoch 55/100\n",
      "17/17 [==============================] - 0s 3ms/step - loss: 0.6404 - accuracy: 0.5956 - val_loss: 0.6186 - val_accuracy: 0.6480\n",
      "Epoch 56/100\n",
      "17/17 [==============================] - 0s 3ms/step - loss: 0.6500 - accuracy: 0.5777 - val_loss: 0.6177 - val_accuracy: 0.6480\n",
      "Epoch 57/100\n",
      "17/17 [==============================] - 0s 3ms/step - loss: 0.6484 - accuracy: 0.5711 - val_loss: 0.6165 - val_accuracy: 0.6480\n",
      "Epoch 58/100\n",
      "17/17 [==============================] - 0s 3ms/step - loss: 0.6264 - accuracy: 0.5906 - val_loss: 0.6153 - val_accuracy: 0.6480\n",
      "Epoch 59/100\n",
      "17/17 [==============================] - 0s 3ms/step - loss: 0.6470 - accuracy: 0.5922 - val_loss: 0.6159 - val_accuracy: 0.6480\n",
      "Epoch 60/100\n",
      "17/17 [==============================] - 0s 3ms/step - loss: 0.6574 - accuracy: 0.5483 - val_loss: 0.6176 - val_accuracy: 0.6480\n",
      "Epoch 61/100\n",
      "17/17 [==============================] - 0s 3ms/step - loss: 0.6399 - accuracy: 0.5646 - val_loss: 0.6177 - val_accuracy: 0.6480\n",
      "Epoch 62/100\n",
      "17/17 [==============================] - 0s 3ms/step - loss: 0.6369 - accuracy: 0.5569 - val_loss: 0.6150 - val_accuracy: 0.6480\n",
      "Epoch 63/100\n",
      "17/17 [==============================] - 0s 4ms/step - loss: 0.6296 - accuracy: 0.5644 - val_loss: 0.6173 - val_accuracy: 0.6480\n",
      "Epoch 64/100\n",
      "17/17 [==============================] - 0s 3ms/step - loss: 0.6453 - accuracy: 0.5774 - val_loss: 0.6212 - val_accuracy: 0.6480\n",
      "Epoch 65/100\n",
      "17/17 [==============================] - 0s 3ms/step - loss: 0.6456 - accuracy: 0.5993 - val_loss: 0.6198 - val_accuracy: 0.6480\n",
      "Epoch 66/100\n",
      "17/17 [==============================] - 0s 3ms/step - loss: 0.6448 - accuracy: 0.5858 - val_loss: 0.6172 - val_accuracy: 0.6480\n",
      "Epoch 67/100\n",
      "17/17 [==============================] - 0s 3ms/step - loss: 0.6266 - accuracy: 0.6233 - val_loss: 0.6132 - val_accuracy: 0.6648\n",
      "Epoch 68/100\n",
      "17/17 [==============================] - 0s 3ms/step - loss: 0.6257 - accuracy: 0.5853 - val_loss: 0.6138 - val_accuracy: 0.6592\n",
      "Epoch 69/100\n",
      "17/17 [==============================] - 0s 3ms/step - loss: 0.6425 - accuracy: 0.5893 - val_loss: 0.6135 - val_accuracy: 0.6592\n",
      "Epoch 70/100\n",
      "17/17 [==============================] - 0s 3ms/step - loss: 0.6392 - accuracy: 0.5812 - val_loss: 0.6135 - val_accuracy: 0.6592\n",
      "Epoch 71/100\n",
      "17/17 [==============================] - 0s 3ms/step - loss: 0.6206 - accuracy: 0.6162 - val_loss: 0.6118 - val_accuracy: 0.6704\n",
      "Epoch 72/100\n",
      "17/17 [==============================] - 0s 3ms/step - loss: 0.6457 - accuracy: 0.5565 - val_loss: 0.6148 - val_accuracy: 0.6536\n",
      "Epoch 73/100\n",
      "17/17 [==============================] - 0s 3ms/step - loss: 0.6430 - accuracy: 0.5985 - val_loss: 0.6165 - val_accuracy: 0.6480\n",
      "Epoch 74/100\n",
      "17/17 [==============================] - 0s 3ms/step - loss: 0.6328 - accuracy: 0.5820 - val_loss: 0.6151 - val_accuracy: 0.6536\n",
      "Epoch 75/100\n",
      "17/17 [==============================] - 0s 3ms/step - loss: 0.6389 - accuracy: 0.5862 - val_loss: 0.6116 - val_accuracy: 0.6704\n",
      "Epoch 76/100\n",
      "17/17 [==============================] - 0s 3ms/step - loss: 0.6198 - accuracy: 0.5838 - val_loss: 0.6125 - val_accuracy: 0.6592\n",
      "Epoch 77/100\n",
      "17/17 [==============================] - 0s 3ms/step - loss: 0.6529 - accuracy: 0.5320 - val_loss: 0.6145 - val_accuracy: 0.6592\n",
      "Epoch 78/100\n",
      "17/17 [==============================] - 0s 3ms/step - loss: 0.6360 - accuracy: 0.5680 - val_loss: 0.6157 - val_accuracy: 0.6480\n",
      "Epoch 79/100\n",
      "17/17 [==============================] - 0s 3ms/step - loss: 0.6291 - accuracy: 0.5546 - val_loss: 0.6127 - val_accuracy: 0.6592\n",
      "Epoch 80/100\n",
      "17/17 [==============================] - 0s 3ms/step - loss: 0.6275 - accuracy: 0.6109 - val_loss: 0.6147 - val_accuracy: 0.6592\n",
      "Epoch 81/100\n",
      "17/17 [==============================] - 0s 3ms/step - loss: 0.6454 - accuracy: 0.5887 - val_loss: 0.6144 - val_accuracy: 0.6592\n",
      "Epoch 82/100\n",
      "17/17 [==============================] - 0s 3ms/step - loss: 0.6189 - accuracy: 0.5869 - val_loss: 0.6127 - val_accuracy: 0.6592\n",
      "Epoch 83/100\n",
      "17/17 [==============================] - 0s 3ms/step - loss: 0.6347 - accuracy: 0.5956 - val_loss: 0.6138 - val_accuracy: 0.6592\n",
      "Epoch 84/100\n",
      "17/17 [==============================] - 0s 3ms/step - loss: 0.6612 - accuracy: 0.5738 - val_loss: 0.6148 - val_accuracy: 0.6536\n",
      "Epoch 85/100\n",
      "17/17 [==============================] - 0s 3ms/step - loss: 0.6275 - accuracy: 0.5561 - val_loss: 0.6118 - val_accuracy: 0.6536\n",
      "Epoch 86/100\n",
      "17/17 [==============================] - 0s 3ms/step - loss: 0.6157 - accuracy: 0.6190 - val_loss: 0.6113 - val_accuracy: 0.6592\n",
      "Epoch 87/100\n",
      "17/17 [==============================] - 0s 3ms/step - loss: 0.6370 - accuracy: 0.5806 - val_loss: 0.6124 - val_accuracy: 0.6480\n",
      "Epoch 88/100\n",
      "17/17 [==============================] - 0s 3ms/step - loss: 0.6370 - accuracy: 0.5671 - val_loss: 0.6141 - val_accuracy: 0.6369\n",
      "Epoch 89/100\n",
      "17/17 [==============================] - 0s 3ms/step - loss: 0.6307 - accuracy: 0.5749 - val_loss: 0.6133 - val_accuracy: 0.6201\n",
      "Epoch 90/100\n",
      "17/17 [==============================] - 0s 3ms/step - loss: 0.6267 - accuracy: 0.5746 - val_loss: 0.6128 - val_accuracy: 0.6313\n",
      "Epoch 91/100\n",
      "17/17 [==============================] - 0s 3ms/step - loss: 0.6342 - accuracy: 0.5783 - val_loss: 0.6109 - val_accuracy: 0.6425\n",
      "Epoch 92/100\n",
      "17/17 [==============================] - 0s 3ms/step - loss: 0.6522 - accuracy: 0.5459 - val_loss: 0.6113 - val_accuracy: 0.6425\n",
      "Epoch 93/100\n",
      "17/17 [==============================] - 0s 3ms/step - loss: 0.6063 - accuracy: 0.5934 - val_loss: 0.6100 - val_accuracy: 0.6425\n",
      "Epoch 94/100\n",
      "17/17 [==============================] - 0s 3ms/step - loss: 0.6376 - accuracy: 0.5640 - val_loss: 0.6101 - val_accuracy: 0.6480\n",
      "Epoch 95/100\n",
      "17/17 [==============================] - 0s 3ms/step - loss: 0.6099 - accuracy: 0.6207 - val_loss: 0.6097 - val_accuracy: 0.6313\n",
      "Epoch 96/100\n",
      "17/17 [==============================] - 0s 3ms/step - loss: 0.6280 - accuracy: 0.5552 - val_loss: 0.6115 - val_accuracy: 0.6257\n",
      "Epoch 97/100\n",
      "17/17 [==============================] - 0s 3ms/step - loss: 0.6310 - accuracy: 0.5812 - val_loss: 0.6102 - val_accuracy: 0.6425\n",
      "Epoch 98/100\n",
      "17/17 [==============================] - 0s 3ms/step - loss: 0.6192 - accuracy: 0.5751 - val_loss: 0.6088 - val_accuracy: 0.6536\n",
      "Epoch 99/100\n",
      "17/17 [==============================] - 0s 3ms/step - loss: 0.6355 - accuracy: 0.5523 - val_loss: 0.6087 - val_accuracy: 0.6536\n",
      "Epoch 100/100\n",
      "17/17 [==============================] - 0s 4ms/step - loss: 0.6208 - accuracy: 0.5791 - val_loss: 0.6106 - val_accuracy: 0.6313\n"
     ]
    }
   ],
   "source": [
    "batch_size = 32  # X_train 535 / 32 = 16.71 (então são 17 batches de 32)\n",
    "epochs = 100\n",
    "\n",
    "history  = model.fit(X_train, y_train,\n",
    "                     batch_size=batch_size,\n",
    "                     epochs=epochs,\n",
    "                     verbose=1,\n",
    "                     validation_data=(X_test, y_test))"
   ]
  },
  {
   "cell_type": "code",
   "execution_count": 11,
   "metadata": {
    "slideshow": {
     "slide_type": "subslide"
    }
   },
   "outputs": [
    {
     "data": {
      "image/png": "[encoded data removed]",
      "text/plain": "<Figure size 432x288 with 1 Axes>"
     },
     "metadata": {
      "needs_background": "light"
     },
     "output_type": "display_data"
    },
    {
     "data": {
      "image/png": "[encoded data removed]",
      "text/plain": "<Figure size 432x288 with 1 Axes>"
     },
     "metadata": {
      "needs_background": "light"
     },
     "output_type": "display_data"
    }
   ],
   "source": [
    "import matplotlib.pyplot as plt\n",
    "\n",
    "# Plot acurácia de treino e validação\n",
    "plt.plot(history.history['accuracy'])\n",
    "plt.plot(history.history['val_accuracy'])\n",
    "plt.title('Acurácia do Modelo')\n",
    "plt.ylabel('Acurácia')\n",
    "plt.xlabel('Época')\n",
    "plt.legend(['Treino', 'Teste'], loc='upper left')\n",
    "plt.show()\n",
    "\n",
    "# Plot custo de treino e validação\n",
    "plt.plot(history.history['loss'])\n",
    "plt.plot(history.history['val_loss'])\n",
    "plt.title('Custo do Modelo')\n",
    "plt.ylabel('Custo')\n",
    "plt.xlabel('Época')\n",
    "plt.legend(['Treino', 'Teste'], loc='upper left')\n",
    "plt.show()"
   ]
  },
  {
   "cell_type": "markdown",
   "metadata": {
    "slideshow": {
     "slide_type": "subslide"
    }
   },
   "source": [
    "### Acurácia do Modelo\n",
    "\n",
    "Usar o comando `model.evaluate()`\n",
    "\n",
    "Para a métrica acurácia, retorna um score de acurácia `float` entre $0$ e $1$\n",
    "    \n",
    "> Obs: Regressão Logística acurácias: 0.69 Treino e 0.7 Teste\n",
    "\n",
    "> Obs: *Support Vector Machines* acurácias: 0.79 Treino e 0.75 Teste\n",
    "\n",
    "> Obs: Árvores de Decisão acurácias: 0.79 Treino e 0.79 Teste\n",
    "\n",
    "> Obs: Florestas Aleatórias acurácias: 0.84 Treino e 0.82 Teste"
   ]
  },
  {
   "cell_type": "code",
   "execution_count": 12,
   "metadata": {
    "slideshow": {
     "slide_type": "subslide"
    }
   },
   "outputs": [
    {
     "name": "stdout",
     "output_type": "stream",
     "text": [
      "6/6 [==============================] - 0s 674us/step - loss: 0.6106 - accuracy: 0.6313\n"
     ]
    },
    {
     "data": {
      "text/plain": "[0.6106314659118652, 0.6312848925590515]"
     },
     "execution_count": 12,
     "metadata": {},
     "output_type": "execute_result"
    }
   ],
   "source": [
    "model.evaluate(X_test, y_test)\n",
    "\n",
    "# X_test 179 / 32 = 5.59 (então são 6 batches de 32)"
   ]
  },
  {
   "cell_type": "markdown",
   "metadata": {
    "slideshow": {
     "slide_type": "subslide"
    }
   },
   "source": [
    "## Fazer previsões com o modelo\n",
    "\n",
    "* `model.predict(X_new)` para obter uma probabilidade `float` entre $0$ e $1$\n",
    "* `(model.predict(X_new) > 0.5).astype(\"int32\")` para obter um `int` $0$ ou $1$ representando a classe (Classificação Binária)\n",
    "* `np.argmax(model.predict(X_new), axis=-1)` para obter um `int` representando a classe (Classificação Multiclasse)"
   ]
  },
  {
   "cell_type": "code",
   "execution_count": 13,
   "metadata": {
    "slideshow": {
     "slide_type": "subslide"
    }
   },
   "outputs": [
    {
     "data": {
      "text/plain": "array([[1],\n       [1],\n       [0],\n       [0],\n       [1],\n       [0],\n       [0],\n       [0],\n       [1],\n       [0],\n       [0],\n       [0],\n       [0],\n       [1],\n       [1],\n       [0],\n       [1],\n       [1],\n       [1],\n       [0],\n       [1],\n       [1],\n       [1],\n       [0],\n       [0],\n       [1],\n       [0],\n       [0],\n       [1],\n       [0],\n       [0],\n       [0],\n       [1],\n       [0],\n       [1],\n       [1],\n       [0],\n       [0],\n       [0],\n       [1],\n       [1],\n       [0],\n       [0],\n       [1],\n       [0],\n       [0],\n       [0],\n       [0],\n       [1],\n       [0],\n       [0],\n       [0],\n       [1],\n       [1],\n       [1],\n       [0],\n       [1],\n       [1],\n       [0],\n       [0],\n       [1],\n       [1],\n       [0],\n       [0],\n       [1],\n       [1],\n       [0],\n       [0],\n       [0],\n       [0],\n       [0],\n       [1],\n       [0],\n       [0],\n       [1],\n       [1],\n       [0],\n       [0],\n       [0],\n       [0],\n       [0],\n       [0],\n       [1],\n       [1],\n       [0],\n       [1],\n       [1],\n       [1],\n       [0],\n       [0],\n       [0],\n       [1],\n       [0],\n       [0],\n       [0],\n       [0],\n       [1],\n       [1],\n       [1],\n       [0],\n       [0],\n       [1],\n       [0],\n       [1],\n       [1],\n       [0],\n       [1],\n       [0],\n       [0],\n       [0],\n       [0],\n       [1],\n       [1],\n       [1],\n       [1],\n       [0],\n       [0],\n       [1],\n       [1],\n       [0],\n       [0],\n       [0],\n       [1],\n       [0],\n       [1],\n       [0],\n       [1],\n       [0],\n       [0],\n       [0],\n       [1],\n       [0],\n       [1],\n       [0],\n       [0],\n       [0],\n       [0],\n       [0],\n       [0],\n       [1],\n       [1],\n       [0],\n       [1],\n       [0],\n       [0],\n       [0],\n       [0],\n       [0],\n       [1],\n       [0],\n       [1],\n       [1],\n       [0],\n       [0],\n       [0],\n       [0],\n       [1],\n       [0],\n       [0],\n       [0],\n       [0],\n       [0],\n       [0],\n       [0],\n       [0],\n       [1],\n       [0],\n       [1],\n       [0],\n       [1],\n       [0],\n       [1],\n       [1],\n       [1],\n       [0],\n       [1],\n       [0],\n       [1],\n       [1]], dtype=int32)"
     },
     "execution_count": 13,
     "metadata": {},
     "output_type": "execute_result"
    }
   ],
   "source": [
    "(model.predict(X_test) > 0.5).astype('int32')"
   ]
  },
  {
   "cell_type": "markdown",
   "metadata": {
    "slideshow": {
     "slide_type": "slide"
    }
   },
   "source": [
    "## Referências\n",
    "\n",
    "* Hinton, Geoffrey, Nitish Srivastava, and Kevin Swersky. “Neural Networks for Machine Learning Lecture 6a Overview of Mini--Batch Gradient Descent,” 2012.\n",
    "* Kingma, Diederik P., and Jimmy Ba. “Adam: A Method for Stochastic Optimization,” December 22, 2014. https://arxiv.org/abs/1412.6980.\n",
    "* Nesterov, Y. A method of solving a convex programming problem with convergence rate O(1/sqr(k)). Soviet Mathematics Doklady, 27:372–376, 1983.\n",
    "* Srivastava, Nitish, Geoffrey Hinton, Alex Krizhevsky, Ilya Sutskever, and Ruslan Salakhutdinov. “Dropout: A Simple Way to Prevent Neural Networks from Overfitting.” Journal of Machine Learning Research 15, no. 56 (2014): 1929–58."
   ]
  }
 ],
 "metadata": {
  "celltoolbar": "Slideshow",
  "kernelspec": {
   "display_name": "Python 3",
   "language": "python",
   "name": "python3"
  },
  "language_info": {
   "codemirror_mode": {
    "name": "ipython",
    "version": 3
   },
   "file_extension": ".py",
   "mimetype": "text/x-python",
   "name": "python",
   "nbconvert_exporter": "python",
   "pygments_lexer": "ipython3",
   "version": "3.9.2"
  },
  "rise": {
   "autolaunch": true,
   "enable_chalkboard": true,
   "progress": true,
   "scroll": true,
   "slideNumber": true
  }
 },
 "nbformat": 4,
 "nbformat_minor": 4
}