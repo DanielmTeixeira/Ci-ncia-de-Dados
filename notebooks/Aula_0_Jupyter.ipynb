{
 "cells": [
  {
   "cell_type": "markdown",
   "metadata": {
    "slideshow": {
     "slide_type": "skip"
    }
   },
   "source": [
    "[![Binder](https://mybinder.org/badge_logo.svg)](https://mybinder.org/v2/gh/storopoli/ciencia-de-dados/master?filepath=notebooks%2FAula_0_Jupyter.ipynb)\n",
    "<br>\n",
    "[![Open In Colab](https://colab.research.google.com/assets/colab-badge.svg)](https://colab.research.google.com/github/storopoli/ciencia-de-dados/blob/master/notebooks/Aula_0_Jupyter.ipynb)"
   ]
  },
  {
   "cell_type": "markdown",
   "metadata": {
    "slideshow": {
     "slide_type": "slide"
    }
   },
   "source": [
    "# Jupyter\n",
    "\n",
    "**Objetivo**: Apresentar o ambiente Jupyter Notebook."
   ]
  },
  {
   "cell_type": "markdown",
   "metadata": {
    "slideshow": {
     "slide_type": "fragment"
    }
   },
   "source": [
    "Documentação Jupyter Notebook: https://jupyter-notebook.readthedocs.io/en/stable/"
   ]
  },
  {
   "cell_type": "markdown",
   "metadata": {
    "slideshow": {
     "slide_type": "slide"
    }
   },
   "source": [
    "## Arquivo\n",
    "\n",
    "Notebooks são documentos `JSON` com extensão `.ipynb` (**iPy**thon **N**ote**b**ook) \n",
    "\n",
    "Trabalha com células:\n",
    "* Código\n",
    "* Markdown"
   ]
  },
  {
   "cell_type": "markdown",
   "metadata": {
    "slideshow": {
     "slide_type": "subslide"
    }
   },
   "source": [
    "### Salvando Notebooks\n",
    "\n",
    "* `.html`\n",
    "* `.md`\n",
    "* `.ipynb`\n",
    "* `.py`"
   ]
  },
  {
   "cell_type": "markdown",
   "metadata": {
    "slideshow": {
     "slide_type": "slide"
    }
   },
   "source": [
    "## Comandos de Células\n",
    "\n",
    "* Para rodar a célula aperte `Shift + Enter`\n",
    "* Modo Comando `Esc`\n",
    "* Modo Edição `Enter`\n",
    "* Para inserir nova célula aperte `a` (para **antes** da célula selecionada) ou `b` (para **depois** da célula selecionada)\n",
    "* Para deletar célula aperte duas vezes `d` (delete)\n",
    "* Copiar célula(s) selecionada(s) aperte `c` (copy)\n",
    "* Colar célula(s) copiada(s) aperte `v` (paste)\n",
    "* Mudar tipo:\n",
    "    * Code `y`\n",
    "    * Markdown `m`"
   ]
  },
  {
   "cell_type": "markdown",
   "metadata": {
    "slideshow": {
     "slide_type": "subslide"
    }
   },
   "source": [
    "### Célula de Código"
   ]
  },
  {
   "cell_type": "code",
   "execution_count": null,
   "metadata": {
    "slideshow": {
     "slide_type": "fragment"
    }
   },
   "outputs": [],
   "source": [
    "# Isto é uma celula de código\n",
    "\n",
    "print('Quantos cocos carrega uma andorinha?')"
   ]
  },
  {
   "cell_type": "markdown",
   "metadata": {
    "slideshow": {
     "slide_type": "subslide"
    }
   },
   "source": [
    "### Célula Markdown\n",
    "\n",
    "Veja documentação em: https://www.markdownguide.org/cheat-sheet/\n",
    "\n",
    "* LaTeX com entre dólar ( \\\\$ ): $P(A|B) = \\frac{P(B|A) P(A)}{P(B)}$\n",
    "* Código entre (\\```)\n",
    "```python\n",
    "print('Qual a velocidade de voo de uma andorinha sem carga?')\n",
    "```"
   ]
  },
  {
   "cell_type": "markdown",
   "metadata": {
    "slideshow": {
     "slide_type": "slide"
    }
   },
   "source": [
    "## Comandos `shell` \n",
    "\n",
    "Use o *bang* `!`"
   ]
  },
  {
   "cell_type": "code",
   "execution_count": null,
   "metadata": {
    "slideshow": {
     "slide_type": "subslide"
    }
   },
   "outputs": [],
   "source": [
    "!ls"
   ]
  },
  {
   "cell_type": "code",
   "execution_count": null,
   "metadata": {
    "slideshow": {
     "slide_type": "subslide"
    }
   },
   "outputs": [],
   "source": [
    "# print working directory\n",
    "!pwd"
   ]
  },
  {
   "cell_type": "markdown",
   "metadata": {
    "slideshow": {
     "slide_type": "slide"
    }
   },
   "source": [
    "## Jupyter Magic\n",
    "\n",
    "Tem [diversos](https://ipython.readthedocs.io/en/stable/interactive/magics.html), mas o que eu mais uso são:\n",
    "\n",
    "* `%timeit`: Cronometra o tempo de execução de uma **expressão** `Python`\n",
    "* `%%timeit`: Cronometra o tempo de execução de uma **célula**"
   ]
  },
  {
   "cell_type": "code",
   "execution_count": null,
   "metadata": {
    "slideshow": {
     "slide_type": "subslide"
    }
   },
   "outputs": [],
   "source": [
    "%timeit 3**999999"
   ]
  },
  {
   "cell_type": "code",
   "execution_count": null,
   "metadata": {
    "slideshow": {
     "slide_type": "fragment"
    }
   },
   "outputs": [],
   "source": [
    "%%timeit\n",
    "x = 3**999999"
   ]
  }
 ],
 "metadata": {
  "celltoolbar": "Slideshow",
  "kernelspec": {
   "display_name": "Python 3.8.5 64-bit",
   "language": "python",
   "name": "python38564bit4f0fb9f49a9f4bec8e86f3f357761f1a"
  },
  "language_info": {
   "codemirror_mode": {
    "name": "ipython",
    "version": 3
   },
   "file_extension": ".py",
   "mimetype": "text/x-python",
   "name": "python",
   "nbconvert_exporter": "python",
   "pygments_lexer": "ipython3",
   "version": "3.8.5"
  }
 },
 "nbformat": 4,
 "nbformat_minor": 4
}
