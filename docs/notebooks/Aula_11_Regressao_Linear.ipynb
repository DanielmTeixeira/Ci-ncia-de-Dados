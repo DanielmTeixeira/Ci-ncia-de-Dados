{
 "cells": [
  {
   "cell_type": "markdown",
   "metadata": {
    "slideshow": {
     "slide_type": "skip"
    }
   },
   "source": [
    "[![Binder](https://mybinder.org/badge_logo.svg)](https://mybinder.org/v2/gh/storopoli/ciencia-de-dados/master?filepath=notebooks%2FAula_11_Regressao_Linear.ipynb)\n",
    "<br>\n",
    "[![Open In Colab](https://colab.research.google.com/assets/colab-badge.svg)](https://colab.research.google.com/github/storopoli/ciencia-de-dados/blob/master/notebooks/Aula_11_Regressao_Linear.ipynb)"
   ]
  },
  {
   "cell_type": "markdown",
   "metadata": {
    "slideshow": {
     "slide_type": "slide"
    }
   },
   "source": [
    "# Regressão Linear\n",
    "\n",
    "**Objetivos**: Aprender o que é Regressão Linear e introduzir intuições sobre o Método do Gradiente e o Método do Gradiente Estocástico assim como os problemas de regressão de aprendizagem de máquina. Apresentar a biblioteca `SciKit-Learn`."
   ]
  },
  {
   "cell_type": "markdown",
   "metadata": {
    "slideshow": {
     "slide_type": "subslide"
    }
   },
   "source": [
    "## Defininição - Regressão Linear\n",
    "\n",
    "> Uma regressão linear faz uma predição simplesmente computando uma soma ponderada dos atributos (*features*), mais uma constante chamada viés (*bias*), também chamado de constante (*intercept*)."
   ]
  },
  {
   "cell_type": "markdown",
   "metadata": {
    "slideshow": {
     "slide_type": "subslide"
    }
   },
   "source": [
    "<img src=\"images/reg-linear.png\" alt=\"reg-linear\" style=\"width: 400px;\"/>"
   ]
  },
  {
   "cell_type": "markdown",
   "metadata": {
    "slideshow": {
     "slide_type": "subslide"
    }
   },
   "source": [
    "$$ \\hat{y} = \\theta_0 + \\theta_1 x_1 + \\theta_2 x_2 + \\dots + \\theta_n x_n$$\n",
    "\n",
    "$\\hat{y}$ - valor previsto\n",
    "\n",
    "$\\theta$ - parâmetro do modelo\n",
    "\n",
    "$n$ - número de atributos (*features*)\n",
    "\n",
    "$x_i$ - o valor do *inésimo* atributo (*feature*)"
   ]
  },
  {
   "cell_type": "markdown",
   "metadata": {
    "slideshow": {
     "slide_type": "fragment"
    }
   },
   "source": [
    "### Exemplo\n",
    "\n",
    "$\\mathrm{preço~de~residência} = 4500 + 1000\\times \\mathrm{quartos} + 120 \\times \\mathrm{m}^2 + 3000 \\times \\mathrm{banheiros}$"
   ]
  },
  {
   "cell_type": "markdown",
   "metadata": {
    "slideshow": {
     "slide_type": "slide"
    }
   },
   "source": [
    "## Métricas de Desempenho de uma Regressão\n",
    "\n",
    "<img src=\"images/erro-reg.png\" alt=\"erro-reg\" style=\"width: 400px;\"/>"
   ]
  },
  {
   "cell_type": "markdown",
   "metadata": {
    "slideshow": {
     "slide_type": "subslide"
    }
   },
   "source": [
    "### *Mean Squared Error* (MSE) - Erro Quadrático Médio\n",
    "\n",
    "$$MSE = \\frac{1}{m}\\Sigma_{i=1}^{m}{(\\hat{y}_i - y_i)^2}$$\n",
    "\n",
    "### *Mean Absolute Error* (MAE) - Erro Absoluto Médio\n",
    "$$MAE = \\frac{1}{m}\\Sigma_{i=1}^{m}{|\\hat{y}_i - y_i|}$$"
   ]
  },
  {
   "cell_type": "markdown",
   "metadata": {
    "slideshow": {
     "slide_type": "subslide"
    }
   },
   "source": [
    "<img src=\"images/gradient-descent.gif\" alt=\"gradient-descent-animation\" style=\"width: 500px;\"/>"
   ]
  },
  {
   "cell_type": "markdown",
   "metadata": {
    "slideshow": {
     "slide_type": "subslide"
    }
   },
   "source": [
    "<img src=\"images/gradient-descent-2.gif\" alt=\"gradient-descent-animation\" style=\"width: 500px;\"/>"
   ]
  },
  {
   "cell_type": "markdown",
   "metadata": {
    "slideshow": {
     "slide_type": "slide"
    }
   },
   "source": [
    "## Exemplo com o dataset [Boston House Prices](https://scikit-learn.org/stable/datasets/index.html#boston-dataset)\n",
    "\n",
    "\n",
    "* $N = 506$\n",
    "* Atributos: 13\n",
    "    * `CRIM` crime per capita da região\n",
    "    * `ZN` proporção de terra residencial\n",
    "    * `INDUS` proporção terra comercial não-varejista\n",
    "    * `CHAS` *Dummy* se fica as margens do Charles River (1 ou 0)\n",
    "    * `NOX` concentração de óxido nítrico (partes por 10 milhões)\n",
    "    * `RM` número de quartos\n",
    "    * `AGE` idade da residência\n",
    "    * `DIS` distância dos cinco centros de emprego de Boston\n",
    "    * `RAD` acessibilidade às rodovias radiais\n",
    "    * `TAX` valor do IPTU por 10,000 USD\n",
    "    * `PTRATIO` relação aluno-professor (*pupil-teacher ratio*) da região\n",
    "    * `B` proporção de afro-descendentes na região\n",
    "    * `LSTAT` porcentagem de população de baixa-renda\n",
    "* Variável resposta: valor da casa por 10,000 USD"
   ]
  },
  {
   "cell_type": "code",
   "execution_count": null,
   "metadata": {
    "slideshow": {
     "slide_type": "subslide"
    }
   },
   "outputs": [],
   "source": [
    "from sklearn.datasets import load_boston\n",
    "\n",
    "boston = load_boston()\n",
    "X = boston['data']\n",
    "y = boston['target']"
   ]
  },
  {
   "cell_type": "code",
   "execution_count": null,
   "metadata": {
    "slideshow": {
     "slide_type": "subslide"
    }
   },
   "outputs": [],
   "source": [
    "print('Nomes dos Atributos: ', boston['feature_names'], '\\n')\n",
    "print('Tamanho de X: ', X.shape, '\\n')\n",
    "print('Tamanho de y: ', y.shape, '\\n')"
   ]
  },
  {
   "cell_type": "markdown",
   "metadata": {
    "slideshow": {
     "slide_type": "subslide"
    }
   },
   "source": [
    "### Quebrando dataset em `train` e `test`\n",
    "\n",
    "Usar a função do Scikit-Learn [`sklearn.model_selection.train_test_split()`](https://scikit-learn.org/stable/modules/generated/sklearn.model_selection.train_test_split.html)\n",
    "\n",
    "#### Argumentos:\n",
    "\n",
    "* matriz a ser dividida - `X` ou `y`\n",
    "* `test_size` - `float` ou `int` do tamanho do dataset de teste (padrão $0.25$)\n",
    "* `train_size` - padrão `1 - test_size`\n",
    "* `random_state` - `int` - seed do gerador de número randômicos (replicabilidade)"
   ]
  },
  {
   "cell_type": "code",
   "execution_count": null,
   "metadata": {
    "slideshow": {
     "slide_type": "subslide"
    }
   },
   "outputs": [],
   "source": [
    "from sklearn.model_selection import train_test_split\n",
    "\n",
    "X_train, X_test, y_train, y_test = train_test_split(X, y, test_size=0.25, random_state=123)"
   ]
  },
  {
   "cell_type": "code",
   "execution_count": null,
   "metadata": {
    "slideshow": {
     "slide_type": "subslide"
    }
   },
   "outputs": [],
   "source": [
    "print('Tamanho de X_train: ', X_train.shape, '\\n')\n",
    "print('Tamanho de X_test: ', X_test.shape, '\\n')\n",
    "print('Tamanho de y_train: ', y_train.shape, '\\n')\n",
    "print('Tamanho de y_test: ', y_test.shape, '\\n')"
   ]
  },
  {
   "cell_type": "markdown",
   "metadata": {
    "slideshow": {
     "slide_type": "subslide"
    }
   },
   "source": [
    "### Regressão Linear\n",
    "Usar a função do Scikit-Learn [`sklearn.linear_model.SGDRegressor()`](https://scikit-learn.org/stable/modules/generated/sklearn.linear_model.SGDRegressor.html)\n",
    "\n",
    "#### Argumentos:\n",
    "* `loss` - `str`\n",
    "    * MSE - `'squared_loss'`\n",
    "    * MAE - `'epsilon_insensitive'`\n",
    "* `max_iter` - `int` - Número máximo de iterações do *Gradient Descent*\n",
    "* `tol` - Tolerância - Critério de parada de treino\n",
    "* `random_state` - `int` - seed do gerador de número randômicos (replicabilidade)\n",
    "* `eta0` - `float` - Taxa de aprendizagem inicial\n",
    "    * padrão `0.01`\n",
    "* `learning_rate` - `str` - Taxa de aprendizagem\n",
    "    * Constante - `'constant'`\n",
    "    * Adapatativa - `'adaptive'`\n",
    "* `n_iter_no_change` - `int` - Somente se usar Taxa de Aprendizagem Adaptativa\n",
    "\n",
    "#### Retorna:\n",
    "* Objeto `estimator` do Scikit-Learn"
   ]
  },
  {
   "cell_type": "code",
   "execution_count": null,
   "metadata": {
    "slideshow": {
     "slide_type": "subslide"
    }
   },
   "outputs": [],
   "source": [
    "from sklearn.linear_model import SGDRegressor\n",
    "\n",
    "clf = SGDRegressor(loss='squared_loss', learning_rate='constant', max_iter=10,\n",
    "                   eta0=0.01, verbose=1, tol=None, random_state=123)"
   ]
  },
  {
   "cell_type": "markdown",
   "metadata": {
    "slideshow": {
     "slide_type": "subslide"
    }
   },
   "source": [
    "### Classe `Estimators`\n",
    "\n",
    "* `.fit()` - Treina o Modelo\n",
    "    * `X`\n",
    "    * `y`\n",
    "* `.predict()` - Gera predições do modelo\n",
    "    * `X`\n",
    "* `.coef_` - Retorna os coeficientes do modelo ($\\theta_i$)\n",
    "* `.intercept_` - Retorna o viés/constante (*bias/intercept*) do modelo ($\\theta_0$)"
   ]
  },
  {
   "cell_type": "code",
   "execution_count": null,
   "metadata": {
    "slideshow": {
     "slide_type": "subslide"
    }
   },
   "outputs": [],
   "source": [
    "clf.fit(X_train, y_train)"
   ]
  },
  {
   "cell_type": "code",
   "execution_count": null,
   "metadata": {},
   "outputs": [],
   "source": [
    "clf.coef_.tolist()"
   ]
  },
  {
   "cell_type": "code",
   "execution_count": null,
   "metadata": {
    "slideshow": {
     "slide_type": "subslide"
    }
   },
   "outputs": [],
   "source": [
    "# Coeficientes do modelo\n",
    "for feature, coef in zip(boston['feature_names'].tolist(), clf.coef_.tolist()):\n",
    "    print(f\"{feature}: {int(coef)}\")\n",
    "\n",
    "# Constante do modelo\n",
    "print(f\"Constante: {int(clf.intercept_)}\")"
   ]
  },
  {
   "cell_type": "markdown",
   "metadata": {
    "slideshow": {
     "slide_type": "slide"
    }
   },
   "source": [
    "### Erro do Modelo\n",
    "\n",
    "Erro do Modelo é $\\pm \\sqrt{MSE}$"
   ]
  },
  {
   "cell_type": "code",
   "execution_count": null,
   "metadata": {
    "slideshow": {
     "slide_type": "subslide"
    }
   },
   "outputs": [],
   "source": [
    "from sklearn.metrics import mean_absolute_error, mean_squared_error\n",
    "\n",
    "y_pred = clf.predict(X_test)\n",
    "\n",
    "print(f\"Acurácia de Teste: ±{mean_absolute_error(y_test, y_pred):1.0f}\")"
   ]
  },
  {
   "cell_type": "markdown",
   "metadata": {
    "slideshow": {
     "slide_type": "slide"
    }
   },
   "source": [
    "### Efeito da Taxa de Aprendizagem $\\eta$"
   ]
  },
  {
   "cell_type": "code",
   "execution_count": null,
   "metadata": {
    "scrolled": true,
    "slideshow": {
     "slide_type": "subslide"
    }
   },
   "outputs": [],
   "source": [
    "# inicia duas listas vazias\n",
    "mae_train_values = []\n",
    "mae_test_values = []\n",
    "\n",
    "# Eixo X do grafico\n",
    "x_axis = np.linspace(1e-6, 1, 1000)\n",
    "\n",
    "for i in x_axis:\n",
    "    clf =  clf.set_params(eta0=i)\n",
    "    clf.fit(X_train, y_train)\n",
    "    \n",
    "    y_train_pred = clf.predict(X_train)\n",
    "    mae_train = mean_absolute_error(y_train, y_train_pred)\n",
    "    mae_train_values.append(mae_train)\n",
    "    \n",
    "    y_test_pred = clf.predict(X_test)\n",
    "    mae_test = mean_absolute_error(y_test, y_test_pred)\n",
    "    mae_test_values.append(mae_test)\n",
    "    \n",
    "\n",
    "plt.plot(x_axis, mae_train_values, label='Erro de Treino')\n",
    "plt.plot(x_axis, mae_test_values, label='Erro de Teste')\n",
    "plt.xlabel('Taxa de aprendizagem $\\eta$')\n",
    "plt.ylabel('$MAE$')\n",
    "plt.legend()\n",
    "plt.title('Comparação Erro de Treino vs Erro de Teste')\n",
    "plt.show()"
   ]
  },
  {
   "cell_type": "markdown",
   "metadata": {
    "slideshow": {
     "slide_type": "slide"
    }
   },
   "source": [
    "### Efeito do Número de Iterações"
   ]
  },
  {
   "cell_type": "code",
   "execution_count": null,
   "metadata": {
    "slideshow": {
     "slide_type": "subslide"
    }
   },
   "outputs": [],
   "source": [
    "# inicia duas listas vazias\n",
    "mae_train_values = []\n",
    "mae_test_values = []\n",
    "\n",
    "# Eixo X do grafico\n",
    "x_axis = np.linspace(10, 100000, 10)\n",
    "\n",
    "for i in x_axis:\n",
    "    clf.set_params(max_iter=i, eta0=1e-7)  # 0.0000007\n",
    "    clf.fit(X_train, y_train)\n",
    "    \n",
    "    y_train_pred = clf.predict(X_train)\n",
    "    mae_train = mean_absolute_error(y_train, y_train_pred)\n",
    "    mae_train_values.append(mae_train)\n",
    "    \n",
    "    y_test_pred = clf.predict(X_test)\n",
    "    mae_test = mean_absolute_error(y_test, y_test_pred)\n",
    "    mae_test_values.append(mae_test)\n",
    "    \n",
    "\n",
    "plt.plot(x_axis, mae_train_values, label='Erro de Treino')\n",
    "plt.plot(x_axis, mae_test_values, label='Erro de Teste')\n",
    "plt.xlabel('Número de Iterações')\n",
    "plt.ylabel('$MAE$')\n",
    "plt.legend()\n",
    "plt.title('Comparação Erro de Treino vs Erro de Teste')\n",
    "plt.show()"
   ]
  },
  {
   "cell_type": "markdown",
   "metadata": {
    "slideshow": {
     "slide_type": "slide"
    }
   },
   "source": [
    "## Atividade - Regressão com o dataset [Diabetes](https://scikit-learn.org/stable/datasets/index.html#diabetes-dataset)\n",
    "\n",
    "* $N = 442$\n",
    "* Atributos: 10\n",
    "    * `age`\n",
    "    * `sex`\n",
    "    * `bmi` Índice de Massa Corpórea (IMC) - *Body Mass Index* (BMI)\n",
    "    * `bp` pressão arterial média *blood pressure* (bp)\n",
    "    * `s1` colesterol total\n",
    "    * `s2` colesterol LDL\n",
    "    * `s3` colesterol HDL\n",
    "    * `s4` colesterol VLDL\n",
    "    * `s5` triglicerides\n",
    "    * `s6` glicose\n",
    "* Variável dependente: medida quantitativa de progressão da diabetes\n",
    "\n",
    "* Achar o melhor `eta0` e os respectivos coeficientes dos atributos ($\\theta_i$) e viés/constante ($\\theta_0$)\n",
    "\n",
    ">Obs: usar `test_size = 0.25` e `random_state = 123`"
   ]
  },
  {
   "cell_type": "code",
   "execution_count": null,
   "metadata": {
    "slideshow": {
     "slide_type": "subslide"
    }
   },
   "outputs": [],
   "source": [
    "from sklearn.datasets import load_diabetes\n",
    "\n",
    "diabetes = load_diabetes()\n",
    "X = diabetes['data']\n",
    "y = diabetes['target']"
   ]
  },
  {
   "cell_type": "code",
   "execution_count": null,
   "metadata": {
    "slideshow": {
     "slide_type": "subslide"
    }
   },
   "outputs": [],
   "source": [
    "print('Nomes dos Atributos: ', diabetes['feature_names'], '\\n')\n",
    "print('Tamanho de X: ', X.shape, '\\n')\n",
    "print('Tamanho de y: ', y.shape, '\\n')"
   ]
  },
  {
   "cell_type": "code",
   "execution_count": null,
   "metadata": {
    "slideshow": {
     "slide_type": "subslide"
    }
   },
   "outputs": [],
   "source": [
    "from sklearn.model_selection import train_test_split\n",
    "\n",
    "X_train, X_test, y_train, y_test = train_test_split(X, y, test_size=0.25, random_state=123)"
   ]
  },
  {
   "cell_type": "code",
   "execution_count": null,
   "metadata": {
    "slideshow": {
     "slide_type": "subslide"
    }
   },
   "outputs": [],
   "source": [
    "print('Tamanho de X_train: ', X_train.shape, '\\n')\n",
    "print('Tamanho de X_test: ', X_test.shape, '\\n')\n",
    "print('Tamanho de y_train: ', y_train.shape, '\\n')\n",
    "print('Tamanho de y_test: ', y_test.shape, '\\n')"
   ]
  }
 ],
 "metadata": {
  "celltoolbar": "Slideshow",
  "kernelspec": {
   "display_name": "Python 3",
   "language": "python",
   "name": "python3"
  },
  "language_info": {
   "codemirror_mode": {
    "name": "ipython",
    "version": 3
   },
   "file_extension": ".py",
   "mimetype": "text/x-python",
   "name": "python",
   "nbconvert_exporter": "python",
   "pygments_lexer": "ipython3",
   "version": "3.8.5"
  }
 },
 "nbformat": 4,
 "nbformat_minor": 4
}
