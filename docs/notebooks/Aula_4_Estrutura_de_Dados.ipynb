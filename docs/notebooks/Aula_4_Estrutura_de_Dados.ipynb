{
 "cells": [
  {
   "cell_type": "markdown",
   "metadata": {
    "slideshow": {
     "slide_type": "skip"
    }
   },
   "source": [
    "[![Binder](https://mybinder.org/badge_logo.svg)](https://mybinder.org/v2/gh/storopoli/ciencia-de-dados/master?filepath=notebooks%2FAula_4_Estrutura_de_Dados.ipynb)\n",
    "<br>\n",
    "[![Open In Colab](https://colab.research.google.com/assets/colab-badge.svg)](https://colab.research.google.com/github/storopoli/ciencia-de-dados/blob/master/notebooks/Aula_4_Estrutura_de_Dados.ipynb)"
   ]
  },
  {
   "cell_type": "markdown",
   "metadata": {
    "slideshow": {
     "slide_type": "slide"
    }
   },
   "source": [
    "# Estruturas de Dados (`list` e `dict`)\n",
    "\n",
    "**Objetivos**: Apresentar as estruturas de dados (`list` e `dict`)"
   ]
  },
  {
   "cell_type": "markdown",
   "metadata": {
    "slideshow": {
     "slide_type": "fragment"
    }
   },
   "source": [
    "Python trabalha com diferentes estrutura de dados. As duas principais estruturas de dados que Python trabalha são:\n",
    "* lista (`list`)\n",
    "* dicionário (`dict`)"
   ]
  },
  {
   "cell_type": "markdown",
   "metadata": {
    "slideshow": {
     "slide_type": "slide"
    }
   },
   "source": [
    "## Lista (`list`)\n",
    "\n",
    "Lista, também como conhecido como *list*, é uma estrutura de dados que possui nenhum, um ou mais itens, que estão ordenados. Os itens são conhecidos também como elementos. Ela é flexível, ou seja, podemos adicionar novos itens na lista, podemos alterar itens existentes, podemos remover itens da lista, tudo isto de forma dinâmica.\n",
    "\n",
    "Em Python, uma lista é representada por uma sequencia de itens, separados por vírgula e dentro de colchetes `[]`. Uma lista vazia é representada por colchetes sem nenhuma informação presente entre os colchetes."
   ]
  },
  {
   "cell_type": "code",
   "execution_count": null,
   "metadata": {
    "slideshow": {
     "slide_type": "subslide"
    }
   },
   "outputs": [],
   "source": [
    "lista_vazia = []\n",
    "lista_campus = [\"Vergueiro\", \"Memorial\", \"Vila Prudente\", \"Santo Amaro\", \"Vila Maria\"]"
   ]
  },
  {
   "cell_type": "markdown",
   "metadata": {
    "slideshow": {
     "slide_type": "subslide"
    }
   },
   "source": [
    "### Tipos de variáveis de uma lista\n",
    "\n",
    "A lista pode acomodar qualquer tipo de variável"
   ]
  },
  {
   "cell_type": "code",
   "execution_count": null,
   "metadata": {
    "slideshow": {
     "slide_type": "fragment"
    }
   },
   "outputs": [],
   "source": [
    "lista_mista = [\"Presidente\", 3, 34.2, None, True]"
   ]
  },
  {
   "cell_type": "markdown",
   "metadata": {
    "slideshow": {
     "slide_type": "subslide"
    }
   },
   "source": [
    "### Acessar elementos de uma lista\n",
    "\n",
    "Para acessar elementos de uma lista use `lista[<numero do elemento>]`.\n",
    "\n",
    "*Lembre-se que Python é indexado em zero $0$*"
   ]
  },
  {
   "cell_type": "code",
   "execution_count": null,
   "metadata": {
    "slideshow": {
     "slide_type": "fragment"
    }
   },
   "outputs": [],
   "source": [
    "print(lista_mista[0]) #primeiro elemento\n",
    "print(lista_campus[2]) #terceiro elemento"
   ]
  },
  {
   "cell_type": "markdown",
   "metadata": {
    "slideshow": {
     "slide_type": "subslide"
    }
   },
   "source": [
    "### Listas e `FOR` loops\n",
    "\n",
    "Listas podem ser iteradas com `for` loops"
   ]
  },
  {
   "cell_type": "code",
   "execution_count": null,
   "metadata": {
    "slideshow": {
     "slide_type": "fragment"
    }
   },
   "outputs": [],
   "source": [
    "for campus in lista_campus:\n",
    "    print(campus)\n",
    "for i in lista_mista:\n",
    "    print(type(i))"
   ]
  },
  {
   "cell_type": "markdown",
   "metadata": {
    "slideshow": {
     "slide_type": "subslide"
    }
   },
   "source": [
    "### Operações com lista\n",
    "\n",
    "* Adição e remoção: `append` e `remove`\n",
    "* Contar o número de items: `count`\n",
    "* Quantidade de itens: `len`\n",
    "* Arrumar: `sort`"
   ]
  },
  {
   "cell_type": "code",
   "execution_count": null,
   "metadata": {
    "slideshow": {
     "slide_type": "fragment"
    }
   },
   "outputs": [],
   "source": [
    "lista_campus = [\"Vergueiro\", \"Memorial\", \"Vila Prudente\", \"Santo Amaro\", \"Vila Maria\"]\n",
    "lista_campus.append(\"Memorial\")\n",
    "lista_campus.remove(\"Vergueiro\")\n",
    "print(lista_campus.count(\"Memorial\"))\n",
    "print(lista_campus.count(\"Vergueiro\"))\n",
    "\n",
    "lista_campus.sort()\n",
    "print(lista_campus)\n",
    "print(len(lista_campus))"
   ]
  },
  {
   "cell_type": "markdown",
   "metadata": {
    "slideshow": {
     "slide_type": "subslide"
    }
   },
   "source": [
    "### Mais operações com listas\n",
    "* Adição de listas: `list_1` + `list_2` ou `list_1.extend(list_2)`"
   ]
  },
  {
   "cell_type": "code",
   "execution_count": null,
   "metadata": {
    "slideshow": {
     "slide_type": "fragment"
    }
   },
   "outputs": [],
   "source": [
    "lista_campus = [\"Vergueiro\", \"Memorial\", \"Vila Prudente\", \"Santo Amaro\", \"Vila Maria\"]\n",
    "lista_numeros = [1, 2, 3, 4, 5]\n",
    "\n",
    "print(lista_campus + lista_numeros)\n",
    "lista_campus.extend(lista_numeros)\n",
    "print(lista_campus)"
   ]
  },
  {
   "cell_type": "markdown",
   "metadata": {
    "slideshow": {
     "slide_type": "subslide"
    }
   },
   "source": [
    "### Pertencimento a lista\n",
    "\n",
    "Para verificar se um elemento pertence a lista use o operador `in` e para verificar se não pertence use o `not in`"
   ]
  },
  {
   "cell_type": "code",
   "execution_count": null,
   "metadata": {
    "scrolled": true,
    "slideshow": {
     "slide_type": "fragment"
    }
   },
   "outputs": [],
   "source": [
    "lista_numeros = [1, 2, 3, 4, 5]\n",
    "\n",
    "print(3 in lista_numeros)\n",
    "print(4 not in lista_numeros)"
   ]
  },
  {
   "cell_type": "markdown",
   "metadata": {
    "slideshow": {
     "slide_type": "subslide"
    }
   },
   "source": [
    "### Fatiar (`slice`) uma lista\n",
    "\n",
    "Para fatiar (*slice*) uma lista use o `:` e o índice (indexado em zero)\n",
    "\n",
    "```python\n",
    "lista[1:3]\n",
    "```\n",
    "\n",
    "*Cuidado que o intervalo final é não inclusivo*"
   ]
  },
  {
   "cell_type": "code",
   "execution_count": null,
   "metadata": {
    "slideshow": {
     "slide_type": "fragment"
    }
   },
   "outputs": [],
   "source": [
    "lista_campus = [\"Vergueiro\",\n",
    "                \"Memorial\",\n",
    "                \"Vila Prudente\",\n",
    "                \"Santo Amaro\",\n",
    "                \"Vila Maria\"]\n",
    "\n",
    "print(lista_campus[1:3])  # lista_campus[1] e lista_campus[2]\n",
    "print(lista_campus[3:])\n",
    "print(lista_campus[:3])\n",
    "print(lista_campus[2:])"
   ]
  },
  {
   "cell_type": "markdown",
   "metadata": {
    "slideshow": {
     "slide_type": "slide"
    }
   },
   "source": [
    "## Dicionários (`dict`)\n",
    "\n",
    "Dicionário, também como conhecido como `dict`, é uma estrutura de dados que possui nenhum, um ou mais itens, que não estão ordenados porém estão **indexados**. Os itens são conhecidos também como elementos. Ela é flexível, ou seja, podemos adicionar novos itens no dicionário, podemos alterar itens existentes, podemos remover itens do dicionário, tudo isto de forma dinâmica.\n",
    "\n",
    "O dicionário é composto por uma tupla CHAVE (`key`) e VALOR (`value`). O dicionário é indexado pela CHAVE.\n",
    "\n",
    "```python\n",
    "<nome do dicionario> = {<chave_01>: <valor_01>, <chave_02>: <valor_02>, <chave_03>: <valor_03>}\n",
    "```"
   ]
  },
  {
   "cell_type": "code",
   "execution_count": null,
   "metadata": {
    "slideshow": {
     "slide_type": "subslide"
    }
   },
   "outputs": [],
   "source": [
    "dicionario = {'RA': 123,\n",
    "              'nome': \"Alexandre\",\n",
    "              'idade': 23,\n",
    "              'AV1': 7,\n",
    "              'AV2': 9}"
   ]
  },
  {
   "cell_type": "markdown",
   "metadata": {
    "slideshow": {
     "slide_type": "subslide"
    }
   },
   "source": [
    "### Operações com dicionários\n",
    "* Acessar valor de uma chave: `dict[key]`\n",
    "* Alterar o valor de uma chave: `dict[key] = novo_valor`\n",
    "* Para iterar todas as chaves e valores: `for key, value in dict.items()`\n",
    "* Verificar pertencimento: `if chave_desejada in dict:` ou `if valor_desejado in dict.items()`"
   ]
  },
  {
   "cell_type": "code",
   "execution_count": null,
   "metadata": {
    "slideshow": {
     "slide_type": "fragment"
    }
   },
   "outputs": [],
   "source": [
    "print(\"dicionario[RA]: \", dicionario['RA'])\n",
    "\n",
    "dicionario['RA'] = 456\n",
    "\n",
    "print(\"dicionario[RA] - após dicionario[RA] = 456: \", dicionario[\"RA\"])"
   ]
  },
  {
   "cell_type": "code",
   "execution_count": null,
   "metadata": {
    "scrolled": true,
    "slideshow": {
     "slide_type": "subslide"
    }
   },
   "outputs": [],
   "source": [
    "for i in dicionario:\n",
    "    print(i)"
   ]
  },
  {
   "cell_type": "code",
   "execution_count": null,
   "metadata": {
    "slideshow": {
     "slide_type": "fragment"
    }
   },
   "outputs": [],
   "source": [
    "for key, value in dicionario.items():\n",
    "    print(key, value)"
   ]
  },
  {
   "cell_type": "markdown",
   "metadata": {
    "slideshow": {
     "slide_type": "slide"
    }
   },
   "source": [
    "## Atividade Lista\n",
    "\n",
    "1. Crie uma lista com todos os número primos até $100$\n",
    "2. Crie uma lista vazia chamada `log_numeros_primos`\n",
    "3. Crie um `for` loop para cada item da lista de números primos e peça para calcular o log do item e adicioná-lo à lista `log_numeros_primos`\n",
    "4. Imprima todos os items do décimo até o vigésimo da lista `log_numeros_primos` (*cuidado com indexação não-inclusiva*)"
   ]
  },
  {
   "cell_type": "code",
   "execution_count": null,
   "metadata": {
    "slideshow": {
     "slide_type": "fragment"
    }
   },
   "outputs": [],
   "source": [
    "from math import log\n",
    "\n",
    "numeros_primos = [2, 3, 5, 7, 11, 13, 17, 19, 23, 29, 31, 37, 41, 43, 47, 53, 59, 61, 67, 71, 73, 79, 83, 89, 97]\n",
    "\n",
    "for $$ in $$:\n",
    "    $$$$\n",
    "\n",
    "print()"
   ]
  },
  {
   "cell_type": "markdown",
   "metadata": {
    "slideshow": {
     "slide_type": "slide"
    }
   },
   "source": [
    "## Atividade Dicionário\n",
    "\n",
    "Crie um dicionário dos primeiros $100$ números primos com a chave sendo o número primo e valor a raíz quadrada do número primo.\n",
    "\n",
    "Observação: use `dict[key] = novo_valor`"
   ]
  },
  {
   "cell_type": "code",
   "execution_count": null,
   "metadata": {
    "slideshow": {
     "slide_type": "fragment"
    }
   },
   "outputs": [],
   "source": [
    "from math import sqrt\n",
    "\n",
    "numeros_primos = [2, 3, 5, 7, 11, 13, 17, 19, 23, 29, 31, 37, 41, 43, 47, 53, 59, 61, 67, 71, 73, 79, 83, 89, 97]\n",
    "\n",
    "primos_raiz = {}\n",
    "\n",
    "for $$ in $$:\n",
    "    $$$$"
   ]
  }
 ],
 "metadata": {
  "celltoolbar": "Slideshow",
  "kernelspec": {
   "display_name": "Python [conda env:graduacao]",
   "language": "python",
   "name": "conda-env-graduacao-py"
  },
  "language_info": {
   "codemirror_mode": {
    "name": "ipython",
    "version": 3
   },
   "file_extension": ".py",
   "mimetype": "text/x-python",
   "name": "python",
   "nbconvert_exporter": "python",
   "pygments_lexer": "ipython3",
   "version": "3.8.5"
  }
 },
 "nbformat": 4,
 "nbformat_minor": 4
}
